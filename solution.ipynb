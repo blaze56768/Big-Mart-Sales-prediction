{
 "cells": [
  {
   "cell_type": "markdown",
   "id": "38bfd11f-7f61-4215-a0cf-9df4fb44621c",
   "metadata": {},
   "source": [
    "# Big Mart Sales Prediction"
   ]
  },
  {
   "cell_type": "markdown",
   "id": "da56ecaa-dfa1-46af-866a-a8c6c82153dc",
   "metadata": {},
   "source": [
    "## 1. load Libraries"
   ]
  },
  {
   "cell_type": "code",
   "execution_count": 3,
   "id": "de9c8b94-a96b-40be-b53d-d699e751ab7e",
   "metadata": {},
   "outputs": [],
   "source": [
    "import pandas as pd\n",
    "import numpy as np\n",
    "import matplotlib.pyplot as plt\n",
    "import seaborn as sns\n",
    "%matplotlib inline\n",
    "\n",
    "from sklearn.preprocessing import LabelEncoder\n",
    "from sklearn.model_selection import train_test_split, GridSearchCV\n",
    "from sklearn.metrics import mean_squared_error\n",
    "from sklearn.linear_model import LinearRegression\n",
    "from sklearn.ensemble import RandomForestRegressor\n",
    "import xgboost as xgb\n",
    "\n",
    "import warnings\n",
    "warnings.filterwarnings(\"ignore\")\n",
    "\n",
    "import pickle"
   ]
  },
  {
   "cell_type": "code",
   "execution_count": 209,
   "id": "a1a637ac-6ff1-445d-8ad2-cc68d1bec298",
   "metadata": {},
   "outputs": [],
   "source": [
    "# ==================== General Purpose ====================\n",
    "import warnings\n",
    "warnings.filterwarnings(\"ignore\")\n",
    "\n",
    "import numpy as np\n",
    "import pandas as pd\n",
    "\n",
    "# Display settings\n",
    "pd.set_option('display.max_columns', 50)\n",
    "pd.set_option('display.max_rows', 500)\n",
    "\n",
    "# ==================== Visualization ====================\n",
    "import matplotlib.pyplot as plt\n",
    "import seaborn as sns\n",
    "%matplotlib inline\n",
    "\n",
    "# Set consistent style and color palette\n",
    "sns.set_theme(style=\"whitegrid\", palette=\"Set2\")\n",
    "plt.rcParams[\"figure.figsize\"] = (10, 6)\n",
    "\n",
    "# ==================== Statistical Tools ====================\n",
    "from scipy.stats import zscore\n",
    "\n",
    "# ==================== Preprocessing ====================\n",
    "from sklearn.impute import KNNImputer, SimpleImputer\n",
    "from sklearn.preprocessing import StandardScaler\n",
    "from sklearn.model_selection import train_test_split\n",
    "from sklearn.pipeline import Pipeline\n",
    "\n",
    "# ==================== Feature Engineering ====================\n",
    "from sklearn.feature_selection import mutual_info_classif\n",
    "\n",
    "# ==================== Modeling ====================\n",
    "from sklearn.ensemble import RandomForestClassifier\n",
    "from sklearn.dummy import DummyClassifier\n",
    "from sklearn.cluster import KMeans\n",
    "from xgboost import XGBClassifier\n",
    "from sklearn.model_selection import StratifiedKFold, cross_val_score\n",
    "\n",
    "\n",
    "# ==================== Imbalanced Data Handling ====================\n",
    "from imblearn.over_sampling import SMOTE\n",
    "\n",
    "# ==================== Hyperparameter Tuning ====================\n",
    "from sklearn.model_selection import GridSearchCV\n",
    "import optuna\n",
    "\n",
    "# ==================== Evaluation ====================\n",
    "from sklearn.metrics import (\n",
    "    roc_auc_score, precision_recall_curve, auc,\n",
    "    f1_score, classification_report, confusion_matrix, make_scorer\n",
    ")\n",
    "\n",
    "# ==================== Explainability ====================\n",
    "import shap"
   ]
  },
  {
   "cell_type": "code",
   "execution_count": 5,
   "id": "2263c421-0871-4e0d-836c-1c4599a220eb",
   "metadata": {},
   "outputs": [],
   "source": [
    "config = {\n",
    "        \"base_path\": '/Users/A117870943/Documents/documents/Assignment/Analytics_vidya/data/'\n",
    "         }"
   ]
  },
  {
   "cell_type": "code",
   "execution_count": 6,
   "id": "7aac6825-d625-48d7-8311-08606c5217f8",
   "metadata": {},
   "outputs": [],
   "source": [
    "class EDAUtils:\n",
    "    \"\"\"\n",
    "    A utility class for performing exploratory data analysis (EDA) on a pandas DataFrame.\n",
    "    \n",
    "    Methods include:\n",
    "    - Column type detection\n",
    "    - Summary statistics for numeric/categorical columns\n",
    "    - Visualization utilities (e.g., bar plots, KDE, boxplots)\n",
    "    - Mutual information computation\n",
    "    \"\"\"\n",
    "    \n",
    "    @staticmethod\n",
    "    def load_data(config, path):\n",
    "        \"\"\"\n",
    "        Load CSV data from the specified path.\n",
    "    \n",
    "        Args:\n",
    "            config: Dictionary containing base_path.\n",
    "            path: Relative path to the CSV file.\n",
    "    \n",
    "        Returns:\n",
    "            Loaded DataFrame.\n",
    "        \"\"\"\n",
    "        \n",
    "        df = pd.read_csv(config['base_path'] + path)\n",
    "        print(\"Shape of Data:\", df.shape)\n",
    "        return df\n",
    "\n",
    "    @staticmethod\n",
    "    def get_percentage(df, col):\n",
    "        \"\"\"\n",
    "        Calculate the percentage of each category in the given column.\n",
    "    \n",
    "        Args:\n",
    "            df: Input DataFrame.\n",
    "            col: Column name.\n",
    "    \n",
    "        Returns:\n",
    "            A Series with percentage distribution.\n",
    "        \"\"\"\n",
    "        percentages = 100 * df[col].value_counts(normalize=True)\n",
    "        print(percentages)\n",
    "\n",
    "    @staticmethod\n",
    "    def get_cols(df):\n",
    "        \"\"\"\n",
    "        Identify numerical and categorical variables in the DataFrame.\n",
    "    \n",
    "        Args:\n",
    "            df: Input DataFrame.\n",
    "    \n",
    "        Returns:\n",
    "            lists: (numerical_columns, categorical_columns)\n",
    "        \"\"\"\n",
    "        numeric_var = df.select_dtypes(include=['int64', 'float64']).columns.tolist()\n",
    "        cat_var = df.select_dtypes(include=['object']).columns.tolist()\n",
    "        \n",
    "        return numeric_var, cat_var\n",
    "    \n",
    "    # @staticmethod\n",
    "    # def segregate_cols(df):\n",
    "    #     \"\"\"\n",
    "    #     Identify numerical and categorical variables in the DataFrame.\n",
    "    \n",
    "    #     Args:\n",
    "    #         df: Input DataFrame.\n",
    "    \n",
    "    #     Returns:\n",
    "    #         lists: (numerical_columns, categorical_columns)\n",
    "    #     \"\"\"\n",
    "            \n",
    "\n",
    "    #     id_col = ['id','slot_date']\n",
    "    #     label_col = ['status']\n",
    "    #     num_var, cat_var = self.get_cols(df)\n",
    "    #     cat_var = [col for col in cat_var if col not in id_col+label_col]\n",
    "    \n",
    "    #     return num_var, cat_var\n",
    "\n",
    "    @staticmethod\n",
    "    def possible_cat_vars(df, num_var ,max_unique=10):\n",
    "        \"\"\"\n",
    "        Identify numerical columns that may be ordinal based on unique integer values.\n",
    "    \n",
    "        Args:\n",
    "            df (pd.DataFrame): Input DataFrame.\n",
    "            num_var (list): List of numerical columns.\n",
    "            max_unique (int): Maximum number of unique values to consider as ordinal.\n",
    "    \n",
    "        Returns:\n",
    "            list: List of possible ordinal variables.\n",
    "        \"\"\"\n",
    "        categorical_candidates = []\n",
    "        for col in num_var:\n",
    "            if df[col].nunique() <= max_unique:\n",
    "                values = df[col].dropna().unique()\n",
    "                if all(float(x).is_integer() for x in values):\n",
    "                    categorical_candidates.append(col)\n",
    "        \n",
    "        print('Total Binary or categorical fts:', len(categorical_candidates))\n",
    "        print('Total features:', categorical_candidates)\n",
    "        \n",
    "        return categorical_candidates\n",
    "\n",
    "    @staticmethod\n",
    "    def analyze_missing_ftr(df, check_col):\n",
    "        '''\n",
    "        Identify relation of missing columns with other colums\n",
    "    \n",
    "        Args:\n",
    "            df(dataframe): Original dataframe\n",
    "            check_col(string) : columns to check the relation\n",
    "    \n",
    "        Returns:\n",
    "            None\n",
    "        '''\n",
    "        \n",
    "        missing_df = pd.DataFrame(df.isnull().sum().sort_values(ascending=False)/df.shape[0]).reset_index()\n",
    "        missing_df.columns =['var','missing%']\n",
    "        missing_val_cols = list(missing_df[missing_df['missing%']>0]['var'])\n",
    "        for col in missing_val_cols:\n",
    "            print('---'*5 + col + '---'*5 )\n",
    "            print(df[df[col].isnull()][check_col].value_counts()/df[df[col].isnull()].shape[0])\n",
    "            print('\\n')\n",
    "\n",
    "        return missing_val_cols\n",
    "\n",
    "    @staticmethod\n",
    "    def numeric_summary(data, numeric_var):\n",
    "        \"\"\"\n",
    "        Generates a summary of numeric variables in the dataset, including basic statistics, \n",
    "        skewness, kurtosis, and missing values information.\n",
    "    \n",
    "        Args:\n",
    "            data (pd.DataFrame): The input DataFrame containing the dataset.\n",
    "            numeric_var (list): A list of column names (strings) representing numeric variables \n",
    "                                 to be summarized.\n",
    "    \n",
    "        Returns:\n",
    "            pd.DataFrame: A DataFrame containing summary statistics for the specified numeric variables,\n",
    "                          including mean, std, min, 25%, 50%, 75%, max, skewness, kurtosis, \n",
    "                          missing values count, and percentage of missing values.\n",
    "        \"\"\"\n",
    "        \n",
    "        temp = data[numeric_var]\n",
    "        summary = temp.describe().T\n",
    "        summary['skewness'] = temp.skew()\n",
    "        summary['kurtosis'] = temp.kurtosis()\n",
    "        summary['missing'] = temp.isnull().sum()\n",
    "        summary['perc_missing'] = temp.isnull().sum() / len(temp)\n",
    "        return summary\n",
    "\n",
    "    @staticmethod\n",
    "    def analyze_categorical_columns(df, cat_cols):\n",
    "        \"\"\"\n",
    "        Analyzes and visualizes the distribution of categorical columns in a DataFrame.\n",
    "    \n",
    "        For each categorical column, this function prints the number of unique categories,\n",
    "        displays a bar plot showing the percentage distribution of each category, and \n",
    "        annotates the bars with the corresponding percentages.\n",
    "    \n",
    "        Args:\n",
    "            df (pd.DataFrame): The input DataFrame containing the data.\n",
    "            cat_cols (list): A list of column names (strings) representing categorical variables.\n",
    "    \n",
    "        Returns:\n",
    "            None\n",
    "        \"\"\"\n",
    "        for col in cat_cols:\n",
    "            print(f\"{'-'*10} {col} {'-'*10}\")\n",
    "            print(\"No. of Unique categories:\", df[col].nunique())\n",
    "            counts = df[col].value_counts(dropna=False)\n",
    "            percentages = counts / len(df) * 100\n",
    "            plt.figure(figsize=(10, 8))\n",
    "            ax = sns.barplot(x=counts.index.astype(str), y=percentages.values, palette='Set2')\n",
    "            plt.title(f'Percentage of Categories in \"{col}\"')\n",
    "            plt.ylabel('Percentage')\n",
    "            plt.xlabel(col)\n",
    "            plt.xticks(rotation=45, ha='right')\n",
    "            for i, p in enumerate(percentages.values):\n",
    "                ax.text(i, p + 0.2, f'{p:.1f}%', ha='center')\n",
    "            plt.tight_layout()\n",
    "            plt.show()\n",
    "\n",
    "    @staticmethod\n",
    "    def compute_mutual_info(df, target_col, cat_features, num_features):\n",
    "        \"\"\"\n",
    "        Compute mutual information for both categorical and numerical features.\n",
    "    \n",
    "        Args:\n",
    "            df: DataFrame\n",
    "            target_col: name of the target column\n",
    "            cat_features: list of categorical column names\n",
    "            num_features: list of numerical column names\n",
    "    \n",
    "        Returns:\n",
    "            Dictionary mapping feature names to mutual information scores\n",
    "        \"\"\"\n",
    "        X_cat = df[cat_features].astype('category').apply(lambda x: x.cat.codes)\n",
    "        X_num = df[num_features]\n",
    "        X_all = pd.concat([X_cat, X_num], axis=1)\n",
    "        discrete_flags = [True] * len(cat_features) + [False] * len(num_features)\n",
    "        y = df[target_col]\n",
    "        mi = mutual_info_classif(X_all.fillna(0), y, discrete_features=discrete_flags)\n",
    "        return dict(zip(X_all.columns, mi))\n",
    "\n",
    "    @staticmethod\n",
    "    def plot_mutual_info(mi_scores):\n",
    "        \"\"\"\n",
    "        Plots the mutual information scores for a set of features.\n",
    "    \n",
    "        Args:\n",
    "            mi_scores (dict): Dictionary where keys are feature names and values are their mutual information scores.\n",
    "    \n",
    "        Returns:\n",
    "            None\n",
    "        \"\"\"\n",
    "        mi_series = pd.Series(mi_scores).sort_values(ascending=True)\n",
    "        plt.figure(figsize=(10, 6))\n",
    "        sns.barplot(x=mi_series.values, y=mi_series.index, palette=\"viridis\")\n",
    "        plt.title(\"Mutual Information Scores by Feature\")\n",
    "        plt.xlabel(\"Mutual Information\")\n",
    "        plt.ylabel(\"Features\")\n",
    "        plt.tight_layout()\n",
    "        plt.show()\n",
    "\n",
    "    @staticmethod\n",
    "    def numeric_charts(data, numeric_cols, event_flag):\n",
    "        \"\"\"\n",
    "        Plots KDE and box plots for numeric columns based on a binary event flag.\n",
    "    \n",
    "        Args:\n",
    "            data (pd.DataFrame): DataFrame containing the data.\n",
    "            numeric_cols (list): List of numeric column names to be plotted.\n",
    "            event_flag (str): Column name indicating the binary event flag (0/1).\n",
    "    \n",
    "        Returns:\n",
    "            None\n",
    "        \"\"\"\n",
    "        for col in numeric_cols:\n",
    "            fig, axes = plt.subplots(1, 2, figsize=(14, 5))\n",
    "            fig.suptitle(f'Distribution of {col} by {event_flag}', fontsize=14)\n",
    "            sns.kdeplot(data=data[data[event_flag] == 1][col], fill=True, label='Event = 1', ax=axes[0])\n",
    "            sns.kdeplot(data=data[data[event_flag] == 0][col], fill=True, label='Event = 0', ax=axes[0])\n",
    "            axes[0].set_title('KDE Plot')\n",
    "            axes[0].legend()\n",
    "            sns.boxplot(x=event_flag, y=col, data=data, palette='coolwarm', ax=axes[1])\n",
    "            axes[1].set_title('Box Plot')\n",
    "            plt.tight_layout(rect=[0, 0.03, 1, 0.95])\n",
    "            plt.show()\n",
    "\n",
    "    @staticmethod\n",
    "    def plot_percentage_count(df, cols, hue='status', axis='x'):\n",
    "        \"\"\"\n",
    "        Plots percentage-based bar charts for categorical columns split by a hue category.\n",
    "    \n",
    "        Args:\n",
    "            df (pd.DataFrame): Input DataFrame.\n",
    "            cols (list): List of categorical columns to plot.\n",
    "            hue (str): Column to use as hue for distribution (default is 'status').\n",
    "            axis (str): Axis on which to plot bars ('x' or 'y') (default is 'x').\n",
    "    \n",
    "        Returns:\n",
    "            None\n",
    "        \"\"\"\n",
    "        for col in cols:\n",
    "            count_data = pd.crosstab(df[col], df[hue], normalize='index') * 100\n",
    "            melted_data = count_data.reset_index().melt(id_vars=col, var_name=hue, value_name='Percentage')\n",
    "            plt.figure(figsize=(8, 4))\n",
    "            if axis == 'x':\n",
    "                sns.barplot(data=melted_data, x=col, y='Percentage', hue=hue)\n",
    "            else:\n",
    "                sns.barplot(data=melted_data, y=col, x='Percentage', hue=hue)\n",
    "            plt.title(f'Percentage Distribution of {col} by {hue}')\n",
    "            if axis == 'x':\n",
    "                plt.xticks(rotation=45)\n",
    "            plt.tight_layout()\n",
    "            plt.show()"
   ]
  },
  {
   "cell_type": "code",
   "execution_count": 7,
   "id": "4bca7249-18d6-4ba0-a50c-e94207d7d6cb",
   "metadata": {},
   "outputs": [
    {
     "name": "stdout",
     "output_type": "stream",
     "text": [
      "Shape of Data: (8523, 12)\n",
      "Shape of Data: (5681, 11)\n"
     ]
    }
   ],
   "source": [
    "train = EDAUtils.load_data(config, 'train_v9rqX0R.csv')\n",
    "test = EDAUtils.load_data(config, 'test_AbJTz2l.csv')"
   ]
  },
  {
   "cell_type": "code",
   "execution_count": 8,
   "id": "ed614067-5389-414b-8dd1-28d8597331f2",
   "metadata": {},
   "outputs": [
    {
     "data": {
      "text/html": [
       "<div>\n",
       "<style scoped>\n",
       "    .dataframe tbody tr th:only-of-type {\n",
       "        vertical-align: middle;\n",
       "    }\n",
       "\n",
       "    .dataframe tbody tr th {\n",
       "        vertical-align: top;\n",
       "    }\n",
       "\n",
       "    .dataframe thead th {\n",
       "        text-align: right;\n",
       "    }\n",
       "</style>\n",
       "<table border=\"1\" class=\"dataframe\">\n",
       "  <thead>\n",
       "    <tr style=\"text-align: right;\">\n",
       "      <th></th>\n",
       "      <th>Item_Identifier</th>\n",
       "      <th>Item_Weight</th>\n",
       "      <th>Item_Fat_Content</th>\n",
       "      <th>Item_Visibility</th>\n",
       "      <th>Item_Type</th>\n",
       "      <th>Item_MRP</th>\n",
       "      <th>Outlet_Identifier</th>\n",
       "      <th>Outlet_Establishment_Year</th>\n",
       "      <th>Outlet_Size</th>\n",
       "      <th>Outlet_Location_Type</th>\n",
       "      <th>Outlet_Type</th>\n",
       "      <th>Item_Outlet_Sales</th>\n",
       "    </tr>\n",
       "  </thead>\n",
       "  <tbody>\n",
       "    <tr>\n",
       "      <th>0</th>\n",
       "      <td>FDA15</td>\n",
       "      <td>9.30</td>\n",
       "      <td>Low Fat</td>\n",
       "      <td>0.016047</td>\n",
       "      <td>Dairy</td>\n",
       "      <td>249.8092</td>\n",
       "      <td>OUT049</td>\n",
       "      <td>1999</td>\n",
       "      <td>Medium</td>\n",
       "      <td>Tier 1</td>\n",
       "      <td>Supermarket Type1</td>\n",
       "      <td>3735.1380</td>\n",
       "    </tr>\n",
       "    <tr>\n",
       "      <th>1</th>\n",
       "      <td>DRC01</td>\n",
       "      <td>5.92</td>\n",
       "      <td>Regular</td>\n",
       "      <td>0.019278</td>\n",
       "      <td>Soft Drinks</td>\n",
       "      <td>48.2692</td>\n",
       "      <td>OUT018</td>\n",
       "      <td>2009</td>\n",
       "      <td>Medium</td>\n",
       "      <td>Tier 3</td>\n",
       "      <td>Supermarket Type2</td>\n",
       "      <td>443.4228</td>\n",
       "    </tr>\n",
       "    <tr>\n",
       "      <th>2</th>\n",
       "      <td>FDN15</td>\n",
       "      <td>17.50</td>\n",
       "      <td>Low Fat</td>\n",
       "      <td>0.016760</td>\n",
       "      <td>Meat</td>\n",
       "      <td>141.6180</td>\n",
       "      <td>OUT049</td>\n",
       "      <td>1999</td>\n",
       "      <td>Medium</td>\n",
       "      <td>Tier 1</td>\n",
       "      <td>Supermarket Type1</td>\n",
       "      <td>2097.2700</td>\n",
       "    </tr>\n",
       "    <tr>\n",
       "      <th>3</th>\n",
       "      <td>FDX07</td>\n",
       "      <td>19.20</td>\n",
       "      <td>Regular</td>\n",
       "      <td>0.000000</td>\n",
       "      <td>Fruits and Vegetables</td>\n",
       "      <td>182.0950</td>\n",
       "      <td>OUT010</td>\n",
       "      <td>1998</td>\n",
       "      <td>NaN</td>\n",
       "      <td>Tier 3</td>\n",
       "      <td>Grocery Store</td>\n",
       "      <td>732.3800</td>\n",
       "    </tr>\n",
       "    <tr>\n",
       "      <th>4</th>\n",
       "      <td>NCD19</td>\n",
       "      <td>8.93</td>\n",
       "      <td>Low Fat</td>\n",
       "      <td>0.000000</td>\n",
       "      <td>Household</td>\n",
       "      <td>53.8614</td>\n",
       "      <td>OUT013</td>\n",
       "      <td>1987</td>\n",
       "      <td>High</td>\n",
       "      <td>Tier 3</td>\n",
       "      <td>Supermarket Type1</td>\n",
       "      <td>994.7052</td>\n",
       "    </tr>\n",
       "  </tbody>\n",
       "</table>\n",
       "</div>"
      ],
      "text/plain": [
       "  Item_Identifier  Item_Weight Item_Fat_Content  Item_Visibility  \\\n",
       "0           FDA15         9.30          Low Fat         0.016047   \n",
       "1           DRC01         5.92          Regular         0.019278   \n",
       "2           FDN15        17.50          Low Fat         0.016760   \n",
       "3           FDX07        19.20          Regular         0.000000   \n",
       "4           NCD19         8.93          Low Fat         0.000000   \n",
       "\n",
       "               Item_Type  Item_MRP Outlet_Identifier  \\\n",
       "0                  Dairy  249.8092            OUT049   \n",
       "1            Soft Drinks   48.2692            OUT018   \n",
       "2                   Meat  141.6180            OUT049   \n",
       "3  Fruits and Vegetables  182.0950            OUT010   \n",
       "4              Household   53.8614            OUT013   \n",
       "\n",
       "   Outlet_Establishment_Year Outlet_Size Outlet_Location_Type  \\\n",
       "0                       1999      Medium               Tier 1   \n",
       "1                       2009      Medium               Tier 3   \n",
       "2                       1999      Medium               Tier 1   \n",
       "3                       1998         NaN               Tier 3   \n",
       "4                       1987        High               Tier 3   \n",
       "\n",
       "         Outlet_Type  Item_Outlet_Sales  \n",
       "0  Supermarket Type1          3735.1380  \n",
       "1  Supermarket Type2           443.4228  \n",
       "2  Supermarket Type1          2097.2700  \n",
       "3      Grocery Store           732.3800  \n",
       "4  Supermarket Type1           994.7052  "
      ]
     },
     "execution_count": 8,
     "metadata": {},
     "output_type": "execute_result"
    }
   ],
   "source": [
    "train.head()"
   ]
  },
  {
   "cell_type": "code",
   "execution_count": 9,
   "id": "8414adf0-b34b-48f9-9140-d44300d80f9a",
   "metadata": {},
   "outputs": [
    {
     "data": {
      "text/html": [
       "<div>\n",
       "<style scoped>\n",
       "    .dataframe tbody tr th:only-of-type {\n",
       "        vertical-align: middle;\n",
       "    }\n",
       "\n",
       "    .dataframe tbody tr th {\n",
       "        vertical-align: top;\n",
       "    }\n",
       "\n",
       "    .dataframe thead th {\n",
       "        text-align: right;\n",
       "    }\n",
       "</style>\n",
       "<table border=\"1\" class=\"dataframe\">\n",
       "  <thead>\n",
       "    <tr style=\"text-align: right;\">\n",
       "      <th></th>\n",
       "      <th>Item_Identifier</th>\n",
       "      <th>Item_Weight</th>\n",
       "      <th>Item_Fat_Content</th>\n",
       "      <th>Item_Visibility</th>\n",
       "      <th>Item_Type</th>\n",
       "      <th>Item_MRP</th>\n",
       "      <th>Outlet_Identifier</th>\n",
       "      <th>Outlet_Establishment_Year</th>\n",
       "      <th>Outlet_Size</th>\n",
       "      <th>Outlet_Location_Type</th>\n",
       "      <th>Outlet_Type</th>\n",
       "    </tr>\n",
       "  </thead>\n",
       "  <tbody>\n",
       "    <tr>\n",
       "      <th>0</th>\n",
       "      <td>FDW58</td>\n",
       "      <td>20.750</td>\n",
       "      <td>Low Fat</td>\n",
       "      <td>0.007565</td>\n",
       "      <td>Snack Foods</td>\n",
       "      <td>107.8622</td>\n",
       "      <td>OUT049</td>\n",
       "      <td>1999</td>\n",
       "      <td>Medium</td>\n",
       "      <td>Tier 1</td>\n",
       "      <td>Supermarket Type1</td>\n",
       "    </tr>\n",
       "    <tr>\n",
       "      <th>1</th>\n",
       "      <td>FDW14</td>\n",
       "      <td>8.300</td>\n",
       "      <td>reg</td>\n",
       "      <td>0.038428</td>\n",
       "      <td>Dairy</td>\n",
       "      <td>87.3198</td>\n",
       "      <td>OUT017</td>\n",
       "      <td>2007</td>\n",
       "      <td>NaN</td>\n",
       "      <td>Tier 2</td>\n",
       "      <td>Supermarket Type1</td>\n",
       "    </tr>\n",
       "    <tr>\n",
       "      <th>2</th>\n",
       "      <td>NCN55</td>\n",
       "      <td>14.600</td>\n",
       "      <td>Low Fat</td>\n",
       "      <td>0.099575</td>\n",
       "      <td>Others</td>\n",
       "      <td>241.7538</td>\n",
       "      <td>OUT010</td>\n",
       "      <td>1998</td>\n",
       "      <td>NaN</td>\n",
       "      <td>Tier 3</td>\n",
       "      <td>Grocery Store</td>\n",
       "    </tr>\n",
       "    <tr>\n",
       "      <th>3</th>\n",
       "      <td>FDQ58</td>\n",
       "      <td>7.315</td>\n",
       "      <td>Low Fat</td>\n",
       "      <td>0.015388</td>\n",
       "      <td>Snack Foods</td>\n",
       "      <td>155.0340</td>\n",
       "      <td>OUT017</td>\n",
       "      <td>2007</td>\n",
       "      <td>NaN</td>\n",
       "      <td>Tier 2</td>\n",
       "      <td>Supermarket Type1</td>\n",
       "    </tr>\n",
       "    <tr>\n",
       "      <th>4</th>\n",
       "      <td>FDY38</td>\n",
       "      <td>NaN</td>\n",
       "      <td>Regular</td>\n",
       "      <td>0.118599</td>\n",
       "      <td>Dairy</td>\n",
       "      <td>234.2300</td>\n",
       "      <td>OUT027</td>\n",
       "      <td>1985</td>\n",
       "      <td>Medium</td>\n",
       "      <td>Tier 3</td>\n",
       "      <td>Supermarket Type3</td>\n",
       "    </tr>\n",
       "  </tbody>\n",
       "</table>\n",
       "</div>"
      ],
      "text/plain": [
       "  Item_Identifier  Item_Weight Item_Fat_Content  Item_Visibility    Item_Type  \\\n",
       "0           FDW58       20.750          Low Fat         0.007565  Snack Foods   \n",
       "1           FDW14        8.300              reg         0.038428        Dairy   \n",
       "2           NCN55       14.600          Low Fat         0.099575       Others   \n",
       "3           FDQ58        7.315          Low Fat         0.015388  Snack Foods   \n",
       "4           FDY38          NaN          Regular         0.118599        Dairy   \n",
       "\n",
       "   Item_MRP Outlet_Identifier  Outlet_Establishment_Year Outlet_Size  \\\n",
       "0  107.8622            OUT049                       1999      Medium   \n",
       "1   87.3198            OUT017                       2007         NaN   \n",
       "2  241.7538            OUT010                       1998         NaN   \n",
       "3  155.0340            OUT017                       2007         NaN   \n",
       "4  234.2300            OUT027                       1985      Medium   \n",
       "\n",
       "  Outlet_Location_Type        Outlet_Type  \n",
       "0               Tier 1  Supermarket Type1  \n",
       "1               Tier 2  Supermarket Type1  \n",
       "2               Tier 3      Grocery Store  \n",
       "3               Tier 2  Supermarket Type1  \n",
       "4               Tier 3  Supermarket Type3  "
      ]
     },
     "execution_count": 9,
     "metadata": {},
     "output_type": "execute_result"
    }
   ],
   "source": [
    "test.head()"
   ]
  },
  {
   "cell_type": "code",
   "execution_count": 10,
   "id": "66fe9893-7992-4126-a7bc-71bbfc1a8fe5",
   "metadata": {},
   "outputs": [
    {
     "data": {
      "text/plain": [
       "(14204, 13)"
      ]
     },
     "execution_count": 10,
     "metadata": {},
     "output_type": "execute_result"
    }
   ],
   "source": [
    "train['source']='train'\n",
    "test['source']='test'\n",
    "data = pd.concat([train, test],ignore_index=True)\n",
    "\n",
    "data.shape"
   ]
  },
  {
   "cell_type": "markdown",
   "id": "e855618a-f2d6-4723-a37b-4884c6e087da",
   "metadata": {},
   "source": [
    "## 2. EDA"
   ]
  },
  {
   "cell_type": "code",
   "execution_count": 12,
   "id": "d6dda452-4e85-4f06-9992-4b47519e1023",
   "metadata": {},
   "outputs": [
    {
     "name": "stdout",
     "output_type": "stream",
     "text": [
      "<class 'pandas.core.frame.DataFrame'>\n",
      "RangeIndex: 14204 entries, 0 to 14203\n",
      "Data columns (total 13 columns):\n",
      " #   Column                     Non-Null Count  Dtype  \n",
      "---  ------                     --------------  -----  \n",
      " 0   Item_Identifier            14204 non-null  object \n",
      " 1   Item_Weight                11765 non-null  float64\n",
      " 2   Item_Fat_Content           14204 non-null  object \n",
      " 3   Item_Visibility            14204 non-null  float64\n",
      " 4   Item_Type                  14204 non-null  object \n",
      " 5   Item_MRP                   14204 non-null  float64\n",
      " 6   Outlet_Identifier          14204 non-null  object \n",
      " 7   Outlet_Establishment_Year  14204 non-null  int64  \n",
      " 8   Outlet_Size                10188 non-null  object \n",
      " 9   Outlet_Location_Type       14204 non-null  object \n",
      " 10  Outlet_Type                14204 non-null  object \n",
      " 11  Item_Outlet_Sales          8523 non-null   float64\n",
      " 12  source                     14204 non-null  object \n",
      "dtypes: float64(4), int64(1), object(8)\n",
      "memory usage: 1.4+ MB\n"
     ]
    }
   ],
   "source": [
    "data.info()"
   ]
  },
  {
   "cell_type": "code",
   "execution_count": 13,
   "id": "2c950d6c-65e9-4d49-ade1-a96f7a90df71",
   "metadata": {},
   "outputs": [
    {
     "name": "stdout",
     "output_type": "stream",
     "text": [
      "Total numerical vars: 5\n",
      "Numerical vars: ['Item_Weight', 'Item_Visibility', 'Item_MRP', 'Outlet_Establishment_Year', 'Item_Outlet_Sales']\n",
      "Total categorical vars: 8\n",
      "categorical vars: ['Item_Identifier', 'Item_Fat_Content', 'Item_Type', 'Outlet_Identifier', 'Outlet_Size', 'Outlet_Location_Type', 'Outlet_Type', 'source']\n"
     ]
    }
   ],
   "source": [
    "num_var, cat_var = EDAUtils.get_cols(data)\n",
    "print(f'Total numerical vars: {len(num_var)}')\n",
    "print(f'Numerical vars: {num_var}')\n",
    "print(f'Total categorical vars: {len(cat_var)}')\n",
    "print(f'categorical vars: {cat_var}')"
   ]
  },
  {
   "cell_type": "code",
   "execution_count": 14,
   "id": "58a9c3e9-6e62-4096-9f79-3fe538ce0898",
   "metadata": {},
   "outputs": [
    {
     "data": {
      "text/plain": [
       "['Item_Fat_Content',\n",
       " 'Item_Type',\n",
       " 'Outlet_Size',\n",
       " 'Outlet_Location_Type',\n",
       " 'Outlet_Type']"
      ]
     },
     "execution_count": 14,
     "metadata": {},
     "output_type": "execute_result"
    }
   ],
   "source": [
    "id_cols = ['Item_Identifier','Outlet_Identifier','source']\n",
    "target = ['Item_Outlet_Sales']\n",
    "cat_var = [col for col in cat_var if col not in id_cols+target]\n",
    "cat_var"
   ]
  },
  {
   "cell_type": "markdown",
   "id": "996a54be-dd0e-473d-8f22-fe84f8aff0f0",
   "metadata": {},
   "source": [
    "### 2.1. Missing value analysis"
   ]
  },
  {
   "cell_type": "code",
   "execution_count": 16,
   "id": "bf9e42a3-0882-4602-a72a-cd3978c66768",
   "metadata": {},
   "outputs": [
    {
     "data": {
      "text/plain": [
       "Item_Outlet_Sales            0.399958\n",
       "Outlet_Size                  0.282737\n",
       "Item_Weight                  0.171712\n",
       "Item_Identifier              0.000000\n",
       "Item_Fat_Content             0.000000\n",
       "Item_Visibility              0.000000\n",
       "Item_Type                    0.000000\n",
       "Item_MRP                     0.000000\n",
       "Outlet_Identifier            0.000000\n",
       "Outlet_Establishment_Year    0.000000\n",
       "Outlet_Location_Type         0.000000\n",
       "Outlet_Type                  0.000000\n",
       "source                       0.000000\n",
       "dtype: float64"
      ]
     },
     "execution_count": 16,
     "metadata": {},
     "output_type": "execute_result"
    }
   ],
   "source": [
    "data.isnull().sum().sort_values(ascending=False)/data.shape[0]"
   ]
  },
  {
   "cell_type": "markdown",
   "id": "b17aef76-958f-45dc-9c11-eeeaf7213939",
   "metadata": {},
   "source": [
    "`Outlet_Size` and `Item_Weight` has the missing values."
   ]
  },
  {
   "cell_type": "markdown",
   "id": "ef0bc172-fb81-4a27-af39-73ad3e0682a4",
   "metadata": {},
   "source": [
    "### 2.2. Univariate Analaysis"
   ]
  },
  {
   "cell_type": "markdown",
   "id": "e28d59c1-22fc-4072-a713-2d65881cf8aa",
   "metadata": {},
   "source": [
    "#### 2.2.1 For target Variable"
   ]
  },
  {
   "cell_type": "code",
   "execution_count": 20,
   "id": "a0e5f1b3-c269-4a7c-88f4-5c2812720716",
   "metadata": {},
   "outputs": [
    {
     "data": {
      "image/png": "[encoded data removed]",
      "text/plain": [
       "<Figure size 1000x600 with 1 Axes>"
      ]
     },
     "metadata": {},
     "output_type": "display_data"
    }
   ],
   "source": [
    "plt.hist(train['Item_Outlet_Sales'], bins = 20)\n",
    "plt.title('Target Variable')\n",
    "plt.xlabel('Item Outlet Sales')\n",
    "plt.ylabel('count')\n",
    "plt.show()"
   ]
  },
  {
   "cell_type": "markdown",
   "id": "3b7797fd-3826-45f0-ab6a-4905e83cce7f",
   "metadata": {},
   "source": [
    "#### 2.2.2. For Numerical variables"
   ]
  },
  {
   "cell_type": "code",
   "execution_count": 22,
   "id": "0b1acab9-c702-4b51-a182-b152320214c8",
   "metadata": {},
   "outputs": [
    {
     "data": {
      "text/html": [
       "<div>\n",
       "<style scoped>\n",
       "    .dataframe tbody tr th:only-of-type {\n",
       "        vertical-align: middle;\n",
       "    }\n",
       "\n",
       "    .dataframe tbody tr th {\n",
       "        vertical-align: top;\n",
       "    }\n",
       "\n",
       "    .dataframe thead th {\n",
       "        text-align: right;\n",
       "    }\n",
       "</style>\n",
       "<table border=\"1\" class=\"dataframe\">\n",
       "  <thead>\n",
       "    <tr style=\"text-align: right;\">\n",
       "      <th></th>\n",
       "      <th>count</th>\n",
       "      <th>mean</th>\n",
       "      <th>std</th>\n",
       "      <th>min</th>\n",
       "      <th>25%</th>\n",
       "      <th>50%</th>\n",
       "      <th>75%</th>\n",
       "      <th>max</th>\n",
       "      <th>skewness</th>\n",
       "      <th>kurtosis</th>\n",
       "      <th>missing</th>\n",
       "      <th>perc_missing</th>\n",
       "    </tr>\n",
       "  </thead>\n",
       "  <tbody>\n",
       "    <tr>\n",
       "      <th>Item_Weight</th>\n",
       "      <td>11765.0</td>\n",
       "      <td>12.792854</td>\n",
       "      <td>4.652502</td>\n",
       "      <td>4.555</td>\n",
       "      <td>8.710000</td>\n",
       "      <td>12.600000</td>\n",
       "      <td>16.750000</td>\n",
       "      <td>21.350000</td>\n",
       "      <td>0.101309</td>\n",
       "      <td>-1.228094</td>\n",
       "      <td>2439</td>\n",
       "      <td>0.171712</td>\n",
       "    </tr>\n",
       "    <tr>\n",
       "      <th>Item_Visibility</th>\n",
       "      <td>14204.0</td>\n",
       "      <td>0.065953</td>\n",
       "      <td>0.051459</td>\n",
       "      <td>0.000</td>\n",
       "      <td>0.027036</td>\n",
       "      <td>0.054021</td>\n",
       "      <td>0.094037</td>\n",
       "      <td>0.328391</td>\n",
       "      <td>1.195175</td>\n",
       "      <td>1.820071</td>\n",
       "      <td>0</td>\n",
       "      <td>0.000000</td>\n",
       "    </tr>\n",
       "    <tr>\n",
       "      <th>Item_MRP</th>\n",
       "      <td>14204.0</td>\n",
       "      <td>141.004977</td>\n",
       "      <td>62.086938</td>\n",
       "      <td>31.290</td>\n",
       "      <td>94.012000</td>\n",
       "      <td>142.247000</td>\n",
       "      <td>185.855600</td>\n",
       "      <td>266.888400</td>\n",
       "      <td>0.130728</td>\n",
       "      <td>-0.893856</td>\n",
       "      <td>0</td>\n",
       "      <td>0.000000</td>\n",
       "    </tr>\n",
       "    <tr>\n",
       "      <th>Outlet_Establishment_Year</th>\n",
       "      <td>14204.0</td>\n",
       "      <td>1997.830681</td>\n",
       "      <td>8.371664</td>\n",
       "      <td>1985.000</td>\n",
       "      <td>1987.000000</td>\n",
       "      <td>1999.000000</td>\n",
       "      <td>2004.000000</td>\n",
       "      <td>2009.000000</td>\n",
       "      <td>-0.396465</td>\n",
       "      <td>-1.205867</td>\n",
       "      <td>0</td>\n",
       "      <td>0.000000</td>\n",
       "    </tr>\n",
       "    <tr>\n",
       "      <th>Item_Outlet_Sales</th>\n",
       "      <td>8523.0</td>\n",
       "      <td>2181.288914</td>\n",
       "      <td>1706.499616</td>\n",
       "      <td>33.290</td>\n",
       "      <td>834.247400</td>\n",
       "      <td>1794.331000</td>\n",
       "      <td>3101.296400</td>\n",
       "      <td>13086.964800</td>\n",
       "      <td>1.177531</td>\n",
       "      <td>1.615877</td>\n",
       "      <td>5681</td>\n",
       "      <td>0.399958</td>\n",
       "    </tr>\n",
       "  </tbody>\n",
       "</table>\n",
       "</div>"
      ],
      "text/plain": [
       "                             count         mean          std       min  \\\n",
       "Item_Weight                11765.0    12.792854     4.652502     4.555   \n",
       "Item_Visibility            14204.0     0.065953     0.051459     0.000   \n",
       "Item_MRP                   14204.0   141.004977    62.086938    31.290   \n",
       "Outlet_Establishment_Year  14204.0  1997.830681     8.371664  1985.000   \n",
       "Item_Outlet_Sales           8523.0  2181.288914  1706.499616    33.290   \n",
       "\n",
       "                                   25%          50%          75%  \\\n",
       "Item_Weight                   8.710000    12.600000    16.750000   \n",
       "Item_Visibility               0.027036     0.054021     0.094037   \n",
       "Item_MRP                     94.012000   142.247000   185.855600   \n",
       "Outlet_Establishment_Year  1987.000000  1999.000000  2004.000000   \n",
       "Item_Outlet_Sales           834.247400  1794.331000  3101.296400   \n",
       "\n",
       "                                    max  skewness  kurtosis  missing  \\\n",
       "Item_Weight                   21.350000  0.101309 -1.228094     2439   \n",
       "Item_Visibility                0.328391  1.195175  1.820071        0   \n",
       "Item_MRP                     266.888400  0.130728 -0.893856        0   \n",
       "Outlet_Establishment_Year   2009.000000 -0.396465 -1.205867        0   \n",
       "Item_Outlet_Sales          13086.964800  1.177531  1.615877     5681   \n",
       "\n",
       "                           perc_missing  \n",
       "Item_Weight                    0.171712  \n",
       "Item_Visibility                0.000000  \n",
       "Item_MRP                       0.000000  \n",
       "Outlet_Establishment_Year      0.000000  \n",
       "Item_Outlet_Sales              0.399958  "
      ]
     },
     "execution_count": 22,
     "metadata": {},
     "output_type": "execute_result"
    }
   ],
   "source": [
    "EDAUtils.numeric_summary(data, num_var)"
   ]
  },
  {
   "cell_type": "markdown",
   "id": "404124f7-738c-438e-b74b-b17aadf07d07",
   "metadata": {},
   "source": [
    "**Insights:**\n",
    "1. The minimum value of `Item_Visibility` is zero, which is unrealistic since a product available in a store should have some visibility.\n",
    "2. `Outlet_Establishment_Year` ranges from 1985 to 2009. Instead of using the raw year, calculating the store's age could provide more meaningful insights into its impact on sales.\n",
    "3. The low count observed for `Item_Weight` and `Item_Outlet_Sales` aligns with the missing value analysis findings."
   ]
  },
  {
   "cell_type": "markdown",
   "id": "81acb6d2-5921-4c50-9141-cc8c325cf547",
   "metadata": {},
   "source": [
    "#### 2.2.3. For Categorical variables"
   ]
  },
  {
   "cell_type": "code",
   "execution_count": 25,
   "id": "4d3d676a-f47c-4127-ab48-3f2b56839da3",
   "metadata": {},
   "outputs": [
    {
     "name": "stdout",
     "output_type": "stream",
     "text": [
      "---------- Item_Fat_Content ----------\n",
      "No. of Unique categories: 5\n"
     ]
    },
    {
     "data": {
      "image/png": "[encoded data removed]",
      "text/plain": [
       "<Figure size 1000x800 with 1 Axes>"
      ]
     },
     "metadata": {},
     "output_type": "display_data"
    },
    {
     "name": "stdout",
     "output_type": "stream",
     "text": [
      "---------- Item_Type ----------\n",
      "No. of Unique categories: 16\n"
     ]
    },
    {
     "data": {
      "image/png": "[encoded data removed]",
      "text/plain": [
       "<Figure size 1000x800 with 1 Axes>"
      ]
     },
     "metadata": {},
     "output_type": "display_data"
    },
    {
     "name": "stdout",
     "output_type": "stream",
     "text": [
      "---------- Outlet_Size ----------\n",
      "No. of Unique categories: 3\n"
     ]
    },
    {
     "data": {
      "image/png": "[encoded data removed]",
      "text/plain": [
       "<Figure size 1000x800 with 1 Axes>"
      ]
     },
     "metadata": {},
     "output_type": "display_data"
    },
    {
     "name": "stdout",
     "output_type": "stream",
     "text": [
      "---------- Outlet_Location_Type ----------\n",
      "No. of Unique categories: 3\n"
     ]
    },
    {
     "data": {
      "image/png": "[encoded data removed]",
      "text/plain": [
       "<Figure size 1000x800 with 1 Axes>"
      ]
     },
     "metadata": {},
     "output_type": "display_data"
    },
    {
     "name": "stdout",
     "output_type": "stream",
     "text": [
      "---------- Outlet_Type ----------\n",
      "No. of Unique categories: 4\n"
     ]
    },
    {
     "data": {
      "image/png": "[encoded data removed]",
      "text/plain": [
       "<Figure size 1000x800 with 1 Axes>"
      ]
     },
     "metadata": {},
     "output_type": "display_data"
    }
   ],
   "source": [
    "EDAUtils.analyze_categorical_columns(data, cat_var)"
   ]
  },
  {
   "cell_type": "markdown",
   "id": "e54c18ab-db65-4009-bd7f-bbd8c3439437",
   "metadata": {},
   "source": [
    "**Insights:**\n",
    "1. `Item_Fat_Content`: The Item_Fat_Content feature shows inconsistent entries, such as variations of 'Low Fat' ('low fat', 'LF') and 'Regular' ('regular'). To maintain uniformity and prevent redundancy during modeling, these categories should be standardized.\n",
    "2. `Item_Type`: Some item categories have very few observations. Grouping similar low-frequency categories could improve model stability and predictive performance.\n",
    "3. `Outlet_Type`: 'Supermarket Type2' and 'Supermarket Type3' appear similar (~11% of total categories respectively) and might be candidates for consolidation. However, further analysis is required to validate whether combining them preserves relevant distinctions."
   ]
  },
  {
   "cell_type": "code",
   "execution_count": 27,
   "id": "ab215111-d142-4909-a0c4-0ad50e88e748",
   "metadata": {},
   "outputs": [],
   "source": [
    "#### for Identifier columns"
   ]
  },
  {
   "cell_type": "code",
   "execution_count": 28,
   "id": "4e267295-df06-4706-8199-7aaa3e455365",
   "metadata": {},
   "outputs": [
    {
     "data": {
      "text/plain": [
       "['Item_Identifier', 'Outlet_Identifier', 'source']"
      ]
     },
     "execution_count": 28,
     "metadata": {},
     "output_type": "execute_result"
    }
   ],
   "source": [
    "id_cols"
   ]
  },
  {
   "cell_type": "code",
   "execution_count": 29,
   "id": "e97a4481-0360-4a06-a6f4-5001ba9429f4",
   "metadata": {},
   "outputs": [
    {
     "name": "stdout",
     "output_type": "stream",
     "text": [
      "No of distinct Item_Identifier: 1559\n",
      "No of distinct Outlet_Identifier: 10\n",
      "No of distinct source: 2\n"
     ]
    }
   ],
   "source": [
    "for col in id_cols:\n",
    "    print(f'No of distinct {col}:', data[col].nunique())"
   ]
  },
  {
   "cell_type": "code",
   "execution_count": 30,
   "id": "adb8cd2a-4bf0-49cd-9056-a2a2029b4f22",
   "metadata": {},
   "outputs": [
    {
     "data": {
      "text/plain": [
       "Item_Identifier\n",
       "FDU15    10\n",
       "FDS25    10\n",
       "FDA38    10\n",
       "FDW03    10\n",
       "FDJ10    10\n",
       "         ..\n",
       "FDR51     7\n",
       "FDM52     7\n",
       "DRN11     7\n",
       "FDH58     7\n",
       "NCW54     7\n",
       "Name: count, Length: 1559, dtype: int64"
      ]
     },
     "execution_count": 30,
     "metadata": {},
     "output_type": "execute_result"
    }
   ],
   "source": [
    "data['Item_Identifier'].value_counts()"
   ]
  },
  {
   "cell_type": "code",
   "execution_count": 31,
   "id": "a7b86e3d-d1b4-4ea9-8c16-d8172da3a2eb",
   "metadata": {},
   "outputs": [
    {
     "data": {
      "text/plain": [
       "Outlet_Identifier\n",
       "OUT027    1559\n",
       "OUT013    1553\n",
       "OUT049    1550\n",
       "OUT046    1550\n",
       "OUT035    1550\n",
       "OUT045    1548\n",
       "OUT018    1546\n",
       "OUT017    1543\n",
       "OUT010     925\n",
       "OUT019     880\n",
       "Name: count, dtype: int64"
      ]
     },
     "execution_count": 31,
     "metadata": {},
     "output_type": "execute_result"
    }
   ],
   "source": [
    "data['Outlet_Identifier'].value_counts()"
   ]
  },
  {
   "cell_type": "markdown",
   "id": "1a5e202f-31d1-4fc0-b8d4-df8138728c50",
   "metadata": {},
   "source": [
    "### 2.3. Bivariate analysis"
   ]
  },
  {
   "cell_type": "code",
   "execution_count": 33,
   "id": "83351b5c-92d9-41f1-969d-9b3248a4fd32",
   "metadata": {},
   "outputs": [
    {
     "data": {
      "image/png": "[encoded data removed]",
      "text/plain": [
       "<Figure size 800x400 with 2 Axes>"
      ]
     },
     "metadata": {},
     "output_type": "display_data"
    }
   ],
   "source": [
    "corr = data.drop('Item_Outlet_Sales',axis=1).corr(numeric_only=True)\n",
    "plt.figure(figsize=(8,4))\n",
    "sns.heatmap(corr, annot=True)\n",
    "plt.show()"
   ]
  },
  {
   "cell_type": "markdown",
   "id": "7edfe586-51ee-417b-af85-42c55da44303",
   "metadata": {},
   "source": [
    "No correlation exists among predictors"
   ]
  },
  {
   "cell_type": "markdown",
   "id": "49232969-625b-4226-b582-ae538027583b",
   "metadata": {},
   "source": [
    "## 3. Preprocessing"
   ]
  },
  {
   "cell_type": "markdown",
   "id": "18188043-a906-4f92-bf9b-a1707663082d",
   "metadata": {},
   "source": [
    "### 3.1. Handle missing values"
   ]
  },
  {
   "cell_type": "markdown",
   "id": "3ace1587-a9ec-46e8-ab18-a7196dd05241",
   "metadata": {},
   "source": [
    "#### 3.1.1. Numerical Variable"
   ]
  },
  {
   "cell_type": "markdown",
   "id": "0a4df380-e726-41db-9341-aebc8ba72dc5",
   "metadata": {},
   "source": [
    "We have the Unique product ID i.e., `Item_Identifier` which  would has set of other attribute such as `Item_Weight` and `Item_Type`. So, in our case `Item_Weight` is missing which most probably means each set of `Item_Identifier` will have probably fixed weights. So, imputing missing `Item_Weight` values with the average weight per `Item_Identifier` helps preserve item-specific trends and relationships, reducing bias. It would maintain consistency within each item category."
   ]
  },
  {
   "cell_type": "markdown",
   "id": "e7a1e506-46b7-4157-af07-43bcee1c39d4",
   "metadata": {},
   "source": [
    "Imputing missing `Item_Weight` values with the average weight per `Item_Identifier` helps preserve item-specific trends and relationships, reducing bias. This method ensures that missing data is filled with meaningful information, maintaining consistency within each product category. It stabilizes the dataset for modeling, improving predictive performance by allowing the model to learn more effectively without being misled by missing values"
   ]
  },
  {
   "cell_type": "code",
   "execution_count": 40,
   "id": "9524b248-0bfd-46bc-ba8a-55ecf0f922a7",
   "metadata": {},
   "outputs": [
    {
     "data": {
      "text/plain": [
       "array(['FDA15', 'DRC01', 'FDN15', ..., 'NCF55', 'NCW30', 'NCW05'],\n",
       "      dtype=object)"
      ]
     },
     "execution_count": 40,
     "metadata": {},
     "output_type": "execute_result"
    }
   ],
   "source": [
    "data.Item_Identifier.unique()"
   ]
  },
  {
   "cell_type": "code",
   "execution_count": 41,
   "id": "e1b60057-484b-4e07-8218-3fd0d7335c33",
   "metadata": {},
   "outputs": [
    {
     "data": {
      "text/plain": [
       "count    8.000000e+00\n",
       "mean     9.300000e+00\n",
       "std      1.899005e-15\n",
       "min      9.300000e+00\n",
       "25%      9.300000e+00\n",
       "50%      9.300000e+00\n",
       "75%      9.300000e+00\n",
       "max      9.300000e+00\n",
       "Name: Item_Weight, dtype: float64"
      ]
     },
     "execution_count": 41,
     "metadata": {},
     "output_type": "execute_result"
    }
   ],
   "source": [
    "data[data['Item_Identifier']=='FDA15']['Item_Weight'].describe()"
   ]
  },
  {
   "cell_type": "code",
   "execution_count": 42,
   "id": "814b3565-e7dd-4031-8aea-1081cd2e2029",
   "metadata": {},
   "outputs": [
    {
     "data": {
      "text/plain": [
       "count    8.000000e+00\n",
       "mean     5.920000e+00\n",
       "std      9.495027e-16\n",
       "min      5.920000e+00\n",
       "25%      5.920000e+00\n",
       "50%      5.920000e+00\n",
       "75%      5.920000e+00\n",
       "max      5.920000e+00\n",
       "Name: Item_Weight, dtype: float64"
      ]
     },
     "execution_count": 42,
     "metadata": {},
     "output_type": "execute_result"
    }
   ],
   "source": [
    "data[data['Item_Identifier']=='DRC01']['Item_Weight'].describe()"
   ]
  },
  {
   "cell_type": "code",
   "execution_count": 43,
   "id": "af94175e-83cc-4035-9d4c-5f0e42bc1d46",
   "metadata": {},
   "outputs": [
    {
     "data": {
      "text/plain": [
       "count     8.00\n",
       "mean     20.25\n",
       "std       0.00\n",
       "min      20.25\n",
       "25%      20.25\n",
       "50%      20.25\n",
       "75%      20.25\n",
       "max      20.25\n",
       "Name: Item_Weight, dtype: float64"
      ]
     },
     "execution_count": 43,
     "metadata": {},
     "output_type": "execute_result"
    }
   ],
   "source": [
    "data[data['Item_Identifier']=='NCW05']['Item_Weight'].describe()"
   ]
  },
  {
   "cell_type": "markdown",
   "id": "f600f2f0-e6f4-4965-932a-c9987cfdb65e",
   "metadata": {},
   "source": [
    "Wow! Each `Item_Identifier` has fixed item weights. Now, let's impute the missing values."
   ]
  },
  {
   "cell_type": "code",
   "execution_count": 45,
   "id": "4270ef5f-10e6-439d-b4a9-c12358ed2628",
   "metadata": {},
   "outputs": [],
   "source": [
    "# Calculate the average weight per item identifier\n",
    "item_avg_weight = data.groupby('Item_Identifier')['Item_Weight'].transform('mean')\n",
    "\n",
    "# Impute missing values in 'Item_Weight' with the calculated average weight\n",
    "data['Item_Weight'].fillna(item_avg_weight, inplace=True)"
   ]
  },
  {
   "cell_type": "code",
   "execution_count": 46,
   "id": "435eecc2-b630-476d-abac-73c03d9db142",
   "metadata": {},
   "outputs": [
    {
     "data": {
      "text/plain": [
       "False"
      ]
     },
     "execution_count": 46,
     "metadata": {},
     "output_type": "execute_result"
    }
   ],
   "source": [
    "data['Item_Weight'].isnull().any()"
   ]
  },
  {
   "cell_type": "markdown",
   "id": "3e4f9d66-a675-44ff-80fd-58d809dbdff2",
   "metadata": {},
   "source": [
    "#### 3.1.2. Categorical Variable"
   ]
  },
  {
   "cell_type": "code",
   "execution_count": 48,
   "id": "a060bbe2-ad68-4763-8e55-78953bfb7b20",
   "metadata": {},
   "outputs": [
    {
     "data": {
      "text/plain": [
       "Outlet_Size\n",
       "Medium    4655\n",
       "Small     3980\n",
       "High      1553\n",
       "Name: count, dtype: int64"
      ]
     },
     "execution_count": 48,
     "metadata": {},
     "output_type": "execute_result"
    }
   ],
   "source": [
    "data.Outlet_Size.value_counts()"
   ]
  },
  {
   "cell_type": "code",
   "execution_count": 49,
   "id": "e6fea5a5-88bf-4aee-ac71-11552d799c5b",
   "metadata": {},
   "outputs": [
    {
     "data": {
      "text/plain": [
       "Outlet_Type\n",
       "Supermarket Type1    9294\n",
       "Grocery Store        1805\n",
       "Supermarket Type3    1559\n",
       "Supermarket Type2    1546\n",
       "Name: count, dtype: int64"
      ]
     },
     "execution_count": 49,
     "metadata": {},
     "output_type": "execute_result"
    }
   ],
   "source": [
    "data.Outlet_Type.value_counts()"
   ]
  },
  {
   "cell_type": "markdown",
   "id": "aa208a24-613a-4967-bc29-4d180804b521",
   "metadata": {},
   "source": [
    "Sinmilarly, for `Outlet_Size` can be imputed by the categories of `Outlet_Type`."
   ]
  },
  {
   "cell_type": "code",
   "execution_count": 51,
   "id": "13653c09-b274-4de6-8f58-151ff44625b3",
   "metadata": {},
   "outputs": [
    {
     "data": {
      "text/plain": [
       "Outlet_Size\n",
       "Small     3100\n",
       "High      1553\n",
       "Medium    1550\n",
       "Name: count, dtype: int64"
      ]
     },
     "execution_count": 51,
     "metadata": {},
     "output_type": "execute_result"
    }
   ],
   "source": [
    "data[data['Outlet_Type']=='Supermarket Type1']['Outlet_Size'].value_counts()"
   ]
  },
  {
   "cell_type": "code",
   "execution_count": 52,
   "id": "4b49db0e-7b26-4c82-94b0-8d5562ffcee2",
   "metadata": {},
   "outputs": [
    {
     "data": {
      "text/plain": [
       "Outlet_Size\n",
       "Small    880\n",
       "Name: count, dtype: int64"
      ]
     },
     "execution_count": 52,
     "metadata": {},
     "output_type": "execute_result"
    }
   ],
   "source": [
    "data[data['Outlet_Type']=='Grocery Store']['Outlet_Size'].value_counts()"
   ]
  },
  {
   "cell_type": "code",
   "execution_count": 53,
   "id": "0f93a55b-44c9-434e-b3c1-474005df4608",
   "metadata": {},
   "outputs": [
    {
     "data": {
      "text/plain": [
       "Outlet_Size\n",
       "Medium    1559\n",
       "Name: count, dtype: int64"
      ]
     },
     "execution_count": 53,
     "metadata": {},
     "output_type": "execute_result"
    }
   ],
   "source": [
    "data[data['Outlet_Type']=='Supermarket Type3']['Outlet_Size'].value_counts()"
   ]
  },
  {
   "cell_type": "code",
   "execution_count": 54,
   "id": "440a7599-83e2-4cf7-95fd-ec680fb1c3d6",
   "metadata": {},
   "outputs": [],
   "source": [
    "#Find the most common Outlet_Size for each Outlet_Type\n",
    "outlet_size_mode = data.groupby('Outlet_Type')['Outlet_Size'].agg(lambda x: x.mode()[0])\n",
    "\n",
    "# Fill missing Outlet_Size based on the mode for each Outlet_Type\n",
    "data['Outlet_Size'] = data.apply(\n",
    "    lambda row: outlet_size_mode[row['Outlet_Type']] if pd.isnull(row['Outlet_Size']) else row['Outlet_Size'],\n",
    "    axis=1\n",
    ")"
   ]
  },
  {
   "cell_type": "code",
   "execution_count": 55,
   "id": "9f7a7db2-5d84-4911-8642-4415054f6892",
   "metadata": {},
   "outputs": [
    {
     "data": {
      "text/plain": [
       "False"
      ]
     },
     "execution_count": 55,
     "metadata": {},
     "output_type": "execute_result"
    }
   ],
   "source": [
    "data['Outlet_Size'].isnull().any()"
   ]
  },
  {
   "cell_type": "markdown",
   "id": "99dc624c-f815-4225-99da-36264a76390c",
   "metadata": {},
   "source": [
    "## 4. Feature Engineering"
   ]
  },
  {
   "cell_type": "markdown",
   "id": "70fe89c6-651f-4907-aa03-6bcad8034518",
   "metadata": {},
   "source": [
    "### 4.1. Handle Inconsistencies"
   ]
  },
  {
   "cell_type": "markdown",
   "id": "eb38dfea-ccd4-4154-9363-4a6b3114bd9c",
   "metadata": {},
   "source": [
    "#### `Item_Fat_Content` inconsistent categories"
   ]
  },
  {
   "cell_type": "code",
   "execution_count": 59,
   "id": "634f275e-f0a8-40d1-8249-ae93ea49c33a",
   "metadata": {},
   "outputs": [],
   "source": [
    "# Standardize Item_Fat_Content\n",
    "data['Item_Fat_Content'] = data['Item_Fat_Content'].replace({\n",
    "    'LF':'Low Fat',\n",
    "    'low fat':'Low Fat',\n",
    "    'reg':'Regular'\n",
    "})"
   ]
  },
  {
   "cell_type": "markdown",
   "id": "903c9716-cadf-4b26-ac7c-a3086a6390b8",
   "metadata": {},
   "source": [
    "#### `Item_Visibility` = 0. \n",
    "As we have seen min value of `Item_Visibility` was 0 which can't be possible. Let's resolve this."
   ]
  },
  {
   "cell_type": "code",
   "execution_count": 61,
   "id": "73906a9b-2601-47b4-9fc0-41ff20c18942",
   "metadata": {},
   "outputs": [
    {
     "name": "stdout",
     "output_type": "stream",
     "text": [
      "No of rows with value zero for Item_Visibility : 879 i.e., 6.188397634469164%\n"
     ]
    }
   ],
   "source": [
    "print(f\"No of rows with value zero for Item_Visibility : {data[data['Item_Visibility']==0].shape[0]} i.e., {(data[data['Item_Visibility']==0].shape[0]/data.shape[0])*100}%\")"
   ]
  },
  {
   "cell_type": "code",
   "execution_count": 62,
   "id": "c0656615-17b4-4fb8-a44b-b9d0aecc75c4",
   "metadata": {},
   "outputs": [],
   "source": [
    "# Calculate the average visibility for each Item_Identifier\n",
    "item_visibility_avg = data.groupby('Item_Identifier')['Item_Visibility'].transform('mean')\n",
    "\n",
    "# Replace zero visibility values with the average visibility for that item\n",
    "data['Item_Visibility'] = data.apply(\n",
    "    lambda row: item_visibility_avg[row.name] if row['Item_Visibility'] == 0 else row['Item_Visibility'],\n",
    "    axis=1\n",
    ")"
   ]
  },
  {
   "cell_type": "markdown",
   "id": "d0712f0c-9b72-42f6-92c3-2d5853d6144d",
   "metadata": {},
   "source": [
    "### 4.2. Handle high cardinality features"
   ]
  },
  {
   "cell_type": "markdown",
   "id": "ff4c43a7-ac90-4634-95e3-104a5d0fe70f",
   "metadata": {},
   "source": [
    "> `Item_Identifier` has more than 1500 categories. Needs to find some way to combine or extract any new feature."
   ]
  },
  {
   "cell_type": "code",
   "execution_count": 65,
   "id": "700c9075-32eb-471d-847f-527d1586caef",
   "metadata": {},
   "outputs": [
    {
     "data": {
      "text/plain": [
       "1559"
      ]
     },
     "execution_count": 65,
     "metadata": {},
     "output_type": "execute_result"
    }
   ],
   "source": [
    "data['Item_Identifier'].nunique()"
   ]
  },
  {
   "cell_type": "code",
   "execution_count": 66,
   "id": "8df2d2c6-18db-4a46-9ca7-5f4f4fb04344",
   "metadata": {},
   "outputs": [
    {
     "data": {
      "text/plain": [
       "array(['FDA15', 'DRC01', 'FDN15', ..., 'NCF55', 'NCW30', 'NCW05'],\n",
       "      dtype=object)"
      ]
     },
     "execution_count": 66,
     "metadata": {},
     "output_type": "execute_result"
    }
   ],
   "source": [
    "data['Item_Identifier'].unique()"
   ]
  },
  {
   "cell_type": "code",
   "execution_count": 68,
   "id": "c979bc1d-6c96-48ba-8e9d-70ef37aae5fa",
   "metadata": {},
   "outputs": [
    {
     "data": {
      "text/plain": [
       "array(['FD', 'DR', 'NC'], dtype=object)"
      ]
     },
     "execution_count": 68,
     "metadata": {},
     "output_type": "execute_result"
    }
   ],
   "source": [
    "data['Item_Identifier'].apply(lambda x: x[0:2]).unique()"
   ]
  },
  {
   "cell_type": "markdown",
   "id": "717eafa5-c136-458e-87a6-414047a1b9c2",
   "metadata": {},
   "source": [
    "Seems like first 2 alphabets have limited Item categories and associated numbers with each of those categories would be probably are the several items associated with it.  It has just 3 categories, which could be use as a feature instead of going with several categories of `Item_Type`."
   ]
  },
  {
   "cell_type": "code",
   "execution_count": 70,
   "id": "1d6f99ae-7aef-4f91-82f5-d6c28c001b4b",
   "metadata": {},
   "outputs": [
    {
     "data": {
      "text/plain": [
       "Item_Type\n",
       "Fruits and Vegetables    2013\n",
       "Snack Foods              1989\n",
       "Household                1548\n",
       "Frozen Foods             1426\n",
       "Dairy                    1136\n",
       "Baking Goods             1086\n",
       "Canned                   1084\n",
       "Health and Hygiene        858\n",
       "Meat                      736\n",
       "Soft Drinks               726\n",
       "Breads                    416\n",
       "Hard Drinks               362\n",
       "Others                    280\n",
       "Starchy Foods             269\n",
       "Breakfast                 186\n",
       "Seafood                    89\n",
       "Name: count, dtype: int64"
      ]
     },
     "execution_count": 70,
     "metadata": {},
     "output_type": "execute_result"
    }
   ],
   "source": [
    "data.Item_Type.value_counts()"
   ]
  },
  {
   "cell_type": "code",
   "execution_count": 71,
   "id": "c963586f-0f37-44ab-b181-87f17ca7487c",
   "metadata": {},
   "outputs": [],
   "source": [
    "data['Item_Type_Extracted'] = data['Item_Identifier'].apply(lambda x: x[0:2])"
   ]
  },
  {
   "cell_type": "code",
   "execution_count": 72,
   "id": "6553d805-c152-40a3-8094-0fdbda1b6860",
   "metadata": {},
   "outputs": [
    {
     "data": {
      "text/plain": [
       "Item_Type_Extracted\n",
       "FD    10201\n",
       "NC     2686\n",
       "DR     1317\n",
       "Name: count, dtype: int64"
      ]
     },
     "execution_count": 72,
     "metadata": {},
     "output_type": "execute_result"
    }
   ],
   "source": [
    "data.Item_Type_Extracted.value_counts()"
   ]
  },
  {
   "cell_type": "markdown",
   "id": "17d5c212-f0d3-4185-a245-9dfc21c8da22",
   "metadata": {},
   "source": [
    "Now there are 3 Item_Type categories. By analysing `Item_Type_Extracted` and `Item_Type` seems to be `Item_Type` is the subset extracted item identifier which contains different type of foods, drinks etc. "
   ]
  },
  {
   "cell_type": "markdown",
   "id": "bd3131a3-5395-4a4e-aed5-5c2d29f81c89",
   "metadata": {},
   "source": [
    "So, can we add some new category for `Item_Fat_Content` since there are 2 categories **Low Fat** and **Regular** which shows still some scope of other type of fat contents. For instance Item_Type has category= `Others` which might be not good for consuming which can have completely different meaning for fat content."
   ]
  },
  {
   "cell_type": "code",
   "execution_count": 75,
   "id": "cc68af5a-4c5f-47b8-a740-25703d8ae4d0",
   "metadata": {},
   "outputs": [
    {
     "data": {
      "text/plain": [
       "Item_Fat_Content\n",
       "Low Fat    9185\n",
       "Regular    5019\n",
       "Name: count, dtype: int64"
      ]
     },
     "execution_count": 75,
     "metadata": {},
     "output_type": "execute_result"
    }
   ],
   "source": [
    "data.Item_Fat_Content.value_counts()"
   ]
  },
  {
   "cell_type": "code",
   "execution_count": 76,
   "id": "567b10b5-199b-4016-9dc7-eaba84dc3fd1",
   "metadata": {
    "scrolled": true
   },
   "outputs": [],
   "source": [
    "data.loc[data['Item_Type_Extracted']==\"NC\",'Item_Fat_Content'] = \"bad\""
   ]
  },
  {
   "cell_type": "code",
   "execution_count": 77,
   "id": "6918e6b4-6873-4fb3-a0fe-88063491e626",
   "metadata": {},
   "outputs": [],
   "source": [
    "# Create new feature: Item_Type_Combined\n",
    "#data['Item_Type_Combined'] = train['Item_Type_Extracted'].map({'FD':'Food', 'NC':'Non-Consumable', 'DR':'Drinks'})"
   ]
  },
  {
   "cell_type": "markdown",
   "id": "b2d20ae7-ed9f-41bc-85d3-4e88337f1632",
   "metadata": {},
   "source": [
    "### 4.3. New Features"
   ]
  },
  {
   "cell_type": "markdown",
   "id": "f8e2c2c3-e65a-462b-87c6-f27e43e94976",
   "metadata": {},
   "source": [
    "Products that are displayed more are usually sold more. Instead of only comparing visibility directly, it's better to see how a product’s visibility in a specific store compares to its average visibility across all stores. This helps understand if a store is giving more or less focus to a product compared to others. We can use the visibility_avg we created earlier for this."
   ]
  },
  {
   "cell_type": "code",
   "execution_count": 80,
   "id": "64093e7d-b5c0-4e5d-9dc3-8e0b662766d8",
   "metadata": {},
   "outputs": [],
   "source": [
    "# Create new feature: Item_Visibility_MeanRatio\n",
    "data['Item_Visibility_MeanRatio'] = data['Item_Visibility'] / data.groupby('Item_Identifier')['Item_Visibility'].transform('mean')"
   ]
  },
  {
   "cell_type": "markdown",
   "id": "f6500b09-863a-403e-80f6-1c3212f5719f",
   "metadata": {},
   "source": [
    "We have Outlet_Establishment_Year which can give the lifetime of the store. Let's add it."
   ]
  },
  {
   "cell_type": "code",
   "execution_count": 82,
   "id": "fd95b00c-9201-46d6-bd6e-a87f94a10c74",
   "metadata": {},
   "outputs": [],
   "source": [
    "data['Outlet_Lifetime'] = 2025 - data['Outlet_Establishment_Year']"
   ]
  },
  {
   "cell_type": "markdown",
   "id": "b8f1135c-75c7-46b7-9dec-93a8fee61e2e",
   "metadata": {},
   "source": [
    "### 4.4. Dummy variables"
   ]
  },
  {
   "cell_type": "code",
   "execution_count": 138,
   "id": "df60651b-4dde-4030-beeb-07e59fb80c14",
   "metadata": {},
   "outputs": [
    {
     "data": {
      "text/plain": [
       "['Item_Fat_Content',\n",
       " 'Item_Type',\n",
       " 'Outlet_Size',\n",
       " 'Outlet_Location_Type',\n",
       " 'Outlet_Type']"
      ]
     },
     "execution_count": 138,
     "metadata": {},
     "output_type": "execute_result"
    }
   ],
   "source": [
    "cat_var"
   ]
  },
  {
   "cell_type": "code",
   "execution_count": 140,
   "id": "aef6f7f5-9688-499e-89c5-40ad0c35e55b",
   "metadata": {},
   "outputs": [
    {
     "data": {
      "text/plain": [
       "['Item_Identifier', 'Outlet_Identifier', 'source']"
      ]
     },
     "execution_count": 140,
     "metadata": {},
     "output_type": "execute_result"
    }
   ],
   "source": [
    "id_cols"
   ]
  },
  {
   "cell_type": "code",
   "execution_count": 142,
   "id": "003564f5-f213-40dc-bf8b-ec2935e93261",
   "metadata": {},
   "outputs": [],
   "source": [
    "new_cat_var = ['Item_Fat_Content',\n",
    " 'Item_Type_Extracted',\n",
    " 'Outlet_Size',\n",
    " 'Outlet_Location_Type',\n",
    " 'Outlet_Type'] + ['Outlet_Identifier']"
   ]
  },
  {
   "cell_type": "code",
   "execution_count": 144,
   "id": "8929670b-5643-4fa6-8316-40e7ac39818c",
   "metadata": {},
   "outputs": [],
   "source": [
    "# keep it for test set\n",
    "data['Outlet_Identifier_copy'] = data['Outlet_Identifier']"
   ]
  },
  {
   "cell_type": "code",
   "execution_count": 146,
   "id": "e80bf020-de70-4d6a-9db8-a639903f1b82",
   "metadata": {},
   "outputs": [],
   "source": [
    "data = pd.get_dummies(data, columns=new_cat_var, drop_first=True,dtype=int)"
   ]
  },
  {
   "cell_type": "code",
   "execution_count": 148,
   "id": "9bff67f5-c66b-449c-8230-689030a02d0b",
   "metadata": {},
   "outputs": [
    {
     "data": {
      "text/html": [
       "<div>\n",
       "<style scoped>\n",
       "    .dataframe tbody tr th:only-of-type {\n",
       "        vertical-align: middle;\n",
       "    }\n",
       "\n",
       "    .dataframe tbody tr th {\n",
       "        vertical-align: top;\n",
       "    }\n",
       "\n",
       "    .dataframe thead th {\n",
       "        text-align: right;\n",
       "    }\n",
       "</style>\n",
       "<table border=\"1\" class=\"dataframe\">\n",
       "  <thead>\n",
       "    <tr style=\"text-align: right;\">\n",
       "      <th></th>\n",
       "      <th>Item_Identifier</th>\n",
       "      <th>Item_Weight</th>\n",
       "      <th>Item_Visibility</th>\n",
       "      <th>Item_Type</th>\n",
       "      <th>Item_MRP</th>\n",
       "      <th>Outlet_Establishment_Year</th>\n",
       "      <th>Item_Outlet_Sales</th>\n",
       "      <th>source</th>\n",
       "      <th>Item_Visibility_MeanRatio</th>\n",
       "      <th>Outlet_Lifetime</th>\n",
       "      <th>Outlet_Identifier_copy</th>\n",
       "      <th>Item_Fat_Content_Regular</th>\n",
       "      <th>Item_Fat_Content_bad</th>\n",
       "      <th>Item_Type_Extracted_FD</th>\n",
       "      <th>Item_Type_Extracted_NC</th>\n",
       "      <th>Outlet_Size_Medium</th>\n",
       "      <th>Outlet_Size_Small</th>\n",
       "      <th>Outlet_Location_Type_Tier 2</th>\n",
       "      <th>Outlet_Location_Type_Tier 3</th>\n",
       "      <th>Outlet_Type_Supermarket Type1</th>\n",
       "      <th>Outlet_Type_Supermarket Type2</th>\n",
       "      <th>Outlet_Type_Supermarket Type3</th>\n",
       "      <th>Outlet_Identifier_OUT013</th>\n",
       "      <th>Outlet_Identifier_OUT017</th>\n",
       "      <th>Outlet_Identifier_OUT018</th>\n",
       "      <th>Outlet_Identifier_OUT019</th>\n",
       "      <th>Outlet_Identifier_OUT027</th>\n",
       "      <th>Outlet_Identifier_OUT035</th>\n",
       "      <th>Outlet_Identifier_OUT045</th>\n",
       "      <th>Outlet_Identifier_OUT046</th>\n",
       "      <th>Outlet_Identifier_OUT049</th>\n",
       "    </tr>\n",
       "  </thead>\n",
       "  <tbody>\n",
       "    <tr>\n",
       "      <th>0</th>\n",
       "      <td>FDA15</td>\n",
       "      <td>9.30</td>\n",
       "      <td>0.016047</td>\n",
       "      <td>Dairy</td>\n",
       "      <td>249.8092</td>\n",
       "      <td>1999</td>\n",
       "      <td>3735.1380</td>\n",
       "      <td>train</td>\n",
       "      <td>0.931078</td>\n",
       "      <td>26</td>\n",
       "      <td>OUT049</td>\n",
       "      <td>0</td>\n",
       "      <td>0</td>\n",
       "      <td>1</td>\n",
       "      <td>0</td>\n",
       "      <td>1</td>\n",
       "      <td>0</td>\n",
       "      <td>0</td>\n",
       "      <td>0</td>\n",
       "      <td>1</td>\n",
       "      <td>0</td>\n",
       "      <td>0</td>\n",
       "      <td>0</td>\n",
       "      <td>0</td>\n",
       "      <td>0</td>\n",
       "      <td>0</td>\n",
       "      <td>0</td>\n",
       "      <td>0</td>\n",
       "      <td>0</td>\n",
       "      <td>0</td>\n",
       "      <td>1</td>\n",
       "    </tr>\n",
       "    <tr>\n",
       "      <th>1</th>\n",
       "      <td>DRC01</td>\n",
       "      <td>5.92</td>\n",
       "      <td>0.019278</td>\n",
       "      <td>Soft Drinks</td>\n",
       "      <td>48.2692</td>\n",
       "      <td>2009</td>\n",
       "      <td>443.4228</td>\n",
       "      <td>train</td>\n",
       "      <td>0.933420</td>\n",
       "      <td>16</td>\n",
       "      <td>OUT018</td>\n",
       "      <td>1</td>\n",
       "      <td>0</td>\n",
       "      <td>0</td>\n",
       "      <td>0</td>\n",
       "      <td>1</td>\n",
       "      <td>0</td>\n",
       "      <td>0</td>\n",
       "      <td>1</td>\n",
       "      <td>0</td>\n",
       "      <td>1</td>\n",
       "      <td>0</td>\n",
       "      <td>0</td>\n",
       "      <td>0</td>\n",
       "      <td>1</td>\n",
       "      <td>0</td>\n",
       "      <td>0</td>\n",
       "      <td>0</td>\n",
       "      <td>0</td>\n",
       "      <td>0</td>\n",
       "      <td>0</td>\n",
       "    </tr>\n",
       "    <tr>\n",
       "      <th>2</th>\n",
       "      <td>FDN15</td>\n",
       "      <td>17.50</td>\n",
       "      <td>0.016760</td>\n",
       "      <td>Meat</td>\n",
       "      <td>141.6180</td>\n",
       "      <td>1999</td>\n",
       "      <td>2097.2700</td>\n",
       "      <td>train</td>\n",
       "      <td>0.872790</td>\n",
       "      <td>26</td>\n",
       "      <td>OUT049</td>\n",
       "      <td>0</td>\n",
       "      <td>0</td>\n",
       "      <td>1</td>\n",
       "      <td>0</td>\n",
       "      <td>1</td>\n",
       "      <td>0</td>\n",
       "      <td>0</td>\n",
       "      <td>0</td>\n",
       "      <td>1</td>\n",
       "      <td>0</td>\n",
       "      <td>0</td>\n",
       "      <td>0</td>\n",
       "      <td>0</td>\n",
       "      <td>0</td>\n",
       "      <td>0</td>\n",
       "      <td>0</td>\n",
       "      <td>0</td>\n",
       "      <td>0</td>\n",
       "      <td>0</td>\n",
       "      <td>1</td>\n",
       "    </tr>\n",
       "    <tr>\n",
       "      <th>3</th>\n",
       "      <td>FDX07</td>\n",
       "      <td>19.20</td>\n",
       "      <td>0.017834</td>\n",
       "      <td>Fruits and Vegetables</td>\n",
       "      <td>182.0950</td>\n",
       "      <td>1998</td>\n",
       "      <td>732.3800</td>\n",
       "      <td>train</td>\n",
       "      <td>0.818182</td>\n",
       "      <td>27</td>\n",
       "      <td>OUT010</td>\n",
       "      <td>1</td>\n",
       "      <td>0</td>\n",
       "      <td>1</td>\n",
       "      <td>0</td>\n",
       "      <td>0</td>\n",
       "      <td>1</td>\n",
       "      <td>0</td>\n",
       "      <td>1</td>\n",
       "      <td>0</td>\n",
       "      <td>0</td>\n",
       "      <td>0</td>\n",
       "      <td>0</td>\n",
       "      <td>0</td>\n",
       "      <td>0</td>\n",
       "      <td>0</td>\n",
       "      <td>0</td>\n",
       "      <td>0</td>\n",
       "      <td>0</td>\n",
       "      <td>0</td>\n",
       "      <td>0</td>\n",
       "    </tr>\n",
       "    <tr>\n",
       "      <th>4</th>\n",
       "      <td>NCD19</td>\n",
       "      <td>8.93</td>\n",
       "      <td>0.009780</td>\n",
       "      <td>Household</td>\n",
       "      <td>53.8614</td>\n",
       "      <td>1987</td>\n",
       "      <td>994.7052</td>\n",
       "      <td>train</td>\n",
       "      <td>0.750000</td>\n",
       "      <td>38</td>\n",
       "      <td>OUT013</td>\n",
       "      <td>0</td>\n",
       "      <td>1</td>\n",
       "      <td>0</td>\n",
       "      <td>1</td>\n",
       "      <td>0</td>\n",
       "      <td>0</td>\n",
       "      <td>0</td>\n",
       "      <td>1</td>\n",
       "      <td>1</td>\n",
       "      <td>0</td>\n",
       "      <td>0</td>\n",
       "      <td>1</td>\n",
       "      <td>0</td>\n",
       "      <td>0</td>\n",
       "      <td>0</td>\n",
       "      <td>0</td>\n",
       "      <td>0</td>\n",
       "      <td>0</td>\n",
       "      <td>0</td>\n",
       "      <td>0</td>\n",
       "    </tr>\n",
       "  </tbody>\n",
       "</table>\n",
       "</div>"
      ],
      "text/plain": [
       "  Item_Identifier  Item_Weight  Item_Visibility              Item_Type  \\\n",
       "0           FDA15         9.30         0.016047                  Dairy   \n",
       "1           DRC01         5.92         0.019278            Soft Drinks   \n",
       "2           FDN15        17.50         0.016760                   Meat   \n",
       "3           FDX07        19.20         0.017834  Fruits and Vegetables   \n",
       "4           NCD19         8.93         0.009780              Household   \n",
       "\n",
       "   Item_MRP  Outlet_Establishment_Year  Item_Outlet_Sales source  \\\n",
       "0  249.8092                       1999          3735.1380  train   \n",
       "1   48.2692                       2009           443.4228  train   \n",
       "2  141.6180                       1999          2097.2700  train   \n",
       "3  182.0950                       1998           732.3800  train   \n",
       "4   53.8614                       1987           994.7052  train   \n",
       "\n",
       "   Item_Visibility_MeanRatio  Outlet_Lifetime Outlet_Identifier_copy  \\\n",
       "0                   0.931078               26                 OUT049   \n",
       "1                   0.933420               16                 OUT018   \n",
       "2                   0.872790               26                 OUT049   \n",
       "3                   0.818182               27                 OUT010   \n",
       "4                   0.750000               38                 OUT013   \n",
       "\n",
       "   Item_Fat_Content_Regular  Item_Fat_Content_bad  Item_Type_Extracted_FD  \\\n",
       "0                         0                     0                       1   \n",
       "1                         1                     0                       0   \n",
       "2                         0                     0                       1   \n",
       "3                         1                     0                       1   \n",
       "4                         0                     1                       0   \n",
       "\n",
       "   Item_Type_Extracted_NC  Outlet_Size_Medium  Outlet_Size_Small  \\\n",
       "0                       0                   1                  0   \n",
       "1                       0                   1                  0   \n",
       "2                       0                   1                  0   \n",
       "3                       0                   0                  1   \n",
       "4                       1                   0                  0   \n",
       "\n",
       "   Outlet_Location_Type_Tier 2  Outlet_Location_Type_Tier 3  \\\n",
       "0                            0                            0   \n",
       "1                            0                            1   \n",
       "2                            0                            0   \n",
       "3                            0                            1   \n",
       "4                            0                            1   \n",
       "\n",
       "   Outlet_Type_Supermarket Type1  Outlet_Type_Supermarket Type2  \\\n",
       "0                              1                              0   \n",
       "1                              0                              1   \n",
       "2                              1                              0   \n",
       "3                              0                              0   \n",
       "4                              1                              0   \n",
       "\n",
       "   Outlet_Type_Supermarket Type3  Outlet_Identifier_OUT013  \\\n",
       "0                              0                         0   \n",
       "1                              0                         0   \n",
       "2                              0                         0   \n",
       "3                              0                         0   \n",
       "4                              0                         1   \n",
       "\n",
       "   Outlet_Identifier_OUT017  Outlet_Identifier_OUT018  \\\n",
       "0                         0                         0   \n",
       "1                         0                         1   \n",
       "2                         0                         0   \n",
       "3                         0                         0   \n",
       "4                         0                         0   \n",
       "\n",
       "   Outlet_Identifier_OUT019  Outlet_Identifier_OUT027  \\\n",
       "0                         0                         0   \n",
       "1                         0                         0   \n",
       "2                         0                         0   \n",
       "3                         0                         0   \n",
       "4                         0                         0   \n",
       "\n",
       "   Outlet_Identifier_OUT035  Outlet_Identifier_OUT045  \\\n",
       "0                         0                         0   \n",
       "1                         0                         0   \n",
       "2                         0                         0   \n",
       "3                         0                         0   \n",
       "4                         0                         0   \n",
       "\n",
       "   Outlet_Identifier_OUT046  Outlet_Identifier_OUT049  \n",
       "0                         0                         1  \n",
       "1                         0                         0  \n",
       "2                         0                         1  \n",
       "3                         0                         0  \n",
       "4                         0                         0  "
      ]
     },
     "execution_count": 148,
     "metadata": {},
     "output_type": "execute_result"
    }
   ],
   "source": [
    "data.head()"
   ]
  },
  {
   "cell_type": "code",
   "execution_count": 150,
   "id": "ef95c076-dfbd-44bd-9f44-c09869652a93",
   "metadata": {},
   "outputs": [],
   "source": [
    "data.rename(columns={'Outlet_Identifier_copy':'Outlet_Identifier'},inplace=True)"
   ]
  },
  {
   "cell_type": "code",
   "execution_count": 154,
   "id": "30d2b136-f1f6-441b-8449-141a699626f5",
   "metadata": {},
   "outputs": [],
   "source": [
    "data.to_csv(\"data_combined_preprocessed.csv\", index=False)"
   ]
  },
  {
   "cell_type": "markdown",
   "id": "d4f30e43-425a-4001-ab61-aefddb3c9b62",
   "metadata": {},
   "source": [
    "## 5. Modeling"
   ]
  },
  {
   "cell_type": "markdown",
   "id": "d458c687-4141-4396-9fd0-505161970d32",
   "metadata": {},
   "source": [
    "### 5.1. Feature Selection"
   ]
  },
  {
   "cell_type": "code",
   "execution_count": 163,
   "id": "5f6b128e-dac2-47b4-a6e2-a58d4384911f",
   "metadata": {},
   "outputs": [],
   "source": [
    "drop_cols = ['Item_Identifier','Item_Type','Outlet_Establishment_Year','Outlet_Identifier']\n",
    "target = ['Item_Outlet_Sales']"
   ]
  },
  {
   "cell_type": "code",
   "execution_count": 165,
   "id": "aa2678bf-c378-47c7-ae2c-3b2806e4bd95",
   "metadata": {},
   "outputs": [
    {
     "data": {
      "text/plain": [
       "['Item_Weight',\n",
       " 'Item_Visibility',\n",
       " 'Item_MRP',\n",
       " 'Item_Visibility_MeanRatio',\n",
       " 'Outlet_Lifetime',\n",
       " 'Item_Fat_Content_Regular',\n",
       " 'Item_Fat_Content_bad',\n",
       " 'Item_Type_Extracted_FD',\n",
       " 'Item_Type_Extracted_NC',\n",
       " 'Outlet_Size_Medium',\n",
       " 'Outlet_Size_Small',\n",
       " 'Outlet_Location_Type_Tier 2',\n",
       " 'Outlet_Location_Type_Tier 3',\n",
       " 'Outlet_Type_Supermarket Type1',\n",
       " 'Outlet_Type_Supermarket Type2',\n",
       " 'Outlet_Type_Supermarket Type3',\n",
       " 'Outlet_Identifier_OUT013',\n",
       " 'Outlet_Identifier_OUT017',\n",
       " 'Outlet_Identifier_OUT018',\n",
       " 'Outlet_Identifier_OUT019',\n",
       " 'Outlet_Identifier_OUT027',\n",
       " 'Outlet_Identifier_OUT035',\n",
       " 'Outlet_Identifier_OUT045',\n",
       " 'Outlet_Identifier_OUT046',\n",
       " 'Outlet_Identifier_OUT049']"
      ]
     },
     "execution_count": 165,
     "metadata": {},
     "output_type": "execute_result"
    }
   ],
   "source": [
    "trainable_cols = [col for col in data.columns if col not in drop_cols + target + ['source']]\n",
    "len(trainable_cols)\n",
    "trainable_cols"
   ]
  },
  {
   "cell_type": "code",
   "execution_count": 167,
   "id": "44254e75-9a3c-41fd-b3e1-e25b81f9ad45",
   "metadata": {},
   "outputs": [],
   "source": [
    "train = data.loc[data['source']==\"train\"]\n",
    "test = data.loc[data['source']==\"test\"]"
   ]
  },
  {
   "cell_type": "code",
   "execution_count": 169,
   "id": "31665466-589f-4a31-aa88-9c763a01d4a6",
   "metadata": {
    "scrolled": true
   },
   "outputs": [],
   "source": [
    "# Save Item_Identifier and Outlet_Identifier for submission\n",
    "test_ids = test[['Item_Identifier', 'Outlet_Identifier']]"
   ]
  },
  {
   "cell_type": "code",
   "execution_count": 865,
   "id": "c173a5f3-cfc3-434a-9e4f-4870930d90d4",
   "metadata": {},
   "outputs": [],
   "source": [
    "from sklearn.ensemble import RandomForestRegressor"
   ]
  },
  {
   "cell_type": "markdown",
   "id": "9b459b6e-11c9-4590-b2d9-6f9949d4e54a",
   "metadata": {},
   "source": [
    "### 5.2. Train Model"
   ]
  },
  {
   "cell_type": "code",
   "execution_count": 171,
   "id": "ccaee07b-3b1c-4903-9a86-23fde2945efb",
   "metadata": {},
   "outputs": [],
   "source": [
    "# Drop unneeded columns\n",
    "# Define X and y\n",
    "X = train[trainable_cols]\n",
    "y = train['Item_Outlet_Sales']"
   ]
  },
  {
   "cell_type": "code",
   "execution_count": 173,
   "id": "ec68f0f5-01e9-487f-a212-4b752c54302c",
   "metadata": {},
   "outputs": [],
   "source": [
    "X_train, X_valid, y_train, y_valid = train_test_split(X, y, test_size=0.1, random_state=42)"
   ]
  },
  {
   "cell_type": "markdown",
   "id": "e82a9043-eb22-47d6-b632-a7e2e2071697",
   "metadata": {},
   "source": [
    "#### RF"
   ]
  },
  {
   "cell_type": "code",
   "execution_count": 175,
   "id": "682c2ea1-f8a5-47a4-ae82-bd30fadad73a",
   "metadata": {},
   "outputs": [
    {
     "name": "stdout",
     "output_type": "stream",
     "text": [
      "Train - Random Forest RMSE: 1089.3023771975782\n",
      "Validation - Random Forest RMSE: 1046.3511659665053\n"
     ]
    }
   ],
   "source": [
    "# Random Forest\n",
    "rf = RandomForestRegressor(n_estimators=200,max_depth=5, min_samples_leaf=100,n_jobs=4)\n",
    "rf.fit(X_train, y_train)\n",
    "\n",
    "y_pred_rf_tr = rf.predict(X_train)\n",
    "print(\"Train - Random Forest RMSE:\", np.sqrt(mean_squared_error(y_train, y_pred_rf_tr)))\n",
    "\n",
    "y_pred_rf = rf.predict(X_valid)\n",
    "print(\"Validation - Random Forest RMSE:\", np.sqrt(mean_squared_error(y_valid, y_pred_rf)))\n"
   ]
  },
  {
   "cell_type": "markdown",
   "id": "cc4ec091-0173-4216-91a6-1aac1f0c1da7",
   "metadata": {},
   "source": [
    "#### XGB"
   ]
  },
  {
   "cell_type": "code",
   "execution_count": 177,
   "id": "3b09b399-27f0-4f1b-beca-1d8748208b10",
   "metadata": {},
   "outputs": [
    {
     "name": "stdout",
     "output_type": "stream",
     "text": [
      "Train - XGBoost RMSE: 1010.28345766615\n",
      "Validation - XGBoost RMSE: 1033.365961081925\n"
     ]
    }
   ],
   "source": [
    "# XGBoost\n",
    "xg_reg = xgb.XGBRegressor(objective=\"reg:squarederror\", n_estimators=50, learning_rate=0.1, max_depth=5, random_state=42)\n",
    "xg_reg.fit(X_train, y_train)\n",
    "\n",
    "y_pred_xgb_tr = xg_reg.predict(X_train)\n",
    "print(\"Train - XGBoost RMSE:\", np.sqrt(mean_squared_error(y_train, y_pred_xgb_tr)))\n",
    "\n",
    "y_pred_xgb = xg_reg.predict(X_valid)\n",
    "print(\"Validation - XGBoost RMSE:\", np.sqrt(mean_squared_error(y_valid, y_pred_xgb)))"
   ]
  },
  {
   "cell_type": "markdown",
   "id": "b68d3412-24da-4341-a991-15a7b4aebca6",
   "metadata": {},
   "source": [
    "### 5.3. Hyperparameter tuning"
   ]
  },
  {
   "cell_type": "code",
   "execution_count": 194,
   "id": "ea79c3b3-43f6-4b73-ac3d-890b151ca06c",
   "metadata": {},
   "outputs": [],
   "source": [
    "import numpy as np\n",
    "import optuna\n",
    "from sklearn.model_selection import cross_val_score, KFold\n",
    "from sklearn.metrics import make_scorer, mean_squared_error\n",
    "from sklearn.ensemble import RandomForestRegressor\n",
    "from xgboost import XGBRegressor"
   ]
  },
  {
   "cell_type": "markdown",
   "id": "16f8aa41-45af-486a-b28e-749b8ad5b85a",
   "metadata": {},
   "source": [
    "#### RF"
   ]
  },
  {
   "cell_type": "code",
   "execution_count": 910,
   "id": "47a2de1c-ac03-46b5-b881-425c912c0830",
   "metadata": {
    "scrolled": true
   },
   "outputs": [
    {
     "name": "stderr",
     "output_type": "stream",
     "text": [
      "[I 2025-04-29 12:00:45,456] A new study created in memory with name: no-name-bb9b188e-0623-454d-bd54-c01f75b6c658\n",
      "[I 2025-04-29 12:00:49,934] Trial 0 finished with value: 1097.8628048670912 and parameters: {'n_estimators': 812, 'max_depth': 8, 'min_samples_split': 9, 'min_samples_leaf': 9}. Best is trial 0 with value: 1097.8628048670912.\n",
      "[I 2025-04-29 12:00:51,255] Trial 1 finished with value: 1106.0836017376182 and parameters: {'n_estimators': 171, 'max_depth': 12, 'min_samples_split': 9, 'min_samples_leaf': 1}. Best is trial 0 with value: 1097.8628048670912.\n",
      "[I 2025-04-29 12:00:55,433] Trial 2 finished with value: 1113.1428286064397 and parameters: {'n_estimators': 573, 'max_depth': 25, 'min_samples_split': 5, 'min_samples_leaf': 8}. Best is trial 0 with value: 1097.8628048670912.\n",
      "[I 2025-04-29 12:01:03,308] Trial 3 finished with value: 1115.0797052203693 and parameters: {'n_estimators': 924, 'max_depth': 16, 'min_samples_split': 9, 'min_samples_leaf': 3}. Best is trial 0 with value: 1097.8628048670912.\n",
      "[I 2025-04-29 12:01:05,157] Trial 4 finished with value: 1122.360686148187 and parameters: {'n_estimators': 217, 'max_depth': 26, 'min_samples_split': 3, 'min_samples_leaf': 4}. Best is trial 0 with value: 1097.8628048670912.\n",
      "[I 2025-04-29 12:01:10,475] Trial 5 finished with value: 1093.4602168482184 and parameters: {'n_estimators': 941, 'max_depth': 8, 'min_samples_split': 3, 'min_samples_leaf': 4}. Best is trial 5 with value: 1093.4602168482184.\n",
      "[I 2025-04-29 12:01:16,990] Trial 6 finished with value: 1099.5258494528453 and parameters: {'n_estimators': 934, 'max_depth': 10, 'min_samples_split': 9, 'min_samples_leaf': 4}. Best is trial 5 with value: 1093.4602168482184.\n",
      "[I 2025-04-29 12:01:18,424] Trial 7 finished with value: 1272.9864275265286 and parameters: {'n_estimators': 513, 'max_depth': 2, 'min_samples_split': 10, 'min_samples_leaf': 7}. Best is trial 5 with value: 1093.4602168482184.\n",
      "[I 2025-04-29 12:01:25,137] Trial 8 finished with value: 1125.3940194717693 and parameters: {'n_estimators': 689, 'max_depth': 18, 'min_samples_split': 4, 'min_samples_leaf': 1}. Best is trial 5 with value: 1093.4602168482184.\n",
      "[I 2025-04-29 12:01:27,807] Trial 9 finished with value: 1115.217752858363 and parameters: {'n_estimators': 341, 'max_depth': 25, 'min_samples_split': 3, 'min_samples_leaf': 7}. Best is trial 5 with value: 1093.4602168482184.\n",
      "[I 2025-04-29 12:01:31,107] Trial 10 finished with value: 1175.3662988998308 and parameters: {'n_estimators': 995, 'max_depth': 3, 'min_samples_split': 6, 'min_samples_leaf': 10}. Best is trial 5 with value: 1093.4602168482184.\n",
      "[I 2025-04-29 12:01:35,708] Trial 11 finished with value: 1100.4647243922464 and parameters: {'n_estimators': 762, 'max_depth': 9, 'min_samples_split': 7, 'min_samples_leaf': 10}. Best is trial 5 with value: 1093.4602168482184.\n",
      "[I 2025-04-29 12:01:39,395] Trial 12 finished with value: 1092.9409951628961 and parameters: {'n_estimators': 792, 'max_depth': 6, 'min_samples_split': 2, 'min_samples_leaf': 5}. Best is trial 12 with value: 1092.9409951628961.\n",
      "[I 2025-04-29 12:01:42,889] Trial 13 finished with value: 1096.0468960303347 and parameters: {'n_estimators': 825, 'max_depth': 5, 'min_samples_split': 2, 'min_samples_leaf': 5}. Best is trial 12 with value: 1092.9409951628961.\n",
      "[I 2025-04-29 12:01:47,645] Trial 14 finished with value: 1111.8919925205753 and parameters: {'n_estimators': 636, 'max_depth': 14, 'min_samples_split': 2, 'min_samples_leaf': 6}. Best is trial 12 with value: 1092.9409951628961.\n",
      "[I 2025-04-29 12:01:51,852] Trial 15 finished with value: 1127.0293956409423 and parameters: {'n_estimators': 429, 'max_depth': 20, 'min_samples_split': 4, 'min_samples_leaf': 2}. Best is trial 12 with value: 1092.9409951628961.\n",
      "[I 2025-04-29 12:01:56,597] Trial 16 finished with value: 1092.4296491223179 and parameters: {'n_estimators': 865, 'max_depth': 7, 'min_samples_split': 2, 'min_samples_leaf': 5}. Best is trial 16 with value: 1092.4296491223179.\n",
      "[I 2025-04-29 12:01:59,692] Trial 17 finished with value: 1096.0494838715879 and parameters: {'n_estimators': 715, 'max_depth': 5, 'min_samples_split': 7, 'min_samples_leaf': 6}. Best is trial 16 with value: 1092.4296491223179.\n",
      "[I 2025-04-29 12:02:06,276] Trial 18 finished with value: 1117.263221744477 and parameters: {'n_estimators': 842, 'max_depth': 21, 'min_samples_split': 2, 'min_samples_leaf': 5}. Best is trial 16 with value: 1092.4296491223179.\n",
      "[I 2025-04-29 12:02:10,851] Trial 19 finished with value: 1106.061808174793 and parameters: {'n_estimators': 619, 'max_depth': 12, 'min_samples_split': 5, 'min_samples_leaf': 3}. Best is trial 16 with value: 1092.4296491223179.\n",
      "[I 2025-04-29 12:02:13,361] Trial 20 finished with value: 1093.7789950350311 and parameters: {'n_estimators': 506, 'max_depth': 6, 'min_samples_split': 4, 'min_samples_leaf': 7}. Best is trial 16 with value: 1092.4296491223179.\n",
      "[I 2025-04-29 12:02:17,479] Trial 21 finished with value: 1092.7229244721334 and parameters: {'n_estimators': 900, 'max_depth': 6, 'min_samples_split': 3, 'min_samples_leaf': 4}. Best is trial 16 with value: 1092.4296491223179.\n",
      "[I 2025-04-29 12:02:19,760] Trial 22 finished with value: 1273.0600068673477 and parameters: {'n_estimators': 874, 'max_depth': 2, 'min_samples_split': 2, 'min_samples_leaf': 5}. Best is trial 16 with value: 1092.4296491223179.\n",
      "[I 2025-04-29 12:02:23,343] Trial 23 finished with value: 1092.5806183060702 and parameters: {'n_estimators': 751, 'max_depth': 6, 'min_samples_split': 3, 'min_samples_leaf': 3}. Best is trial 16 with value: 1092.4296491223179.\n",
      "[I 2025-04-29 12:02:29,588] Trial 24 finished with value: 1123.7025823004556 and parameters: {'n_estimators': 723, 'max_depth': 29, 'min_samples_split': 3, 'min_samples_leaf': 3}. Best is trial 16 with value: 1092.4296491223179.\n",
      "[I 2025-04-29 12:02:36,503] Trial 25 finished with value: 1101.2425328157085 and parameters: {'n_estimators': 993, 'max_depth': 11, 'min_samples_split': 5, 'min_samples_leaf': 2}. Best is trial 16 with value: 1092.4296491223179.\n",
      "[I 2025-04-29 12:02:40,893] Trial 26 finished with value: 1090.9208043211245 and parameters: {'n_estimators': 880, 'max_depth': 7, 'min_samples_split': 4, 'min_samples_leaf': 2}. Best is trial 26 with value: 1090.9208043211245.\n",
      "[I 2025-04-29 12:02:46,499] Trial 27 finished with value: 1116.2564659974337 and parameters: {'n_estimators': 672, 'max_depth': 15, 'min_samples_split': 4, 'min_samples_leaf': 2}. Best is trial 26 with value: 1090.9208043211245.\n",
      "[I 2025-04-29 12:02:49,347] Trial 28 finished with value: 1110.340646439872 and parameters: {'n_estimators': 759, 'max_depth': 4, 'min_samples_split': 6, 'min_samples_leaf': 3}. Best is trial 26 with value: 1090.9208043211245.\n",
      "[I 2025-04-29 12:02:53,878] Trial 29 finished with value: 1093.1223082122729 and parameters: {'n_estimators': 817, 'max_depth': 8, 'min_samples_split': 4, 'min_samples_leaf': 1}. Best is trial 26 with value: 1090.9208043211245.\n",
      "[I 2025-04-29 12:03:00,724] Trial 30 finished with value: 1109.3983634449964 and parameters: {'n_estimators': 870, 'max_depth': 13, 'min_samples_split': 3, 'min_samples_leaf': 2}. Best is trial 26 with value: 1090.9208043211245.\n",
      "[I 2025-04-29 12:03:05,512] Trial 31 finished with value: 1091.600135140176 and parameters: {'n_estimators': 908, 'max_depth': 7, 'min_samples_split': 3, 'min_samples_leaf': 4}. Best is trial 26 with value: 1090.9208043211245.\n",
      "[I 2025-04-29 12:03:11,594] Trial 32 finished with value: 1099.5212661031032 and parameters: {'n_estimators': 955, 'max_depth': 10, 'min_samples_split': 2, 'min_samples_leaf': 4}. Best is trial 26 with value: 1090.9208043211245.\n",
      "[I 2025-04-29 12:03:16,029] Trial 33 finished with value: 1091.090639234602 and parameters: {'n_estimators': 862, 'max_depth': 7, 'min_samples_split': 3, 'min_samples_leaf': 3}. Best is trial 26 with value: 1090.9208043211245.\n",
      "[I 2025-04-29 12:03:20,720] Trial 34 finished with value: 1096.1228306867713 and parameters: {'n_estimators': 862, 'max_depth': 8, 'min_samples_split': 5, 'min_samples_leaf': 6}. Best is trial 26 with value: 1090.9208043211245.\n",
      "[I 2025-04-29 12:03:25,715] Trial 35 finished with value: 1092.9775905674383 and parameters: {'n_estimators': 902, 'max_depth': 8, 'min_samples_split': 4, 'min_samples_leaf': 1}. Best is trial 26 with value: 1090.9208043211245.\n",
      "[I 2025-04-29 12:03:31,319] Trial 36 finished with value: 1106.5983054446501 and parameters: {'n_estimators': 800, 'max_depth': 12, 'min_samples_split': 3, 'min_samples_leaf': 4}. Best is trial 26 with value: 1090.9208043211245.\n",
      "[I 2025-04-29 12:03:31,890] Trial 37 finished with value: 1110.572177964312 and parameters: {'n_estimators': 129, 'max_depth': 4, 'min_samples_split': 2, 'min_samples_leaf': 3}. Best is trial 26 with value: 1090.9208043211245.\n",
      "[I 2025-04-29 12:03:38,362] Trial 38 finished with value: 1097.7250064863651 and parameters: {'n_estimators': 966, 'max_depth': 10, 'min_samples_split': 6, 'min_samples_leaf': 2}. Best is trial 26 with value: 1090.9208043211245.\n",
      "[I 2025-04-29 12:03:39,691] Trial 39 finished with value: 1091.8279801286612 and parameters: {'n_estimators': 249, 'max_depth': 7, 'min_samples_split': 3, 'min_samples_leaf': 4}. Best is trial 26 with value: 1090.9208043211245.\n",
      "[I 2025-04-29 12:03:41,293] Trial 40 finished with value: 1118.350225389062 and parameters: {'n_estimators': 196, 'max_depth': 16, 'min_samples_split': 4, 'min_samples_leaf': 4}. Best is trial 26 with value: 1090.9208043211245.\n",
      "[I 2025-04-29 12:03:43,443] Trial 41 finished with value: 1094.2527514658007 and parameters: {'n_estimators': 377, 'max_depth': 8, 'min_samples_split': 3, 'min_samples_leaf': 4}. Best is trial 26 with value: 1090.9208043211245.\n",
      "[I 2025-04-29 12:03:45,156] Trial 42 finished with value: 1092.5191182074846 and parameters: {'n_estimators': 323, 'max_depth': 7, 'min_samples_split': 2, 'min_samples_leaf': 5}. Best is trial 26 with value: 1090.9208043211245.\n",
      "[I 2025-04-29 12:03:46,055] Trial 43 finished with value: 1110.5576308244968 and parameters: {'n_estimators': 233, 'max_depth': 4, 'min_samples_split': 3, 'min_samples_leaf': 3}. Best is trial 26 with value: 1090.9208043211245.\n",
      "[I 2025-04-29 12:03:47,836] Trial 44 finished with value: 1100.5629233429804 and parameters: {'n_estimators': 271, 'max_depth': 10, 'min_samples_split': 3, 'min_samples_leaf': 4}. Best is trial 26 with value: 1090.9208043211245.\n",
      "[I 2025-04-29 12:03:50,771] Trial 45 finished with value: 1175.3537763823856 and parameters: {'n_estimators': 919, 'max_depth': 3, 'min_samples_split': 5, 'min_samples_leaf': 3}. Best is trial 26 with value: 1090.9208043211245.\n",
      "[I 2025-04-29 12:03:53,566] Trial 46 finished with value: 1100.5462820568416 and parameters: {'n_estimators': 472, 'max_depth': 9, 'min_samples_split': 4, 'min_samples_leaf': 8}. Best is trial 26 with value: 1090.9208043211245.\n",
      "[I 2025-04-29 12:03:56,422] Trial 47 finished with value: 1092.41355303533 and parameters: {'n_estimators': 568, 'max_depth': 7, 'min_samples_split': 2, 'min_samples_leaf': 5}. Best is trial 26 with value: 1090.9208043211245.\n",
      "[I 2025-04-29 12:03:58,780] Trial 48 finished with value: 1096.1220302950892 and parameters: {'n_estimators': 569, 'max_depth': 5, 'min_samples_split': 8, 'min_samples_leaf': 6}. Best is trial 26 with value: 1090.9208043211245.\n",
      "[I 2025-04-29 12:04:00,396] Trial 49 finished with value: 1273.1041864180916 and parameters: {'n_estimators': 602, 'max_depth': 2, 'min_samples_split': 3, 'min_samples_leaf': 2}. Best is trial 26 with value: 1090.9208043211245.\n"
     ]
    },
    {
     "name": "stdout",
     "output_type": "stream",
     "text": [
      "Best RF params: {'n_estimators': 880, 'max_depth': 7, 'min_samples_split': 4, 'min_samples_leaf': 2}\n",
      "Best RF RMSE: 1090.9208043211245\n"
     ]
    }
   ],
   "source": [
    "def objective_rf(trial):\n",
    "    n_estimators = trial.suggest_int(\"n_estimators\", 100, 1000)\n",
    "    max_depth = trial.suggest_int(\"max_depth\", 2, 30)\n",
    "    min_samples_split = trial.suggest_int(\"min_samples_split\", 2, 10)\n",
    "    min_samples_leaf = trial.suggest_int(\"min_samples_leaf\", 1, 10)\n",
    "\n",
    "    model = RandomForestRegressor(\n",
    "        n_estimators=n_estimators,\n",
    "        max_depth=max_depth,\n",
    "        min_samples_split=min_samples_split,\n",
    "        min_samples_leaf=min_samples_leaf,\n",
    "        random_state=42,\n",
    "        n_jobs=-1\n",
    "    )\n",
    "\n",
    "    score = cross_val_score(model, X, y, cv=5, scoring=\"neg_root_mean_squared_error\").mean()\n",
    "    return -score  # minimize RMSE\n",
    "\n",
    "study_rf = optuna.create_study(direction=\"minimize\")\n",
    "study_rf.optimize(objective_rf, n_trials=50)\n",
    "print(\"Best RF params:\", study_rf.best_params)\n",
    "print(\"Best RF RMSE:\", study_rf.best_value)"
   ]
  },
  {
   "cell_type": "code",
   "execution_count": 918,
   "id": "103be09e-96f9-418a-9712-ba1008f3b43a",
   "metadata": {},
   "outputs": [
    {
     "data": {
      "text/plain": [
       "{'n_estimators': 880,\n",
       " 'max_depth': 7,\n",
       " 'min_samples_split': 4,\n",
       " 'min_samples_leaf': 2}"
      ]
     },
     "execution_count": 918,
     "metadata": {},
     "output_type": "execute_result"
    }
   ],
   "source": [
    "rf_best_params = study_rf.best_params\n",
    "rf_best_params"
   ]
  },
  {
   "cell_type": "code",
   "execution_count": 922,
   "id": "c9fd16e1-6f0e-404b-9b08-c9c812854d5d",
   "metadata": {},
   "outputs": [
    {
     "data": {
      "text/html": [
       "<style>#sk-container-id-2 {\n",
       "  /* Definition of color scheme common for light and dark mode */\n",
       "  --sklearn-color-text: black;\n",
       "  --sklearn-color-line: gray;\n",
       "  /* Definition of color scheme for unfitted estimators */\n",
       "  --sklearn-color-unfitted-level-0: #fff5e6;\n",
       "  --sklearn-color-unfitted-level-1: #f6e4d2;\n",
       "  --sklearn-color-unfitted-level-2: #ffe0b3;\n",
       "  --sklearn-color-unfitted-level-3: chocolate;\n",
       "  /* Definition of color scheme for fitted estimators */\n",
       "  --sklearn-color-fitted-level-0: #f0f8ff;\n",
       "  --sklearn-color-fitted-level-1: #d4ebff;\n",
       "  --sklearn-color-fitted-level-2: #b3dbfd;\n",
       "  --sklearn-color-fitted-level-3: cornflowerblue;\n",
       "\n",
       "  /* Specific color for light theme */\n",
       "  --sklearn-color-text-on-default-background: var(--sg-text-color, var(--theme-code-foreground, var(--jp-content-font-color1, black)));\n",
       "  --sklearn-color-background: var(--sg-background-color, var(--theme-background, var(--jp-layout-color0, white)));\n",
       "  --sklearn-color-border-box: var(--sg-text-color, var(--theme-code-foreground, var(--jp-content-font-color1, black)));\n",
       "  --sklearn-color-icon: #696969;\n",
       "\n",
       "  @media (prefers-color-scheme: dark) {\n",
       "    /* Redefinition of color scheme for dark theme */\n",
       "    --sklearn-color-text-on-default-background: var(--sg-text-color, var(--theme-code-foreground, var(--jp-content-font-color1, white)));\n",
       "    --sklearn-color-background: var(--sg-background-color, var(--theme-background, var(--jp-layout-color0, #111)));\n",
       "    --sklearn-color-border-box: var(--sg-text-color, var(--theme-code-foreground, var(--jp-content-font-color1, white)));\n",
       "    --sklearn-color-icon: #878787;\n",
       "  }\n",
       "}\n",
       "\n",
       "#sk-container-id-2 {\n",
       "  color: var(--sklearn-color-text);\n",
       "}\n",
       "\n",
       "#sk-container-id-2 pre {\n",
       "  padding: 0;\n",
       "}\n",
       "\n",
       "#sk-container-id-2 input.sk-hidden--visually {\n",
       "  border: 0;\n",
       "  clip: rect(1px 1px 1px 1px);\n",
       "  clip: rect(1px, 1px, 1px, 1px);\n",
       "  height: 1px;\n",
       "  margin: -1px;\n",
       "  overflow: hidden;\n",
       "  padding: 0;\n",
       "  position: absolute;\n",
       "  width: 1px;\n",
       "}\n",
       "\n",
       "#sk-container-id-2 div.sk-dashed-wrapped {\n",
       "  border: 1px dashed var(--sklearn-color-line);\n",
       "  margin: 0 0.4em 0.5em 0.4em;\n",
       "  box-sizing: border-box;\n",
       "  padding-bottom: 0.4em;\n",
       "  background-color: var(--sklearn-color-background);\n",
       "}\n",
       "\n",
       "#sk-container-id-2 div.sk-container {\n",
       "  /* jupyter's `normalize.less` sets `[hidden] { display: none; }`\n",
       "     but bootstrap.min.css set `[hidden] { display: none !important; }`\n",
       "     so we also need the `!important` here to be able to override the\n",
       "     default hidden behavior on the sphinx rendered scikit-learn.org.\n",
       "     See: https://github.com/scikit-learn/scikit-learn/issues/21755 */\n",
       "  display: inline-block !important;\n",
       "  position: relative;\n",
       "}\n",
       "\n",
       "#sk-container-id-2 div.sk-text-repr-fallback {\n",
       "  display: none;\n",
       "}\n",
       "\n",
       "div.sk-parallel-item,\n",
       "div.sk-serial,\n",
       "div.sk-item {\n",
       "  /* draw centered vertical line to link estimators */\n",
       "  background-image: linear-gradient(var(--sklearn-color-text-on-default-background), var(--sklearn-color-text-on-default-background));\n",
       "  background-size: 2px 100%;\n",
       "  background-repeat: no-repeat;\n",
       "  background-position: center center;\n",
       "}\n",
       "\n",
       "/* Parallel-specific style estimator block */\n",
       "\n",
       "#sk-container-id-2 div.sk-parallel-item::after {\n",
       "  content: \"\";\n",
       "  width: 100%;\n",
       "  border-bottom: 2px solid var(--sklearn-color-text-on-default-background);\n",
       "  flex-grow: 1;\n",
       "}\n",
       "\n",
       "#sk-container-id-2 div.sk-parallel {\n",
       "  display: flex;\n",
       "  align-items: stretch;\n",
       "  justify-content: center;\n",
       "  background-color: var(--sklearn-color-background);\n",
       "  position: relative;\n",
       "}\n",
       "\n",
       "#sk-container-id-2 div.sk-parallel-item {\n",
       "  display: flex;\n",
       "  flex-direction: column;\n",
       "}\n",
       "\n",
       "#sk-container-id-2 div.sk-parallel-item:first-child::after {\n",
       "  align-self: flex-end;\n",
       "  width: 50%;\n",
       "}\n",
       "\n",
       "#sk-container-id-2 div.sk-parallel-item:last-child::after {\n",
       "  align-self: flex-start;\n",
       "  width: 50%;\n",
       "}\n",
       "\n",
       "#sk-container-id-2 div.sk-parallel-item:only-child::after {\n",
       "  width: 0;\n",
       "}\n",
       "\n",
       "/* Serial-specific style estimator block */\n",
       "\n",
       "#sk-container-id-2 div.sk-serial {\n",
       "  display: flex;\n",
       "  flex-direction: column;\n",
       "  align-items: center;\n",
       "  background-color: var(--sklearn-color-background);\n",
       "  padding-right: 1em;\n",
       "  padding-left: 1em;\n",
       "}\n",
       "\n",
       "\n",
       "/* Toggleable style: style used for estimator/Pipeline/ColumnTransformer box that is\n",
       "clickable and can be expanded/collapsed.\n",
       "- Pipeline and ColumnTransformer use this feature and define the default style\n",
       "- Estimators will overwrite some part of the style using the `sk-estimator` class\n",
       "*/\n",
       "\n",
       "/* Pipeline and ColumnTransformer style (default) */\n",
       "\n",
       "#sk-container-id-2 div.sk-toggleable {\n",
       "  /* Default theme specific background. It is overwritten whether we have a\n",
       "  specific estimator or a Pipeline/ColumnTransformer */\n",
       "  background-color: var(--sklearn-color-background);\n",
       "}\n",
       "\n",
       "/* Toggleable label */\n",
       "#sk-container-id-2 label.sk-toggleable__label {\n",
       "  cursor: pointer;\n",
       "  display: block;\n",
       "  width: 100%;\n",
       "  margin-bottom: 0;\n",
       "  padding: 0.5em;\n",
       "  box-sizing: border-box;\n",
       "  text-align: center;\n",
       "}\n",
       "\n",
       "#sk-container-id-2 label.sk-toggleable__label-arrow:before {\n",
       "  /* Arrow on the left of the label */\n",
       "  content: \"▸\";\n",
       "  float: left;\n",
       "  margin-right: 0.25em;\n",
       "  color: var(--sklearn-color-icon);\n",
       "}\n",
       "\n",
       "#sk-container-id-2 label.sk-toggleable__label-arrow:hover:before {\n",
       "  color: var(--sklearn-color-text);\n",
       "}\n",
       "\n",
       "/* Toggleable content - dropdown */\n",
       "\n",
       "#sk-container-id-2 div.sk-toggleable__content {\n",
       "  max-height: 0;\n",
       "  max-width: 0;\n",
       "  overflow: hidden;\n",
       "  text-align: left;\n",
       "  /* unfitted */\n",
       "  background-color: var(--sklearn-color-unfitted-level-0);\n",
       "}\n",
       "\n",
       "#sk-container-id-2 div.sk-toggleable__content.fitted {\n",
       "  /* fitted */\n",
       "  background-color: var(--sklearn-color-fitted-level-0);\n",
       "}\n",
       "\n",
       "#sk-container-id-2 div.sk-toggleable__content pre {\n",
       "  margin: 0.2em;\n",
       "  border-radius: 0.25em;\n",
       "  color: var(--sklearn-color-text);\n",
       "  /* unfitted */\n",
       "  background-color: var(--sklearn-color-unfitted-level-0);\n",
       "}\n",
       "\n",
       "#sk-container-id-2 div.sk-toggleable__content.fitted pre {\n",
       "  /* unfitted */\n",
       "  background-color: var(--sklearn-color-fitted-level-0);\n",
       "}\n",
       "\n",
       "#sk-container-id-2 input.sk-toggleable__control:checked~div.sk-toggleable__content {\n",
       "  /* Expand drop-down */\n",
       "  max-height: 200px;\n",
       "  max-width: 100%;\n",
       "  overflow: auto;\n",
       "}\n",
       "\n",
       "#sk-container-id-2 input.sk-toggleable__control:checked~label.sk-toggleable__label-arrow:before {\n",
       "  content: \"▾\";\n",
       "}\n",
       "\n",
       "/* Pipeline/ColumnTransformer-specific style */\n",
       "\n",
       "#sk-container-id-2 div.sk-label input.sk-toggleable__control:checked~label.sk-toggleable__label {\n",
       "  color: var(--sklearn-color-text);\n",
       "  background-color: var(--sklearn-color-unfitted-level-2);\n",
       "}\n",
       "\n",
       "#sk-container-id-2 div.sk-label.fitted input.sk-toggleable__control:checked~label.sk-toggleable__label {\n",
       "  background-color: var(--sklearn-color-fitted-level-2);\n",
       "}\n",
       "\n",
       "/* Estimator-specific style */\n",
       "\n",
       "/* Colorize estimator box */\n",
       "#sk-container-id-2 div.sk-estimator input.sk-toggleable__control:checked~label.sk-toggleable__label {\n",
       "  /* unfitted */\n",
       "  background-color: var(--sklearn-color-unfitted-level-2);\n",
       "}\n",
       "\n",
       "#sk-container-id-2 div.sk-estimator.fitted input.sk-toggleable__control:checked~label.sk-toggleable__label {\n",
       "  /* fitted */\n",
       "  background-color: var(--sklearn-color-fitted-level-2);\n",
       "}\n",
       "\n",
       "#sk-container-id-2 div.sk-label label.sk-toggleable__label,\n",
       "#sk-container-id-2 div.sk-label label {\n",
       "  /* The background is the default theme color */\n",
       "  color: var(--sklearn-color-text-on-default-background);\n",
       "}\n",
       "\n",
       "/* On hover, darken the color of the background */\n",
       "#sk-container-id-2 div.sk-label:hover label.sk-toggleable__label {\n",
       "  color: var(--sklearn-color-text);\n",
       "  background-color: var(--sklearn-color-unfitted-level-2);\n",
       "}\n",
       "\n",
       "/* Label box, darken color on hover, fitted */\n",
       "#sk-container-id-2 div.sk-label.fitted:hover label.sk-toggleable__label.fitted {\n",
       "  color: var(--sklearn-color-text);\n",
       "  background-color: var(--sklearn-color-fitted-level-2);\n",
       "}\n",
       "\n",
       "/* Estimator label */\n",
       "\n",
       "#sk-container-id-2 div.sk-label label {\n",
       "  font-family: monospace;\n",
       "  font-weight: bold;\n",
       "  display: inline-block;\n",
       "  line-height: 1.2em;\n",
       "}\n",
       "\n",
       "#sk-container-id-2 div.sk-label-container {\n",
       "  text-align: center;\n",
       "}\n",
       "\n",
       "/* Estimator-specific */\n",
       "#sk-container-id-2 div.sk-estimator {\n",
       "  font-family: monospace;\n",
       "  border: 1px dotted var(--sklearn-color-border-box);\n",
       "  border-radius: 0.25em;\n",
       "  box-sizing: border-box;\n",
       "  margin-bottom: 0.5em;\n",
       "  /* unfitted */\n",
       "  background-color: var(--sklearn-color-unfitted-level-0);\n",
       "}\n",
       "\n",
       "#sk-container-id-2 div.sk-estimator.fitted {\n",
       "  /* fitted */\n",
       "  background-color: var(--sklearn-color-fitted-level-0);\n",
       "}\n",
       "\n",
       "/* on hover */\n",
       "#sk-container-id-2 div.sk-estimator:hover {\n",
       "  /* unfitted */\n",
       "  background-color: var(--sklearn-color-unfitted-level-2);\n",
       "}\n",
       "\n",
       "#sk-container-id-2 div.sk-estimator.fitted:hover {\n",
       "  /* fitted */\n",
       "  background-color: var(--sklearn-color-fitted-level-2);\n",
       "}\n",
       "\n",
       "/* Specification for estimator info (e.g. \"i\" and \"?\") */\n",
       "\n",
       "/* Common style for \"i\" and \"?\" */\n",
       "\n",
       ".sk-estimator-doc-link,\n",
       "a:link.sk-estimator-doc-link,\n",
       "a:visited.sk-estimator-doc-link {\n",
       "  float: right;\n",
       "  font-size: smaller;\n",
       "  line-height: 1em;\n",
       "  font-family: monospace;\n",
       "  background-color: var(--sklearn-color-background);\n",
       "  border-radius: 1em;\n",
       "  height: 1em;\n",
       "  width: 1em;\n",
       "  text-decoration: none !important;\n",
       "  margin-left: 1ex;\n",
       "  /* unfitted */\n",
       "  border: var(--sklearn-color-unfitted-level-1) 1pt solid;\n",
       "  color: var(--sklearn-color-unfitted-level-1);\n",
       "}\n",
       "\n",
       ".sk-estimator-doc-link.fitted,\n",
       "a:link.sk-estimator-doc-link.fitted,\n",
       "a:visited.sk-estimator-doc-link.fitted {\n",
       "  /* fitted */\n",
       "  border: var(--sklearn-color-fitted-level-1) 1pt solid;\n",
       "  color: var(--sklearn-color-fitted-level-1);\n",
       "}\n",
       "\n",
       "/* On hover */\n",
       "div.sk-estimator:hover .sk-estimator-doc-link:hover,\n",
       ".sk-estimator-doc-link:hover,\n",
       "div.sk-label-container:hover .sk-estimator-doc-link:hover,\n",
       ".sk-estimator-doc-link:hover {\n",
       "  /* unfitted */\n",
       "  background-color: var(--sklearn-color-unfitted-level-3);\n",
       "  color: var(--sklearn-color-background);\n",
       "  text-decoration: none;\n",
       "}\n",
       "\n",
       "div.sk-estimator.fitted:hover .sk-estimator-doc-link.fitted:hover,\n",
       ".sk-estimator-doc-link.fitted:hover,\n",
       "div.sk-label-container:hover .sk-estimator-doc-link.fitted:hover,\n",
       ".sk-estimator-doc-link.fitted:hover {\n",
       "  /* fitted */\n",
       "  background-color: var(--sklearn-color-fitted-level-3);\n",
       "  color: var(--sklearn-color-background);\n",
       "  text-decoration: none;\n",
       "}\n",
       "\n",
       "/* Span, style for the box shown on hovering the info icon */\n",
       ".sk-estimator-doc-link span {\n",
       "  display: none;\n",
       "  z-index: 9999;\n",
       "  position: relative;\n",
       "  font-weight: normal;\n",
       "  right: .2ex;\n",
       "  padding: .5ex;\n",
       "  margin: .5ex;\n",
       "  width: min-content;\n",
       "  min-width: 20ex;\n",
       "  max-width: 50ex;\n",
       "  color: var(--sklearn-color-text);\n",
       "  box-shadow: 2pt 2pt 4pt #999;\n",
       "  /* unfitted */\n",
       "  background: var(--sklearn-color-unfitted-level-0);\n",
       "  border: .5pt solid var(--sklearn-color-unfitted-level-3);\n",
       "}\n",
       "\n",
       ".sk-estimator-doc-link.fitted span {\n",
       "  /* fitted */\n",
       "  background: var(--sklearn-color-fitted-level-0);\n",
       "  border: var(--sklearn-color-fitted-level-3);\n",
       "}\n",
       "\n",
       ".sk-estimator-doc-link:hover span {\n",
       "  display: block;\n",
       "}\n",
       "\n",
       "/* \"?\"-specific style due to the `<a>` HTML tag */\n",
       "\n",
       "#sk-container-id-2 a.estimator_doc_link {\n",
       "  float: right;\n",
       "  font-size: 1rem;\n",
       "  line-height: 1em;\n",
       "  font-family: monospace;\n",
       "  background-color: var(--sklearn-color-background);\n",
       "  border-radius: 1rem;\n",
       "  height: 1rem;\n",
       "  width: 1rem;\n",
       "  text-decoration: none;\n",
       "  /* unfitted */\n",
       "  color: var(--sklearn-color-unfitted-level-1);\n",
       "  border: var(--sklearn-color-unfitted-level-1) 1pt solid;\n",
       "}\n",
       "\n",
       "#sk-container-id-2 a.estimator_doc_link.fitted {\n",
       "  /* fitted */\n",
       "  border: var(--sklearn-color-fitted-level-1) 1pt solid;\n",
       "  color: var(--sklearn-color-fitted-level-1);\n",
       "}\n",
       "\n",
       "/* On hover */\n",
       "#sk-container-id-2 a.estimator_doc_link:hover {\n",
       "  /* unfitted */\n",
       "  background-color: var(--sklearn-color-unfitted-level-3);\n",
       "  color: var(--sklearn-color-background);\n",
       "  text-decoration: none;\n",
       "}\n",
       "\n",
       "#sk-container-id-2 a.estimator_doc_link.fitted:hover {\n",
       "  /* fitted */\n",
       "  background-color: var(--sklearn-color-fitted-level-3);\n",
       "}\n",
       "</style><div id=\"sk-container-id-2\" class=\"sk-top-container\"><div class=\"sk-text-repr-fallback\"><pre>RandomForestRegressor(max_depth=7, min_samples_leaf=2, min_samples_split=4,\n",
       "                      n_estimators=880)</pre><b>In a Jupyter environment, please rerun this cell to show the HTML representation or trust the notebook. <br />On GitHub, the HTML representation is unable to render, please try loading this page with nbviewer.org.</b></div><div class=\"sk-container\" hidden><div class=\"sk-item\"><div class=\"sk-estimator fitted sk-toggleable\"><input class=\"sk-toggleable__control sk-hidden--visually\" id=\"sk-estimator-id-2\" type=\"checkbox\" checked><label for=\"sk-estimator-id-2\" class=\"sk-toggleable__label fitted sk-toggleable__label-arrow fitted\">&nbsp;&nbsp;RandomForestRegressor<a class=\"sk-estimator-doc-link fitted\" rel=\"noreferrer\" target=\"_blank\" href=\"https://scikit-learn.org/1.5/modules/generated/sklearn.ensemble.RandomForestRegressor.html\">?<span>Documentation for RandomForestRegressor</span></a><span class=\"sk-estimator-doc-link fitted\">i<span>Fitted</span></span></label><div class=\"sk-toggleable__content fitted\"><pre>RandomForestRegressor(max_depth=7, min_samples_leaf=2, min_samples_split=4,\n",
       "                      n_estimators=880)</pre></div> </div></div></div></div>"
      ],
      "text/plain": [
       "RandomForestRegressor(max_depth=7, min_samples_leaf=2, min_samples_split=4,\n",
       "                      n_estimators=880)"
      ]
     },
     "execution_count": 922,
     "metadata": {},
     "output_type": "execute_result"
    }
   ],
   "source": [
    "best_model_rf = RandomForestRegressor(**rf_best_params)\n",
    "best_model_rf.fit(X_train, y_train)"
   ]
  },
  {
   "cell_type": "code",
   "execution_count": 228,
   "id": "f665cb30-9446-42bc-b9e7-f4e28693056b",
   "metadata": {},
   "outputs": [],
   "source": [
    "def evaluation(model, predictors_train, predictors_val, actual_target_train, actual_target_val):\n",
    "\n",
    "    predictions_train = rf.predict(predictors_train)\n",
    "    print(\"Train - Random Forest RMSE:\", np.sqrt(mean_squared_error(actual_target_train, predictions_train)))\n",
    "    \n",
    "    predictions_val = rf.predict(predictors_val)\n",
    "    print(\"Validation - Random Forest RMSE:\", np.sqrt(mean_squared_error(actual_target_val, predictions_val)))\n",
    "\n",
    "\n",
    "    return None"
   ]
  },
  {
   "cell_type": "code",
   "execution_count": 934,
   "id": "f93a78a4-da0e-4654-b3a9-99ee7292f177",
   "metadata": {},
   "outputs": [
    {
     "name": "stdout",
     "output_type": "stream",
     "text": [
      "Train - Random Forest RMSE: 1100.6896603287205\n",
      "Validation - Random Forest RMSE: 1028.1025158086488\n"
     ]
    }
   ],
   "source": [
    "evaluation(best_model_rf, X_train, X_valid, y_train, y_valid)"
   ]
  },
  {
   "cell_type": "code",
   "execution_count": null,
   "id": "6ccb746f-9567-47af-9b1e-f1f3aed8d873",
   "metadata": {},
   "outputs": [],
   "source": [
    "y_pred_rf_tr = rf.predict(X_train)\n",
    "print(\"Train - Random Forest RMSE:\", np.sqrt(mean_squared_error(y_train, y_pred_rf_tr)))\n",
    "\n",
    "y_pred_rf = rf.predict(X_valid)\n",
    "print(\"Validation - Random Forest RMSE:\", np.sqrt(mean_squared_error(y_valid, y_pred_rf)))\n"
   ]
  },
  {
   "cell_type": "markdown",
   "id": "5f2816da-aa08-4a1e-ae55-33cf9e97abd0",
   "metadata": {},
   "source": [
    "#### XGB"
   ]
  },
  {
   "cell_type": "code",
   "execution_count": 212,
   "id": "ce241342-6bb4-4d18-bed5-aa70aa79983a",
   "metadata": {},
   "outputs": [],
   "source": [
    "def objective_xgb(trial):\n",
    "    params = {\n",
    "        \"n_estimators\": trial.suggest_int(\"n_estimators\", 100, 1000),\n",
    "        \"max_depth\": trial.suggest_int(\"max_depth\", 3, 15),\n",
    "        \"learning_rate\": trial.suggest_float(\"learning_rate\", 1e-3, 0.3, log=True),\n",
    "        \"subsample\": trial.suggest_float(\"subsample\", 0.5, 1.0),\n",
    "        \"colsample_bytree\": trial.suggest_float(\"colsample_bytree\", 0.5, 1.0),\n",
    "        \"gamma\": trial.suggest_float(\"gamma\", 0, 5),\n",
    "        \"reg_alpha\": trial.suggest_float(\"reg_alpha\", 0, 1),\n",
    "        \"reg_lambda\": trial.suggest_float(\"reg_lambda\", 0, 1)\n",
    "    }\n",
    "\n",
    "    model = XGBRegressor(\n",
    "        **params,\n",
    "        objective=\"reg:squarederror\",\n",
    "        random_state=42\n",
    "    )\n",
    "\n",
    "    score = cross_val_score(model, X, y, cv=15, scoring=\"neg_root_mean_squared_error\").mean()\n",
    "    return -score  # minimize RMSE"
   ]
  },
  {
   "cell_type": "code",
   "execution_count": 214,
   "id": "bc654171-4bdf-4dda-9525-d4ab278315f6",
   "metadata": {
    "scrolled": true
   },
   "outputs": [
    {
     "name": "stderr",
     "output_type": "stream",
     "text": [
      "[I 2025-04-29 13:26:54,218] A new study created in memory with name: xgboost_tuning\n",
      "[I 2025-04-29 13:27:11,928] Trial 0 finished with value: 1124.4537775911356 and parameters: {'n_estimators': 935, 'max_depth': 10, 'learning_rate': 0.007755384548326918, 'subsample': 0.9212440715149489, 'colsample_bytree': 0.5872416920173859, 'gamma': 3.051910558298647, 'reg_alpha': 0.7230562773633443, 'reg_lambda': 0.1755930079533211}. Best is trial 0 with value: 1124.4537775911356.\n",
      "[I 2025-04-29 13:27:14,450] Trial 1 finished with value: 1147.6116831220547 and parameters: {'n_estimators': 468, 'max_depth': 4, 'learning_rate': 0.13061389771417076, 'subsample': 0.8769783944106092, 'colsample_bytree': 0.8643600737049566, 'gamma': 3.400765494087801, 'reg_alpha': 0.38732426954531907, 'reg_lambda': 0.5405033481050977}. Best is trial 0 with value: 1124.4537775911356.\n",
      "[I 2025-04-29 13:27:21,119] Trial 2 finished with value: 1178.8776246800303 and parameters: {'n_estimators': 821, 'max_depth': 7, 'learning_rate': 0.0013750074945562433, 'subsample': 0.5273693298792623, 'colsample_bytree': 0.9149248065583693, 'gamma': 4.922581447199893, 'reg_alpha': 0.9624368856610663, 'reg_lambda': 0.3845957795329342}. Best is trial 0 with value: 1124.4537775911356.\n",
      "[I 2025-04-29 13:27:23,008] Trial 3 finished with value: 1268.5781105119336 and parameters: {'n_estimators': 584, 'max_depth': 3, 'learning_rate': 0.0021351297620625944, 'subsample': 0.5674899487397174, 'colsample_bytree': 0.5539019199248822, 'gamma': 4.686967650374715, 'reg_alpha': 0.5494747737208138, 'reg_lambda': 0.554593308504886}. Best is trial 0 with value: 1124.4537775911356.\n",
      "[I 2025-04-29 13:27:40,479] Trial 4 finished with value: 1248.9639284436016 and parameters: {'n_estimators': 571, 'max_depth': 12, 'learning_rate': 0.1539271660594733, 'subsample': 0.5091500651201182, 'colsample_bytree': 0.6919667682748006, 'gamma': 0.9163972047899094, 'reg_alpha': 0.5258059693110756, 'reg_lambda': 0.6527156009915218}. Best is trial 0 with value: 1124.4537775911356.\n",
      "[I 2025-04-29 13:27:45,695] Trial 5 finished with value: 1266.0001823735654 and parameters: {'n_estimators': 179, 'max_depth': 11, 'learning_rate': 0.2596551396826384, 'subsample': 0.7063327917918619, 'colsample_bytree': 0.7209746316804577, 'gamma': 1.7224114777864892, 'reg_alpha': 0.8894543143064103, 'reg_lambda': 0.6245925703284981}. Best is trial 0 with value: 1124.4537775911356.\n",
      "[I 2025-04-29 13:27:53,930] Trial 6 finished with value: 1236.1510233422705 and parameters: {'n_estimators': 378, 'max_depth': 10, 'learning_rate': 0.11178408853168502, 'subsample': 0.5316667085147437, 'colsample_bytree': 0.8772867413611779, 'gamma': 1.5550573542030026, 'reg_alpha': 0.391410327753532, 'reg_lambda': 0.6664625304097874}. Best is trial 0 with value: 1124.4537775911356.\n",
      "[I 2025-04-29 13:29:02,856] Trial 7 finished with value: 1148.5189473145301 and parameters: {'n_estimators': 1000, 'max_depth': 15, 'learning_rate': 0.001670560649070737, 'subsample': 0.684609866328179, 'colsample_bytree': 0.9239506680226913, 'gamma': 1.584486601815771, 'reg_alpha': 0.5626888663192653, 'reg_lambda': 0.3948748328338081}. Best is trial 0 with value: 1124.4537775911356.\n",
      "[I 2025-04-29 13:29:07,014] Trial 8 finished with value: 1199.3674175652718 and parameters: {'n_estimators': 722, 'max_depth': 5, 'learning_rate': 0.10215217376765767, 'subsample': 0.787235377182216, 'colsample_bytree': 0.9569224202267405, 'gamma': 4.84211651652537, 'reg_alpha': 0.00944430255316786, 'reg_lambda': 0.1824910385781403}. Best is trial 0 with value: 1124.4537775911356.\n",
      "[I 2025-04-29 13:29:42,652] Trial 9 finished with value: 1132.9420265584185 and parameters: {'n_estimators': 756, 'max_depth': 13, 'learning_rate': 0.005751811617452423, 'subsample': 0.9101293414001257, 'colsample_bytree': 0.5310720769274624, 'gamma': 2.4485245711316423, 'reg_alpha': 0.5688685408034372, 'reg_lambda': 0.46679277826741705}. Best is trial 0 with value: 1124.4537775911356.\n",
      "[I 2025-04-29 13:29:54,262] Trial 10 finished with value: 1153.9202309901839 and parameters: {'n_estimators': 997, 'max_depth': 8, 'learning_rate': 0.02356494205930916, 'subsample': 0.9998803558888344, 'colsample_bytree': 0.6209172056764873, 'gamma': 3.268050280291578, 'reg_alpha': 0.7826769411124105, 'reg_lambda': 0.9483320245922916}. Best is trial 0 with value: 1124.4537775911356.\n",
      "[I 2025-04-29 13:30:45,668] Trial 11 finished with value: 1153.6795657682028 and parameters: {'n_estimators': 790, 'max_depth': 14, 'learning_rate': 0.008610016464540585, 'subsample': 0.9528230213207758, 'colsample_bytree': 0.517730094770629, 'gamma': 2.9829382663034125, 'reg_alpha': 0.7158565396684925, 'reg_lambda': 0.025379381487527636}. Best is trial 0 with value: 1124.4537775911356.\n",
      "[I 2025-04-29 13:31:32,129] Trial 12 finished with value: 1144.4097158761795 and parameters: {'n_estimators': 870, 'max_depth': 13, 'learning_rate': 0.007997374630872925, 'subsample': 0.8632769301947291, 'colsample_bytree': 0.608589210286113, 'gamma': 0.0578962645040777, 'reg_alpha': 0.6992377314224749, 'reg_lambda': 0.21462536525750686}. Best is trial 0 with value: 1124.4537775911356.\n",
      "[I 2025-04-29 13:31:41,279] Trial 13 finished with value: 1115.324955100383 and parameters: {'n_estimators': 701, 'max_depth': 9, 'learning_rate': 0.004827070802328694, 'subsample': 0.8972739538987117, 'colsample_bytree': 0.500722705706645, 'gamma': 2.6727010316414517, 'reg_alpha': 0.2101771953617667, 'reg_lambda': 0.8654995909922725}. Best is trial 13 with value: 1115.324955100383.\n",
      "[I 2025-04-29 13:31:51,073] Trial 14 finished with value: 1159.6870246098717 and parameters: {'n_estimators': 654, 'max_depth': 9, 'learning_rate': 0.025907299667872724, 'subsample': 0.807882449731633, 'colsample_bytree': 0.7905389689475328, 'gamma': 3.9239524960650036, 'reg_alpha': 0.13271350943709392, 'reg_lambda': 0.9987550733500216}. Best is trial 13 with value: 1115.324955100383.\n",
      "[I 2025-04-29 13:31:58,809] Trial 15 finished with value: 1095.89021333132 and parameters: {'n_estimators': 897, 'max_depth': 7, 'learning_rate': 0.0038762540790080067, 'subsample': 0.9416523216020523, 'colsample_bytree': 0.6228084988828716, 'gamma': 2.5176580673975, 'reg_alpha': 0.2460459520536754, 'reg_lambda': 0.8139640405531711}. Best is trial 15 with value: 1095.89021333132.\n",
      "[I 2025-04-29 13:32:01,217] Trial 16 finished with value: 1206.5402607563967 and parameters: {'n_estimators': 383, 'max_depth': 6, 'learning_rate': 0.0031640482648467956, 'subsample': 0.9795936797538705, 'colsample_bytree': 0.6606643525092069, 'gamma': 2.274846470179472, 'reg_alpha': 0.2257098730223982, 'reg_lambda': 0.8192844744823855}. Best is trial 15 with value: 1095.89021333132.\n",
      "[I 2025-04-29 13:32:02,418] Trial 17 finished with value: 1382.8595728120913 and parameters: {'n_estimators': 139, 'max_depth': 7, 'learning_rate': 0.003531115370605603, 'subsample': 0.8421652067169806, 'colsample_bytree': 0.7763949460986914, 'gamma': 4.086842545997976, 'reg_alpha': 0.2613685565781404, 'reg_lambda': 0.8310227717061573}. Best is trial 15 with value: 1095.89021333132.\n",
      "[I 2025-04-29 13:32:09,422] Trial 18 finished with value: 1114.9952152372396 and parameters: {'n_estimators': 687, 'max_depth': 8, 'learning_rate': 0.014527274853222225, 'subsample': 0.7468170009158859, 'colsample_bytree': 0.5040434112220005, 'gamma': 2.0664554355483955, 'reg_alpha': 0.07611912094317241, 'reg_lambda': 0.8019506050191075}. Best is trial 15 with value: 1095.89021333132.\n",
      "[I 2025-04-29 13:32:15,228] Trial 19 finished with value: 1164.4852004640013 and parameters: {'n_estimators': 903, 'max_depth': 6, 'learning_rate': 0.04068903799543304, 'subsample': 0.639898616917844, 'colsample_bytree': 0.6419111017131782, 'gamma': 0.8511102206454129, 'reg_alpha': 0.01798559734794701, 'reg_lambda': 0.7467711420598585}. Best is trial 15 with value: 1095.89021333132.\n",
      "[I 2025-04-29 13:32:22,110] Trial 20 finished with value: 1112.4771345321753 and parameters: {'n_estimators': 634, 'max_depth': 8, 'learning_rate': 0.013743775680410755, 'subsample': 0.7318873784084132, 'colsample_bytree': 0.5668324304579321, 'gamma': 2.00776996543991, 'reg_alpha': 0.3649979344439984, 'reg_lambda': 0.9066864261836208}. Best is trial 15 with value: 1095.89021333132.\n",
      "[I 2025-04-29 13:32:27,780] Trial 21 finished with value: 1111.050812849529 and parameters: {'n_estimators': 500, 'max_depth': 8, 'learning_rate': 0.016735731348525625, 'subsample': 0.7416765446742125, 'colsample_bytree': 0.572156089122122, 'gamma': 2.061284568808286, 'reg_alpha': 0.37513023275639457, 'reg_lambda': 0.7471428985963635}. Best is trial 15 with value: 1095.89021333132.\n",
      "[I 2025-04-29 13:32:32,064] Trial 22 finished with value: 1154.4266985611357 and parameters: {'n_estimators': 470, 'max_depth': 7, 'learning_rate': 0.053755498955689325, 'subsample': 0.7445267961006392, 'colsample_bytree': 0.5706126673155445, 'gamma': 1.0599644271777007, 'reg_alpha': 0.3722940839429721, 'reg_lambda': 0.9292834520231735}. Best is trial 15 with value: 1095.89021333132.\n",
      "[I 2025-04-29 13:32:34,010] Trial 23 finished with value: 1085.856412000239 and parameters: {'n_estimators': 277, 'max_depth': 5, 'learning_rate': 0.013921387050086852, 'subsample': 0.6248183926494896, 'colsample_bytree': 0.6550687711083266, 'gamma': 1.998688615845941, 'reg_alpha': 0.31739563635691886, 'reg_lambda': 0.7165798359884584}. Best is trial 23 with value: 1085.856412000239.\n",
      "[I 2025-04-29 13:32:35,435] Trial 24 finished with value: 1087.5557878049415 and parameters: {'n_estimators': 296, 'max_depth': 3, 'learning_rate': 0.040789341726048776, 'subsample': 0.6164720136240713, 'colsample_bytree': 0.6774440850961745, 'gamma': 2.5761677198074215, 'reg_alpha': 0.2845528336001747, 'reg_lambda': 0.7060633565855197}. Best is trial 23 with value: 1085.856412000239.\n",
      "[I 2025-04-29 13:32:36,618] Trial 25 finished with value: 1089.2081577119413 and parameters: {'n_estimators': 258, 'max_depth': 3, 'learning_rate': 0.0558853028155138, 'subsample': 0.626970280892745, 'colsample_bytree': 0.7020224411007269, 'gamma': 2.7206664568381305, 'reg_alpha': 0.3043406410206616, 'reg_lambda': 0.716750397434182}. Best is trial 23 with value: 1085.856412000239.\n",
      "[I 2025-04-29 13:32:37,809] Trial 26 finished with value: 1093.241769296411 and parameters: {'n_estimators': 258, 'max_depth': 3, 'learning_rate': 0.07122133694196486, 'subsample': 0.6136469028736149, 'colsample_bytree': 0.7262071816468131, 'gamma': 3.7219685461780925, 'reg_alpha': 0.45897840572284987, 'reg_lambda': 0.7321917321527192}. Best is trial 23 with value: 1085.856412000239.\n",
      "[I 2025-04-29 13:32:39,843] Trial 27 finished with value: 1085.8438643210357 and parameters: {'n_estimators': 269, 'max_depth': 4, 'learning_rate': 0.03769881134715438, 'subsample': 0.6257554745730715, 'colsample_bytree': 0.6708005288493782, 'gamma': 2.8363488879473633, 'reg_alpha': 0.29524288933473286, 'reg_lambda': 0.6275236682842426}. Best is trial 27 with value: 1085.8438643210357.\n",
      "[I 2025-04-29 13:32:42,200] Trial 28 finished with value: 1086.3531949960302 and parameters: {'n_estimators': 326, 'max_depth': 4, 'learning_rate': 0.029750469286427883, 'subsample': 0.5748089659464376, 'colsample_bytree': 0.6722925547621492, 'gamma': 4.350645930382331, 'reg_alpha': 0.1481512761856337, 'reg_lambda': 0.6108007895069294}. Best is trial 27 with value: 1085.8438643210357.\n",
      "[I 2025-04-29 13:32:43,235] Trial 29 finished with value: 1208.6010250060124 and parameters: {'n_estimators': 104, 'max_depth': 5, 'learning_rate': 0.010652737831373965, 'subsample': 0.570898946930337, 'colsample_bytree': 0.7583906786610705, 'gamma': 4.330391114536162, 'reg_alpha': 0.14940254444288925, 'reg_lambda': 0.5884530884367796}. Best is trial 27 with value: 1085.8438643210357.\n",
      "[I 2025-04-29 13:32:46,262] Trial 30 finished with value: 1095.4761703294128 and parameters: {'n_estimators': 360, 'max_depth': 5, 'learning_rate': 0.028366834554151312, 'subsample': 0.6805249742867341, 'colsample_bytree': 0.6570076820128588, 'gamma': 3.5174079528283624, 'reg_alpha': 0.12881397618427473, 'reg_lambda': 0.4674198268463102}. Best is trial 27 with value: 1085.8438643210357.\n",
      "[I 2025-04-29 13:32:47,649] Trial 31 finished with value: 1086.0459484074315 and parameters: {'n_estimators': 284, 'max_depth': 4, 'learning_rate': 0.031104641892437564, 'subsample': 0.5907218443340791, 'colsample_bytree': 0.6809770043384882, 'gamma': 3.0403445361832273, 'reg_alpha': 0.4545830215495511, 'reg_lambda': 0.6776190649716084}. Best is trial 27 with value: 1085.8438643210357.\n",
      "[I 2025-04-29 13:32:48,561] Trial 32 finished with value: 1083.6379503513194 and parameters: {'n_estimators': 186, 'max_depth': 4, 'learning_rate': 0.03256400935748358, 'subsample': 0.5767170273693325, 'colsample_bytree': 0.7978256639566427, 'gamma': 3.011066255721971, 'reg_alpha': 0.4524077174082976, 'reg_lambda': 0.5166251578478365}. Best is trial 32 with value: 1083.6379503513194.\n",
      "[I 2025-04-29 13:32:49,625] Trial 33 finished with value: 1082.4319555066656 and parameters: {'n_estimators': 212, 'max_depth': 4, 'learning_rate': 0.019326710438012762, 'subsample': 0.6625094692730378, 'colsample_bytree': 0.8167047760644423, 'gamma': 3.0469843349288395, 'reg_alpha': 0.4473241827717073, 'reg_lambda': 0.36077861117684834}. Best is trial 33 with value: 1082.4319555066656.\n",
      "[I 2025-04-29 13:32:50,594] Trial 34 finished with value: 1084.5045774380594 and parameters: {'n_estimators': 194, 'max_depth': 4, 'learning_rate': 0.01794947742900051, 'subsample': 0.6777547048783534, 'colsample_bytree': 0.8161821781330689, 'gamma': 3.2793995182194284, 'reg_alpha': 0.6201229027097468, 'reg_lambda': 0.2900223249488425}. Best is trial 33 with value: 1082.4319555066656.\n",
      "[I 2025-04-29 13:32:51,614] Trial 35 finished with value: 1082.0652207673966 and parameters: {'n_estimators': 202, 'max_depth': 4, 'learning_rate': 0.022631048270536653, 'subsample': 0.6695922555752873, 'colsample_bytree': 0.811183901326922, 'gamma': 3.523524573900778, 'reg_alpha': 0.6592808338584413, 'reg_lambda': 0.2769268447620156}. Best is trial 35 with value: 1082.0652207673966.\n",
      "[I 2025-04-29 13:32:53,036] Trial 36 finished with value: 1088.4002417648703 and parameters: {'n_estimators': 190, 'max_depth': 6, 'learning_rate': 0.019544521583569865, 'subsample': 0.6720418324878992, 'colsample_bytree': 0.83344929395775, 'gamma': 3.3673509176893983, 'reg_alpha': 0.6145006618801027, 'reg_lambda': 0.29414522781902136}. Best is trial 35 with value: 1082.0652207673966.\n",
      "[I 2025-04-29 13:32:54,105] Trial 37 finished with value: 1095.8567648359287 and parameters: {'n_estimators': 212, 'max_depth': 4, 'learning_rate': 0.011644646699429993, 'subsample': 0.6550955745494969, 'colsample_bytree': 0.8144856423241709, 'gamma': 3.7543490224781286, 'reg_alpha': 0.6419819238932278, 'reg_lambda': 0.27701972138079733}. Best is trial 35 with value: 1082.0652207673966.\n",
      "[I 2025-04-29 13:32:54,703] Trial 38 finished with value: 1088.2794325130521 and parameters: {'n_estimators': 141, 'max_depth': 3, 'learning_rate': 0.07448238369066255, 'subsample': 0.7021481094638016, 'colsample_bytree': 0.8672294629270061, 'gamma': 3.546316226204873, 'reg_alpha': 0.7806083379088238, 'reg_lambda': 0.36115051167242535}. Best is trial 35 with value: 1082.0652207673966.\n",
      "[I 2025-04-29 13:32:57,009] Trial 39 finished with value: 1094.589627584369 and parameters: {'n_estimators': 417, 'max_depth': 5, 'learning_rate': 0.020465678432165502, 'subsample': 0.5421417582281007, 'colsample_bytree': 0.835597379022814, 'gamma': 3.193687097438778, 'reg_alpha': 0.488465635670139, 'reg_lambda': 0.06431655431544514}. Best is trial 35 with value: 1082.0652207673966.\n",
      "[I 2025-04-29 13:32:58,582] Trial 40 finished with value: 1265.733470360785 and parameters: {'n_estimators': 228, 'max_depth': 6, 'learning_rate': 0.20817031966791077, 'subsample': 0.5086882698735911, 'colsample_bytree': 0.9035995575594418, 'gamma': 4.217436159471373, 'reg_alpha': 0.9057427749305486, 'reg_lambda': 0.11602748608895111}. Best is trial 35 with value: 1082.0652207673966.\n",
      "[I 2025-04-29 13:32:59,414] Trial 41 finished with value: 1087.2661324896862 and parameters: {'n_estimators': 176, 'max_depth': 4, 'learning_rate': 0.048196781753387485, 'subsample': 0.7111742678211306, 'colsample_bytree': 0.8040486451672533, 'gamma': 2.919244085668721, 'reg_alpha': 0.6354254310141698, 'reg_lambda': 0.5248041287287551}. Best is trial 35 with value: 1082.0652207673966.\n",
      "[I 2025-04-29 13:32:59,959] Trial 42 finished with value: 1084.025614979893 and parameters: {'n_estimators': 101, 'max_depth': 4, 'learning_rate': 0.03562398156520627, 'subsample': 0.6641484895322652, 'colsample_bytree': 0.74576923810738, 'gamma': 2.886854204903283, 'reg_alpha': 0.427543597805633, 'reg_lambda': 0.4250477736663274}. Best is trial 35 with value: 1082.0652207673966.\n",
      "[I 2025-04-29 13:33:00,650] Trial 43 finished with value: 1089.246301642088 and parameters: {'n_estimators': 114, 'max_depth': 4, 'learning_rate': 0.07519878817096613, 'subsample': 0.7814320449929355, 'colsample_bytree': 0.7440963295884884, 'gamma': 3.1842435941407157, 'reg_alpha': 0.4285319924036327, 'reg_lambda': 0.4074788025041169}. Best is trial 35 with value: 1082.0652207673966.\n",
      "[I 2025-04-29 13:33:01,559] Trial 44 finished with value: 1090.4694894795969 and parameters: {'n_estimators': 159, 'max_depth': 3, 'learning_rate': 0.020673659286038, 'subsample': 0.6583908310630944, 'colsample_bytree': 0.8483097561088114, 'gamma': 3.601133520670694, 'reg_alpha': 0.5312980944150443, 'reg_lambda': 0.3387603950106663}. Best is trial 35 with value: 1082.0652207673966.\n",
      "[I 2025-04-29 13:33:02,481] Trial 45 finished with value: 1127.7858107760346 and parameters: {'n_estimators': 221, 'max_depth': 3, 'learning_rate': 0.009231400249863604, 'subsample': 0.5992025820156233, 'colsample_bytree': 0.7759552401282076, 'gamma': 2.3516624815714295, 'reg_alpha': 0.6064234701145217, 'reg_lambda': 0.27222894513147894}. Best is trial 35 with value: 1082.0652207673966.\n",
      "[I 2025-04-29 13:33:03,149] Trial 46 finished with value: 1087.7091052545195 and parameters: {'n_estimators': 101, 'max_depth': 5, 'learning_rate': 0.033187940129091126, 'subsample': 0.5508245819315272, 'colsample_bytree': 0.8228638807206591, 'gamma': 4.5455400563794655, 'reg_alpha': 0.6776196475224111, 'reg_lambda': 0.4306400202599623}. Best is trial 35 with value: 1082.0652207673966.\n",
      "[I 2025-04-29 13:33:11,273] Trial 47 finished with value: 1457.171328728968 and parameters: {'n_estimators': 325, 'max_depth': 11, 'learning_rate': 0.0010077351363310574, 'subsample': 0.7130207927528068, 'colsample_bytree': 0.8898858975619439, 'gamma': 3.9374361568613376, 'reg_alpha': 0.7541302096577434, 'reg_lambda': 0.2402467453578781}. Best is trial 35 with value: 1082.0652207673966.\n",
      "[I 2025-04-29 13:33:12,263] Trial 48 finished with value: 1143.9325301850981 and parameters: {'n_estimators': 201, 'max_depth': 4, 'learning_rate': 0.006995802454223549, 'subsample': 0.6530163510842556, 'colsample_bytree': 0.9967636798485686, 'gamma': 3.3521044513511673, 'reg_alpha': 0.5185429424224877, 'reg_lambda': 0.3256101037251756}. Best is trial 35 with value: 1082.0652207673966.\n",
      "[I 2025-04-29 13:33:13,283] Trial 49 finished with value: 1086.1529693689695 and parameters: {'n_estimators': 154, 'max_depth': 5, 'learning_rate': 0.023945321399863512, 'subsample': 0.7678565858441304, 'colsample_bytree': 0.9366412127117143, 'gamma': 2.860216889163043, 'reg_alpha': 0.5702912025448157, 'reg_lambda': 0.48087863763807087}. Best is trial 35 with value: 1082.0652207673966.\n"
     ]
    },
    {
     "name": "stdout",
     "output_type": "stream",
     "text": [
      "Best XGB params: {'n_estimators': 202, 'max_depth': 4, 'learning_rate': 0.022631048270536653, 'subsample': 0.6695922555752873, 'colsample_bytree': 0.811183901326922, 'gamma': 3.523524573900778, 'reg_alpha': 0.6592808338584413, 'reg_lambda': 0.2769268447620156}\n",
      "Best XGB RMSE: 1082.0652207673966\n"
     ]
    }
   ],
   "source": [
    "study_xgb = optuna.create_study(study_name=\"xgboost_tuning\", direction=\"minimize\")\n",
    "study_xgb.optimize(objective_xgb, n_trials=50)\n",
    "print(\"Best XGB params:\", study_xgb.best_params)\n",
    "print(\"Best XGB RMSE:\", study_xgb.best_value)"
   ]
  },
  {
   "cell_type": "code",
   "execution_count": 219,
   "id": "54e151cb-e784-49be-9acf-d41d2334b704",
   "metadata": {},
   "outputs": [
    {
     "data": {
      "text/plain": [
       "{'n_estimators': 202,\n",
       " 'max_depth': 4,\n",
       " 'learning_rate': 0.022631048270536653,\n",
       " 'subsample': 0.6695922555752873,\n",
       " 'colsample_bytree': 0.811183901326922,\n",
       " 'gamma': 3.523524573900778,\n",
       " 'reg_alpha': 0.6592808338584413,\n",
       " 'reg_lambda': 0.2769268447620156}"
      ]
     },
     "execution_count": 219,
     "metadata": {},
     "output_type": "execute_result"
    }
   ],
   "source": [
    "xgb_best_params = study_xgb.best_params\n",
    "xgb_best_params"
   ]
  },
  {
   "cell_type": "code",
   "execution_count": 246,
   "id": "b0dd5259-f1bd-4c0f-9d4f-2d5ecf59427d",
   "metadata": {},
   "outputs": [],
   "source": [
    "def shap_explainability(model, data):\n",
    "    \"\"\"\n",
    "    Shap Plots from a trained model.\n",
    "\n",
    "    Args:\n",
    "        model: Trained model with feature_importances_ attribute.\n",
    "        data: Feature DataFrame.\n",
    "    \"\"\"\n",
    "    explainer = shap.TreeExplainer(model)\n",
    "    shap_values = explainer.shap_values(data)\n",
    "    shap.summary_plot(shap_values, data)\n",
    "\n",
    "    return None\n",
    "\n",
    "def feature_importance(model, data, model_name=\"Model\"):\n",
    "    \"\"\"\n",
    "    Plots feature importances from a trained model.\n",
    "\n",
    "    Args:\n",
    "        model: Trained model with feature_importances_ attribute.\n",
    "        data: Feature DataFrame.\n",
    "        model_name: Name of the model for plot title.\n",
    "    \"\"\"\n",
    "    importances = model.feature_importances_\n",
    "    indices = np.argsort(importances)[::-1]\n",
    "    plt.figure(figsize=(10, 6))\n",
    "    sns.barplot(x=importances[indices][:20], y=data.columns[indices][:20])\n",
    "    plt.title(f'Top Feature Importances - {model_name}')\n",
    "    plt.tight_layout()\n",
    "    plt.show()"
   ]
  },
  {
   "cell_type": "code",
   "execution_count": 226,
   "id": "bd0711c8-3276-4ebf-ae55-32ce74dfad10",
   "metadata": {},
   "outputs": [
    {
     "data": {
      "text/html": [
       "<style>#sk-container-id-1 {\n",
       "  /* Definition of color scheme common for light and dark mode */\n",
       "  --sklearn-color-text: black;\n",
       "  --sklearn-color-line: gray;\n",
       "  /* Definition of color scheme for unfitted estimators */\n",
       "  --sklearn-color-unfitted-level-0: #fff5e6;\n",
       "  --sklearn-color-unfitted-level-1: #f6e4d2;\n",
       "  --sklearn-color-unfitted-level-2: #ffe0b3;\n",
       "  --sklearn-color-unfitted-level-3: chocolate;\n",
       "  /* Definition of color scheme for fitted estimators */\n",
       "  --sklearn-color-fitted-level-0: #f0f8ff;\n",
       "  --sklearn-color-fitted-level-1: #d4ebff;\n",
       "  --sklearn-color-fitted-level-2: #b3dbfd;\n",
       "  --sklearn-color-fitted-level-3: cornflowerblue;\n",
       "\n",
       "  /* Specific color for light theme */\n",
       "  --sklearn-color-text-on-default-background: var(--sg-text-color, var(--theme-code-foreground, var(--jp-content-font-color1, black)));\n",
       "  --sklearn-color-background: var(--sg-background-color, var(--theme-background, var(--jp-layout-color0, white)));\n",
       "  --sklearn-color-border-box: var(--sg-text-color, var(--theme-code-foreground, var(--jp-content-font-color1, black)));\n",
       "  --sklearn-color-icon: #696969;\n",
       "\n",
       "  @media (prefers-color-scheme: dark) {\n",
       "    /* Redefinition of color scheme for dark theme */\n",
       "    --sklearn-color-text-on-default-background: var(--sg-text-color, var(--theme-code-foreground, var(--jp-content-font-color1, white)));\n",
       "    --sklearn-color-background: var(--sg-background-color, var(--theme-background, var(--jp-layout-color0, #111)));\n",
       "    --sklearn-color-border-box: var(--sg-text-color, var(--theme-code-foreground, var(--jp-content-font-color1, white)));\n",
       "    --sklearn-color-icon: #878787;\n",
       "  }\n",
       "}\n",
       "\n",
       "#sk-container-id-1 {\n",
       "  color: var(--sklearn-color-text);\n",
       "}\n",
       "\n",
       "#sk-container-id-1 pre {\n",
       "  padding: 0;\n",
       "}\n",
       "\n",
       "#sk-container-id-1 input.sk-hidden--visually {\n",
       "  border: 0;\n",
       "  clip: rect(1px 1px 1px 1px);\n",
       "  clip: rect(1px, 1px, 1px, 1px);\n",
       "  height: 1px;\n",
       "  margin: -1px;\n",
       "  overflow: hidden;\n",
       "  padding: 0;\n",
       "  position: absolute;\n",
       "  width: 1px;\n",
       "}\n",
       "\n",
       "#sk-container-id-1 div.sk-dashed-wrapped {\n",
       "  border: 1px dashed var(--sklearn-color-line);\n",
       "  margin: 0 0.4em 0.5em 0.4em;\n",
       "  box-sizing: border-box;\n",
       "  padding-bottom: 0.4em;\n",
       "  background-color: var(--sklearn-color-background);\n",
       "}\n",
       "\n",
       "#sk-container-id-1 div.sk-container {\n",
       "  /* jupyter's `normalize.less` sets `[hidden] { display: none; }`\n",
       "     but bootstrap.min.css set `[hidden] { display: none !important; }`\n",
       "     so we also need the `!important` here to be able to override the\n",
       "     default hidden behavior on the sphinx rendered scikit-learn.org.\n",
       "     See: https://github.com/scikit-learn/scikit-learn/issues/21755 */\n",
       "  display: inline-block !important;\n",
       "  position: relative;\n",
       "}\n",
       "\n",
       "#sk-container-id-1 div.sk-text-repr-fallback {\n",
       "  display: none;\n",
       "}\n",
       "\n",
       "div.sk-parallel-item,\n",
       "div.sk-serial,\n",
       "div.sk-item {\n",
       "  /* draw centered vertical line to link estimators */\n",
       "  background-image: linear-gradient(var(--sklearn-color-text-on-default-background), var(--sklearn-color-text-on-default-background));\n",
       "  background-size: 2px 100%;\n",
       "  background-repeat: no-repeat;\n",
       "  background-position: center center;\n",
       "}\n",
       "\n",
       "/* Parallel-specific style estimator block */\n",
       "\n",
       "#sk-container-id-1 div.sk-parallel-item::after {\n",
       "  content: \"\";\n",
       "  width: 100%;\n",
       "  border-bottom: 2px solid var(--sklearn-color-text-on-default-background);\n",
       "  flex-grow: 1;\n",
       "}\n",
       "\n",
       "#sk-container-id-1 div.sk-parallel {\n",
       "  display: flex;\n",
       "  align-items: stretch;\n",
       "  justify-content: center;\n",
       "  background-color: var(--sklearn-color-background);\n",
       "  position: relative;\n",
       "}\n",
       "\n",
       "#sk-container-id-1 div.sk-parallel-item {\n",
       "  display: flex;\n",
       "  flex-direction: column;\n",
       "}\n",
       "\n",
       "#sk-container-id-1 div.sk-parallel-item:first-child::after {\n",
       "  align-self: flex-end;\n",
       "  width: 50%;\n",
       "}\n",
       "\n",
       "#sk-container-id-1 div.sk-parallel-item:last-child::after {\n",
       "  align-self: flex-start;\n",
       "  width: 50%;\n",
       "}\n",
       "\n",
       "#sk-container-id-1 div.sk-parallel-item:only-child::after {\n",
       "  width: 0;\n",
       "}\n",
       "\n",
       "/* Serial-specific style estimator block */\n",
       "\n",
       "#sk-container-id-1 div.sk-serial {\n",
       "  display: flex;\n",
       "  flex-direction: column;\n",
       "  align-items: center;\n",
       "  background-color: var(--sklearn-color-background);\n",
       "  padding-right: 1em;\n",
       "  padding-left: 1em;\n",
       "}\n",
       "\n",
       "\n",
       "/* Toggleable style: style used for estimator/Pipeline/ColumnTransformer box that is\n",
       "clickable and can be expanded/collapsed.\n",
       "- Pipeline and ColumnTransformer use this feature and define the default style\n",
       "- Estimators will overwrite some part of the style using the `sk-estimator` class\n",
       "*/\n",
       "\n",
       "/* Pipeline and ColumnTransformer style (default) */\n",
       "\n",
       "#sk-container-id-1 div.sk-toggleable {\n",
       "  /* Default theme specific background. It is overwritten whether we have a\n",
       "  specific estimator or a Pipeline/ColumnTransformer */\n",
       "  background-color: var(--sklearn-color-background);\n",
       "}\n",
       "\n",
       "/* Toggleable label */\n",
       "#sk-container-id-1 label.sk-toggleable__label {\n",
       "  cursor: pointer;\n",
       "  display: block;\n",
       "  width: 100%;\n",
       "  margin-bottom: 0;\n",
       "  padding: 0.5em;\n",
       "  box-sizing: border-box;\n",
       "  text-align: center;\n",
       "}\n",
       "\n",
       "#sk-container-id-1 label.sk-toggleable__label-arrow:before {\n",
       "  /* Arrow on the left of the label */\n",
       "  content: \"▸\";\n",
       "  float: left;\n",
       "  margin-right: 0.25em;\n",
       "  color: var(--sklearn-color-icon);\n",
       "}\n",
       "\n",
       "#sk-container-id-1 label.sk-toggleable__label-arrow:hover:before {\n",
       "  color: var(--sklearn-color-text);\n",
       "}\n",
       "\n",
       "/* Toggleable content - dropdown */\n",
       "\n",
       "#sk-container-id-1 div.sk-toggleable__content {\n",
       "  max-height: 0;\n",
       "  max-width: 0;\n",
       "  overflow: hidden;\n",
       "  text-align: left;\n",
       "  /* unfitted */\n",
       "  background-color: var(--sklearn-color-unfitted-level-0);\n",
       "}\n",
       "\n",
       "#sk-container-id-1 div.sk-toggleable__content.fitted {\n",
       "  /* fitted */\n",
       "  background-color: var(--sklearn-color-fitted-level-0);\n",
       "}\n",
       "\n",
       "#sk-container-id-1 div.sk-toggleable__content pre {\n",
       "  margin: 0.2em;\n",
       "  border-radius: 0.25em;\n",
       "  color: var(--sklearn-color-text);\n",
       "  /* unfitted */\n",
       "  background-color: var(--sklearn-color-unfitted-level-0);\n",
       "}\n",
       "\n",
       "#sk-container-id-1 div.sk-toggleable__content.fitted pre {\n",
       "  /* unfitted */\n",
       "  background-color: var(--sklearn-color-fitted-level-0);\n",
       "}\n",
       "\n",
       "#sk-container-id-1 input.sk-toggleable__control:checked~div.sk-toggleable__content {\n",
       "  /* Expand drop-down */\n",
       "  max-height: 200px;\n",
       "  max-width: 100%;\n",
       "  overflow: auto;\n",
       "}\n",
       "\n",
       "#sk-container-id-1 input.sk-toggleable__control:checked~label.sk-toggleable__label-arrow:before {\n",
       "  content: \"▾\";\n",
       "}\n",
       "\n",
       "/* Pipeline/ColumnTransformer-specific style */\n",
       "\n",
       "#sk-container-id-1 div.sk-label input.sk-toggleable__control:checked~label.sk-toggleable__label {\n",
       "  color: var(--sklearn-color-text);\n",
       "  background-color: var(--sklearn-color-unfitted-level-2);\n",
       "}\n",
       "\n",
       "#sk-container-id-1 div.sk-label.fitted input.sk-toggleable__control:checked~label.sk-toggleable__label {\n",
       "  background-color: var(--sklearn-color-fitted-level-2);\n",
       "}\n",
       "\n",
       "/* Estimator-specific style */\n",
       "\n",
       "/* Colorize estimator box */\n",
       "#sk-container-id-1 div.sk-estimator input.sk-toggleable__control:checked~label.sk-toggleable__label {\n",
       "  /* unfitted */\n",
       "  background-color: var(--sklearn-color-unfitted-level-2);\n",
       "}\n",
       "\n",
       "#sk-container-id-1 div.sk-estimator.fitted input.sk-toggleable__control:checked~label.sk-toggleable__label {\n",
       "  /* fitted */\n",
       "  background-color: var(--sklearn-color-fitted-level-2);\n",
       "}\n",
       "\n",
       "#sk-container-id-1 div.sk-label label.sk-toggleable__label,\n",
       "#sk-container-id-1 div.sk-label label {\n",
       "  /* The background is the default theme color */\n",
       "  color: var(--sklearn-color-text-on-default-background);\n",
       "}\n",
       "\n",
       "/* On hover, darken the color of the background */\n",
       "#sk-container-id-1 div.sk-label:hover label.sk-toggleable__label {\n",
       "  color: var(--sklearn-color-text);\n",
       "  background-color: var(--sklearn-color-unfitted-level-2);\n",
       "}\n",
       "\n",
       "/* Label box, darken color on hover, fitted */\n",
       "#sk-container-id-1 div.sk-label.fitted:hover label.sk-toggleable__label.fitted {\n",
       "  color: var(--sklearn-color-text);\n",
       "  background-color: var(--sklearn-color-fitted-level-2);\n",
       "}\n",
       "\n",
       "/* Estimator label */\n",
       "\n",
       "#sk-container-id-1 div.sk-label label {\n",
       "  font-family: monospace;\n",
       "  font-weight: bold;\n",
       "  display: inline-block;\n",
       "  line-height: 1.2em;\n",
       "}\n",
       "\n",
       "#sk-container-id-1 div.sk-label-container {\n",
       "  text-align: center;\n",
       "}\n",
       "\n",
       "/* Estimator-specific */\n",
       "#sk-container-id-1 div.sk-estimator {\n",
       "  font-family: monospace;\n",
       "  border: 1px dotted var(--sklearn-color-border-box);\n",
       "  border-radius: 0.25em;\n",
       "  box-sizing: border-box;\n",
       "  margin-bottom: 0.5em;\n",
       "  /* unfitted */\n",
       "  background-color: var(--sklearn-color-unfitted-level-0);\n",
       "}\n",
       "\n",
       "#sk-container-id-1 div.sk-estimator.fitted {\n",
       "  /* fitted */\n",
       "  background-color: var(--sklearn-color-fitted-level-0);\n",
       "}\n",
       "\n",
       "/* on hover */\n",
       "#sk-container-id-1 div.sk-estimator:hover {\n",
       "  /* unfitted */\n",
       "  background-color: var(--sklearn-color-unfitted-level-2);\n",
       "}\n",
       "\n",
       "#sk-container-id-1 div.sk-estimator.fitted:hover {\n",
       "  /* fitted */\n",
       "  background-color: var(--sklearn-color-fitted-level-2);\n",
       "}\n",
       "\n",
       "/* Specification for estimator info (e.g. \"i\" and \"?\") */\n",
       "\n",
       "/* Common style for \"i\" and \"?\" */\n",
       "\n",
       ".sk-estimator-doc-link,\n",
       "a:link.sk-estimator-doc-link,\n",
       "a:visited.sk-estimator-doc-link {\n",
       "  float: right;\n",
       "  font-size: smaller;\n",
       "  line-height: 1em;\n",
       "  font-family: monospace;\n",
       "  background-color: var(--sklearn-color-background);\n",
       "  border-radius: 1em;\n",
       "  height: 1em;\n",
       "  width: 1em;\n",
       "  text-decoration: none !important;\n",
       "  margin-left: 1ex;\n",
       "  /* unfitted */\n",
       "  border: var(--sklearn-color-unfitted-level-1) 1pt solid;\n",
       "  color: var(--sklearn-color-unfitted-level-1);\n",
       "}\n",
       "\n",
       ".sk-estimator-doc-link.fitted,\n",
       "a:link.sk-estimator-doc-link.fitted,\n",
       "a:visited.sk-estimator-doc-link.fitted {\n",
       "  /* fitted */\n",
       "  border: var(--sklearn-color-fitted-level-1) 1pt solid;\n",
       "  color: var(--sklearn-color-fitted-level-1);\n",
       "}\n",
       "\n",
       "/* On hover */\n",
       "div.sk-estimator:hover .sk-estimator-doc-link:hover,\n",
       ".sk-estimator-doc-link:hover,\n",
       "div.sk-label-container:hover .sk-estimator-doc-link:hover,\n",
       ".sk-estimator-doc-link:hover {\n",
       "  /* unfitted */\n",
       "  background-color: var(--sklearn-color-unfitted-level-3);\n",
       "  color: var(--sklearn-color-background);\n",
       "  text-decoration: none;\n",
       "}\n",
       "\n",
       "div.sk-estimator.fitted:hover .sk-estimator-doc-link.fitted:hover,\n",
       ".sk-estimator-doc-link.fitted:hover,\n",
       "div.sk-label-container:hover .sk-estimator-doc-link.fitted:hover,\n",
       ".sk-estimator-doc-link.fitted:hover {\n",
       "  /* fitted */\n",
       "  background-color: var(--sklearn-color-fitted-level-3);\n",
       "  color: var(--sklearn-color-background);\n",
       "  text-decoration: none;\n",
       "}\n",
       "\n",
       "/* Span, style for the box shown on hovering the info icon */\n",
       ".sk-estimator-doc-link span {\n",
       "  display: none;\n",
       "  z-index: 9999;\n",
       "  position: relative;\n",
       "  font-weight: normal;\n",
       "  right: .2ex;\n",
       "  padding: .5ex;\n",
       "  margin: .5ex;\n",
       "  width: min-content;\n",
       "  min-width: 20ex;\n",
       "  max-width: 50ex;\n",
       "  color: var(--sklearn-color-text);\n",
       "  box-shadow: 2pt 2pt 4pt #999;\n",
       "  /* unfitted */\n",
       "  background: var(--sklearn-color-unfitted-level-0);\n",
       "  border: .5pt solid var(--sklearn-color-unfitted-level-3);\n",
       "}\n",
       "\n",
       ".sk-estimator-doc-link.fitted span {\n",
       "  /* fitted */\n",
       "  background: var(--sklearn-color-fitted-level-0);\n",
       "  border: var(--sklearn-color-fitted-level-3);\n",
       "}\n",
       "\n",
       ".sk-estimator-doc-link:hover span {\n",
       "  display: block;\n",
       "}\n",
       "\n",
       "/* \"?\"-specific style due to the `<a>` HTML tag */\n",
       "\n",
       "#sk-container-id-1 a.estimator_doc_link {\n",
       "  float: right;\n",
       "  font-size: 1rem;\n",
       "  line-height: 1em;\n",
       "  font-family: monospace;\n",
       "  background-color: var(--sklearn-color-background);\n",
       "  border-radius: 1rem;\n",
       "  height: 1rem;\n",
       "  width: 1rem;\n",
       "  text-decoration: none;\n",
       "  /* unfitted */\n",
       "  color: var(--sklearn-color-unfitted-level-1);\n",
       "  border: var(--sklearn-color-unfitted-level-1) 1pt solid;\n",
       "}\n",
       "\n",
       "#sk-container-id-1 a.estimator_doc_link.fitted {\n",
       "  /* fitted */\n",
       "  border: var(--sklearn-color-fitted-level-1) 1pt solid;\n",
       "  color: var(--sklearn-color-fitted-level-1);\n",
       "}\n",
       "\n",
       "/* On hover */\n",
       "#sk-container-id-1 a.estimator_doc_link:hover {\n",
       "  /* unfitted */\n",
       "  background-color: var(--sklearn-color-unfitted-level-3);\n",
       "  color: var(--sklearn-color-background);\n",
       "  text-decoration: none;\n",
       "}\n",
       "\n",
       "#sk-container-id-1 a.estimator_doc_link.fitted:hover {\n",
       "  /* fitted */\n",
       "  background-color: var(--sklearn-color-fitted-level-3);\n",
       "}\n",
       "</style><div id=\"sk-container-id-1\" class=\"sk-top-container\"><div class=\"sk-text-repr-fallback\"><pre>XGBRegressor(base_score=None, booster=None, callbacks=None,\n",
       "             colsample_bylevel=None, colsample_bynode=None,\n",
       "             colsample_bytree=0.811183901326922, device=None,\n",
       "             early_stopping_rounds=None, enable_categorical=False,\n",
       "             eval_metric=None, feature_types=None, feature_weights=None,\n",
       "             gamma=3.523524573900778, grow_policy=None, importance_type=None,\n",
       "             interaction_constraints=None, learning_rate=0.022631048270536653,\n",
       "             max_bin=None, max_cat_threshold=None, max_cat_to_onehot=None,\n",
       "             max_delta_step=None, max_depth=4, max_leaves=None,\n",
       "             min_child_weight=None, missing=nan, monotone_constraints=None,\n",
       "             multi_strategy=None, n_estimators=202, n_jobs=None,\n",
       "             num_parallel_tree=None, ...)</pre><b>In a Jupyter environment, please rerun this cell to show the HTML representation or trust the notebook. <br />On GitHub, the HTML representation is unable to render, please try loading this page with nbviewer.org.</b></div><div class=\"sk-container\" hidden><div class=\"sk-item\"><div class=\"sk-estimator fitted sk-toggleable\"><input class=\"sk-toggleable__control sk-hidden--visually\" id=\"sk-estimator-id-1\" type=\"checkbox\" checked><label for=\"sk-estimator-id-1\" class=\"sk-toggleable__label fitted sk-toggleable__label-arrow fitted\">&nbsp;&nbsp;XGBRegressor<a class=\"sk-estimator-doc-link fitted\" rel=\"noreferrer\" target=\"_blank\" href=\"https://xgboost.readthedocs.io/en/release_3.0.0/python/python_api.html#xgboost.XGBRegressor\">?<span>Documentation for XGBRegressor</span></a><span class=\"sk-estimator-doc-link fitted\">i<span>Fitted</span></span></label><div class=\"sk-toggleable__content fitted\"><pre>XGBRegressor(base_score=None, booster=None, callbacks=None,\n",
       "             colsample_bylevel=None, colsample_bynode=None,\n",
       "             colsample_bytree=0.811183901326922, device=None,\n",
       "             early_stopping_rounds=None, enable_categorical=False,\n",
       "             eval_metric=None, feature_types=None, feature_weights=None,\n",
       "             gamma=3.523524573900778, grow_policy=None, importance_type=None,\n",
       "             interaction_constraints=None, learning_rate=0.022631048270536653,\n",
       "             max_bin=None, max_cat_threshold=None, max_cat_to_onehot=None,\n",
       "             max_delta_step=None, max_depth=4, max_leaves=None,\n",
       "             min_child_weight=None, missing=nan, monotone_constraints=None,\n",
       "             multi_strategy=None, n_estimators=202, n_jobs=None,\n",
       "             num_parallel_tree=None, ...)</pre></div> </div></div></div></div>"
      ],
      "text/plain": [
       "XGBRegressor(base_score=None, booster=None, callbacks=None,\n",
       "             colsample_bylevel=None, colsample_bynode=None,\n",
       "             colsample_bytree=0.811183901326922, device=None,\n",
       "             early_stopping_rounds=None, enable_categorical=False,\n",
       "             eval_metric=None, feature_types=None, feature_weights=None,\n",
       "             gamma=3.523524573900778, grow_policy=None, importance_type=None,\n",
       "             interaction_constraints=None, learning_rate=0.022631048270536653,\n",
       "             max_bin=None, max_cat_threshold=None, max_cat_to_onehot=None,\n",
       "             max_delta_step=None, max_depth=4, max_leaves=None,\n",
       "             min_child_weight=None, missing=nan, monotone_constraints=None,\n",
       "             multi_strategy=None, n_estimators=202, n_jobs=None,\n",
       "             num_parallel_tree=None, ...)"
      ]
     },
     "execution_count": 226,
     "metadata": {},
     "output_type": "execute_result"
    }
   ],
   "source": [
    "best_model_xgb = XGBRegressor(**xgb_best_params)\n",
    "best_model_xgb.fit(X_train, y_train)"
   ]
  },
  {
   "cell_type": "code",
   "execution_count": 230,
   "id": "785d25c7-cb32-43e6-af02-2a429851a09c",
   "metadata": {},
   "outputs": [
    {
     "name": "stdout",
     "output_type": "stream",
     "text": [
      "Train - Random Forest RMSE: 1089.3023771975782\n",
      "Validation - Random Forest RMSE: 1046.3511659665053\n"
     ]
    }
   ],
   "source": [
    "evaluation(best_model_xgb, X_train, X_valid, y_train, y_valid)"
   ]
  },
  {
   "cell_type": "markdown",
   "id": "5cd9fa3f-2f7e-4287-8f0b-44d8f9cce978",
   "metadata": {},
   "source": [
    "Not overfitting"
   ]
  },
  {
   "cell_type": "code",
   "execution_count": 240,
   "id": "77f9d5d6-31ed-42d5-b55f-a5760314f33d",
   "metadata": {},
   "outputs": [
    {
     "data": {
      "image/png": "[encoded data removed]",
      "text/plain": [
       "<Figure size 1000x600 with 1 Axes>"
      ]
     },
     "metadata": {},
     "output_type": "display_data"
    }
   ],
   "source": [
    "feature_importance(best_model_xgb, X_train, model_name=\"XGB\")"
   ]
  },
  {
   "cell_type": "code",
   "execution_count": 248,
   "id": "8ea92e3a-f2e3-4eae-8209-ba9c550717e5",
   "metadata": {},
   "outputs": [
    {
     "data": {
      "image/png": "[encoded data removed]",
      "text/plain": [
       "<Figure size 800x950 with 2 Axes>"
      ]
     },
     "metadata": {},
     "output_type": "display_data"
    }
   ],
   "source": [
    "shap_explainability(best_model_xgb, X)"
   ]
  },
  {
   "cell_type": "markdown",
   "id": "fe293d5c-a5c1-4405-b686-838c75bff6d5",
   "metadata": {},
   "source": [
    "Let's train on the entire dataset."
   ]
  },
  {
   "cell_type": "code",
   "execution_count": 253,
   "id": "04500757-834e-4d30-a624-db5f65072cc9",
   "metadata": {},
   "outputs": [
    {
     "data": {
      "text/html": [
       "<style>#sk-container-id-2 {\n",
       "  /* Definition of color scheme common for light and dark mode */\n",
       "  --sklearn-color-text: black;\n",
       "  --sklearn-color-line: gray;\n",
       "  /* Definition of color scheme for unfitted estimators */\n",
       "  --sklearn-color-unfitted-level-0: #fff5e6;\n",
       "  --sklearn-color-unfitted-level-1: #f6e4d2;\n",
       "  --sklearn-color-unfitted-level-2: #ffe0b3;\n",
       "  --sklearn-color-unfitted-level-3: chocolate;\n",
       "  /* Definition of color scheme for fitted estimators */\n",
       "  --sklearn-color-fitted-level-0: #f0f8ff;\n",
       "  --sklearn-color-fitted-level-1: #d4ebff;\n",
       "  --sklearn-color-fitted-level-2: #b3dbfd;\n",
       "  --sklearn-color-fitted-level-3: cornflowerblue;\n",
       "\n",
       "  /* Specific color for light theme */\n",
       "  --sklearn-color-text-on-default-background: var(--sg-text-color, var(--theme-code-foreground, var(--jp-content-font-color1, black)));\n",
       "  --sklearn-color-background: var(--sg-background-color, var(--theme-background, var(--jp-layout-color0, white)));\n",
       "  --sklearn-color-border-box: var(--sg-text-color, var(--theme-code-foreground, var(--jp-content-font-color1, black)));\n",
       "  --sklearn-color-icon: #696969;\n",
       "\n",
       "  @media (prefers-color-scheme: dark) {\n",
       "    /* Redefinition of color scheme for dark theme */\n",
       "    --sklearn-color-text-on-default-background: var(--sg-text-color, var(--theme-code-foreground, var(--jp-content-font-color1, white)));\n",
       "    --sklearn-color-background: var(--sg-background-color, var(--theme-background, var(--jp-layout-color0, #111)));\n",
       "    --sklearn-color-border-box: var(--sg-text-color, var(--theme-code-foreground, var(--jp-content-font-color1, white)));\n",
       "    --sklearn-color-icon: #878787;\n",
       "  }\n",
       "}\n",
       "\n",
       "#sk-container-id-2 {\n",
       "  color: var(--sklearn-color-text);\n",
       "}\n",
       "\n",
       "#sk-container-id-2 pre {\n",
       "  padding: 0;\n",
       "}\n",
       "\n",
       "#sk-container-id-2 input.sk-hidden--visually {\n",
       "  border: 0;\n",
       "  clip: rect(1px 1px 1px 1px);\n",
       "  clip: rect(1px, 1px, 1px, 1px);\n",
       "  height: 1px;\n",
       "  margin: -1px;\n",
       "  overflow: hidden;\n",
       "  padding: 0;\n",
       "  position: absolute;\n",
       "  width: 1px;\n",
       "}\n",
       "\n",
       "#sk-container-id-2 div.sk-dashed-wrapped {\n",
       "  border: 1px dashed var(--sklearn-color-line);\n",
       "  margin: 0 0.4em 0.5em 0.4em;\n",
       "  box-sizing: border-box;\n",
       "  padding-bottom: 0.4em;\n",
       "  background-color: var(--sklearn-color-background);\n",
       "}\n",
       "\n",
       "#sk-container-id-2 div.sk-container {\n",
       "  /* jupyter's `normalize.less` sets `[hidden] { display: none; }`\n",
       "     but bootstrap.min.css set `[hidden] { display: none !important; }`\n",
       "     so we also need the `!important` here to be able to override the\n",
       "     default hidden behavior on the sphinx rendered scikit-learn.org.\n",
       "     See: https://github.com/scikit-learn/scikit-learn/issues/21755 */\n",
       "  display: inline-block !important;\n",
       "  position: relative;\n",
       "}\n",
       "\n",
       "#sk-container-id-2 div.sk-text-repr-fallback {\n",
       "  display: none;\n",
       "}\n",
       "\n",
       "div.sk-parallel-item,\n",
       "div.sk-serial,\n",
       "div.sk-item {\n",
       "  /* draw centered vertical line to link estimators */\n",
       "  background-image: linear-gradient(var(--sklearn-color-text-on-default-background), var(--sklearn-color-text-on-default-background));\n",
       "  background-size: 2px 100%;\n",
       "  background-repeat: no-repeat;\n",
       "  background-position: center center;\n",
       "}\n",
       "\n",
       "/* Parallel-specific style estimator block */\n",
       "\n",
       "#sk-container-id-2 div.sk-parallel-item::after {\n",
       "  content: \"\";\n",
       "  width: 100%;\n",
       "  border-bottom: 2px solid var(--sklearn-color-text-on-default-background);\n",
       "  flex-grow: 1;\n",
       "}\n",
       "\n",
       "#sk-container-id-2 div.sk-parallel {\n",
       "  display: flex;\n",
       "  align-items: stretch;\n",
       "  justify-content: center;\n",
       "  background-color: var(--sklearn-color-background);\n",
       "  position: relative;\n",
       "}\n",
       "\n",
       "#sk-container-id-2 div.sk-parallel-item {\n",
       "  display: flex;\n",
       "  flex-direction: column;\n",
       "}\n",
       "\n",
       "#sk-container-id-2 div.sk-parallel-item:first-child::after {\n",
       "  align-self: flex-end;\n",
       "  width: 50%;\n",
       "}\n",
       "\n",
       "#sk-container-id-2 div.sk-parallel-item:last-child::after {\n",
       "  align-self: flex-start;\n",
       "  width: 50%;\n",
       "}\n",
       "\n",
       "#sk-container-id-2 div.sk-parallel-item:only-child::after {\n",
       "  width: 0;\n",
       "}\n",
       "\n",
       "/* Serial-specific style estimator block */\n",
       "\n",
       "#sk-container-id-2 div.sk-serial {\n",
       "  display: flex;\n",
       "  flex-direction: column;\n",
       "  align-items: center;\n",
       "  background-color: var(--sklearn-color-background);\n",
       "  padding-right: 1em;\n",
       "  padding-left: 1em;\n",
       "}\n",
       "\n",
       "\n",
       "/* Toggleable style: style used for estimator/Pipeline/ColumnTransformer box that is\n",
       "clickable and can be expanded/collapsed.\n",
       "- Pipeline and ColumnTransformer use this feature and define the default style\n",
       "- Estimators will overwrite some part of the style using the `sk-estimator` class\n",
       "*/\n",
       "\n",
       "/* Pipeline and ColumnTransformer style (default) */\n",
       "\n",
       "#sk-container-id-2 div.sk-toggleable {\n",
       "  /* Default theme specific background. It is overwritten whether we have a\n",
       "  specific estimator or a Pipeline/ColumnTransformer */\n",
       "  background-color: var(--sklearn-color-background);\n",
       "}\n",
       "\n",
       "/* Toggleable label */\n",
       "#sk-container-id-2 label.sk-toggleable__label {\n",
       "  cursor: pointer;\n",
       "  display: block;\n",
       "  width: 100%;\n",
       "  margin-bottom: 0;\n",
       "  padding: 0.5em;\n",
       "  box-sizing: border-box;\n",
       "  text-align: center;\n",
       "}\n",
       "\n",
       "#sk-container-id-2 label.sk-toggleable__label-arrow:before {\n",
       "  /* Arrow on the left of the label */\n",
       "  content: \"▸\";\n",
       "  float: left;\n",
       "  margin-right: 0.25em;\n",
       "  color: var(--sklearn-color-icon);\n",
       "}\n",
       "\n",
       "#sk-container-id-2 label.sk-toggleable__label-arrow:hover:before {\n",
       "  color: var(--sklearn-color-text);\n",
       "}\n",
       "\n",
       "/* Toggleable content - dropdown */\n",
       "\n",
       "#sk-container-id-2 div.sk-toggleable__content {\n",
       "  max-height: 0;\n",
       "  max-width: 0;\n",
       "  overflow: hidden;\n",
       "  text-align: left;\n",
       "  /* unfitted */\n",
       "  background-color: var(--sklearn-color-unfitted-level-0);\n",
       "}\n",
       "\n",
       "#sk-container-id-2 div.sk-toggleable__content.fitted {\n",
       "  /* fitted */\n",
       "  background-color: var(--sklearn-color-fitted-level-0);\n",
       "}\n",
       "\n",
       "#sk-container-id-2 div.sk-toggleable__content pre {\n",
       "  margin: 0.2em;\n",
       "  border-radius: 0.25em;\n",
       "  color: var(--sklearn-color-text);\n",
       "  /* unfitted */\n",
       "  background-color: var(--sklearn-color-unfitted-level-0);\n",
       "}\n",
       "\n",
       "#sk-container-id-2 div.sk-toggleable__content.fitted pre {\n",
       "  /* unfitted */\n",
       "  background-color: var(--sklearn-color-fitted-level-0);\n",
       "}\n",
       "\n",
       "#sk-container-id-2 input.sk-toggleable__control:checked~div.sk-toggleable__content {\n",
       "  /* Expand drop-down */\n",
       "  max-height: 200px;\n",
       "  max-width: 100%;\n",
       "  overflow: auto;\n",
       "}\n",
       "\n",
       "#sk-container-id-2 input.sk-toggleable__control:checked~label.sk-toggleable__label-arrow:before {\n",
       "  content: \"▾\";\n",
       "}\n",
       "\n",
       "/* Pipeline/ColumnTransformer-specific style */\n",
       "\n",
       "#sk-container-id-2 div.sk-label input.sk-toggleable__control:checked~label.sk-toggleable__label {\n",
       "  color: var(--sklearn-color-text);\n",
       "  background-color: var(--sklearn-color-unfitted-level-2);\n",
       "}\n",
       "\n",
       "#sk-container-id-2 div.sk-label.fitted input.sk-toggleable__control:checked~label.sk-toggleable__label {\n",
       "  background-color: var(--sklearn-color-fitted-level-2);\n",
       "}\n",
       "\n",
       "/* Estimator-specific style */\n",
       "\n",
       "/* Colorize estimator box */\n",
       "#sk-container-id-2 div.sk-estimator input.sk-toggleable__control:checked~label.sk-toggleable__label {\n",
       "  /* unfitted */\n",
       "  background-color: var(--sklearn-color-unfitted-level-2);\n",
       "}\n",
       "\n",
       "#sk-container-id-2 div.sk-estimator.fitted input.sk-toggleable__control:checked~label.sk-toggleable__label {\n",
       "  /* fitted */\n",
       "  background-color: var(--sklearn-color-fitted-level-2);\n",
       "}\n",
       "\n",
       "#sk-container-id-2 div.sk-label label.sk-toggleable__label,\n",
       "#sk-container-id-2 div.sk-label label {\n",
       "  /* The background is the default theme color */\n",
       "  color: var(--sklearn-color-text-on-default-background);\n",
       "}\n",
       "\n",
       "/* On hover, darken the color of the background */\n",
       "#sk-container-id-2 div.sk-label:hover label.sk-toggleable__label {\n",
       "  color: var(--sklearn-color-text);\n",
       "  background-color: var(--sklearn-color-unfitted-level-2);\n",
       "}\n",
       "\n",
       "/* Label box, darken color on hover, fitted */\n",
       "#sk-container-id-2 div.sk-label.fitted:hover label.sk-toggleable__label.fitted {\n",
       "  color: var(--sklearn-color-text);\n",
       "  background-color: var(--sklearn-color-fitted-level-2);\n",
       "}\n",
       "\n",
       "/* Estimator label */\n",
       "\n",
       "#sk-container-id-2 div.sk-label label {\n",
       "  font-family: monospace;\n",
       "  font-weight: bold;\n",
       "  display: inline-block;\n",
       "  line-height: 1.2em;\n",
       "}\n",
       "\n",
       "#sk-container-id-2 div.sk-label-container {\n",
       "  text-align: center;\n",
       "}\n",
       "\n",
       "/* Estimator-specific */\n",
       "#sk-container-id-2 div.sk-estimator {\n",
       "  font-family: monospace;\n",
       "  border: 1px dotted var(--sklearn-color-border-box);\n",
       "  border-radius: 0.25em;\n",
       "  box-sizing: border-box;\n",
       "  margin-bottom: 0.5em;\n",
       "  /* unfitted */\n",
       "  background-color: var(--sklearn-color-unfitted-level-0);\n",
       "}\n",
       "\n",
       "#sk-container-id-2 div.sk-estimator.fitted {\n",
       "  /* fitted */\n",
       "  background-color: var(--sklearn-color-fitted-level-0);\n",
       "}\n",
       "\n",
       "/* on hover */\n",
       "#sk-container-id-2 div.sk-estimator:hover {\n",
       "  /* unfitted */\n",
       "  background-color: var(--sklearn-color-unfitted-level-2);\n",
       "}\n",
       "\n",
       "#sk-container-id-2 div.sk-estimator.fitted:hover {\n",
       "  /* fitted */\n",
       "  background-color: var(--sklearn-color-fitted-level-2);\n",
       "}\n",
       "\n",
       "/* Specification for estimator info (e.g. \"i\" and \"?\") */\n",
       "\n",
       "/* Common style for \"i\" and \"?\" */\n",
       "\n",
       ".sk-estimator-doc-link,\n",
       "a:link.sk-estimator-doc-link,\n",
       "a:visited.sk-estimator-doc-link {\n",
       "  float: right;\n",
       "  font-size: smaller;\n",
       "  line-height: 1em;\n",
       "  font-family: monospace;\n",
       "  background-color: var(--sklearn-color-background);\n",
       "  border-radius: 1em;\n",
       "  height: 1em;\n",
       "  width: 1em;\n",
       "  text-decoration: none !important;\n",
       "  margin-left: 1ex;\n",
       "  /* unfitted */\n",
       "  border: var(--sklearn-color-unfitted-level-1) 1pt solid;\n",
       "  color: var(--sklearn-color-unfitted-level-1);\n",
       "}\n",
       "\n",
       ".sk-estimator-doc-link.fitted,\n",
       "a:link.sk-estimator-doc-link.fitted,\n",
       "a:visited.sk-estimator-doc-link.fitted {\n",
       "  /* fitted */\n",
       "  border: var(--sklearn-color-fitted-level-1) 1pt solid;\n",
       "  color: var(--sklearn-color-fitted-level-1);\n",
       "}\n",
       "\n",
       "/* On hover */\n",
       "div.sk-estimator:hover .sk-estimator-doc-link:hover,\n",
       ".sk-estimator-doc-link:hover,\n",
       "div.sk-label-container:hover .sk-estimator-doc-link:hover,\n",
       ".sk-estimator-doc-link:hover {\n",
       "  /* unfitted */\n",
       "  background-color: var(--sklearn-color-unfitted-level-3);\n",
       "  color: var(--sklearn-color-background);\n",
       "  text-decoration: none;\n",
       "}\n",
       "\n",
       "div.sk-estimator.fitted:hover .sk-estimator-doc-link.fitted:hover,\n",
       ".sk-estimator-doc-link.fitted:hover,\n",
       "div.sk-label-container:hover .sk-estimator-doc-link.fitted:hover,\n",
       ".sk-estimator-doc-link.fitted:hover {\n",
       "  /* fitted */\n",
       "  background-color: var(--sklearn-color-fitted-level-3);\n",
       "  color: var(--sklearn-color-background);\n",
       "  text-decoration: none;\n",
       "}\n",
       "\n",
       "/* Span, style for the box shown on hovering the info icon */\n",
       ".sk-estimator-doc-link span {\n",
       "  display: none;\n",
       "  z-index: 9999;\n",
       "  position: relative;\n",
       "  font-weight: normal;\n",
       "  right: .2ex;\n",
       "  padding: .5ex;\n",
       "  margin: .5ex;\n",
       "  width: min-content;\n",
       "  min-width: 20ex;\n",
       "  max-width: 50ex;\n",
       "  color: var(--sklearn-color-text);\n",
       "  box-shadow: 2pt 2pt 4pt #999;\n",
       "  /* unfitted */\n",
       "  background: var(--sklearn-color-unfitted-level-0);\n",
       "  border: .5pt solid var(--sklearn-color-unfitted-level-3);\n",
       "}\n",
       "\n",
       ".sk-estimator-doc-link.fitted span {\n",
       "  /* fitted */\n",
       "  background: var(--sklearn-color-fitted-level-0);\n",
       "  border: var(--sklearn-color-fitted-level-3);\n",
       "}\n",
       "\n",
       ".sk-estimator-doc-link:hover span {\n",
       "  display: block;\n",
       "}\n",
       "\n",
       "/* \"?\"-specific style due to the `<a>` HTML tag */\n",
       "\n",
       "#sk-container-id-2 a.estimator_doc_link {\n",
       "  float: right;\n",
       "  font-size: 1rem;\n",
       "  line-height: 1em;\n",
       "  font-family: monospace;\n",
       "  background-color: var(--sklearn-color-background);\n",
       "  border-radius: 1rem;\n",
       "  height: 1rem;\n",
       "  width: 1rem;\n",
       "  text-decoration: none;\n",
       "  /* unfitted */\n",
       "  color: var(--sklearn-color-unfitted-level-1);\n",
       "  border: var(--sklearn-color-unfitted-level-1) 1pt solid;\n",
       "}\n",
       "\n",
       "#sk-container-id-2 a.estimator_doc_link.fitted {\n",
       "  /* fitted */\n",
       "  border: var(--sklearn-color-fitted-level-1) 1pt solid;\n",
       "  color: var(--sklearn-color-fitted-level-1);\n",
       "}\n",
       "\n",
       "/* On hover */\n",
       "#sk-container-id-2 a.estimator_doc_link:hover {\n",
       "  /* unfitted */\n",
       "  background-color: var(--sklearn-color-unfitted-level-3);\n",
       "  color: var(--sklearn-color-background);\n",
       "  text-decoration: none;\n",
       "}\n",
       "\n",
       "#sk-container-id-2 a.estimator_doc_link.fitted:hover {\n",
       "  /* fitted */\n",
       "  background-color: var(--sklearn-color-fitted-level-3);\n",
       "}\n",
       "</style><div id=\"sk-container-id-2\" class=\"sk-top-container\"><div class=\"sk-text-repr-fallback\"><pre>XGBRegressor(base_score=None, booster=None, callbacks=None,\n",
       "             colsample_bylevel=None, colsample_bynode=None,\n",
       "             colsample_bytree=0.811183901326922, device=None,\n",
       "             early_stopping_rounds=None, enable_categorical=False,\n",
       "             eval_metric=None, feature_types=None, feature_weights=None,\n",
       "             gamma=3.523524573900778, grow_policy=None, importance_type=None,\n",
       "             interaction_constraints=None, learning_rate=0.022631048270536653,\n",
       "             max_bin=None, max_cat_threshold=None, max_cat_to_onehot=None,\n",
       "             max_delta_step=None, max_depth=4, max_leaves=None,\n",
       "             min_child_weight=None, missing=nan, monotone_constraints=None,\n",
       "             multi_strategy=None, n_estimators=202, n_jobs=None,\n",
       "             num_parallel_tree=None, ...)</pre><b>In a Jupyter environment, please rerun this cell to show the HTML representation or trust the notebook. <br />On GitHub, the HTML representation is unable to render, please try loading this page with nbviewer.org.</b></div><div class=\"sk-container\" hidden><div class=\"sk-item\"><div class=\"sk-estimator fitted sk-toggleable\"><input class=\"sk-toggleable__control sk-hidden--visually\" id=\"sk-estimator-id-2\" type=\"checkbox\" checked><label for=\"sk-estimator-id-2\" class=\"sk-toggleable__label fitted sk-toggleable__label-arrow fitted\">&nbsp;&nbsp;XGBRegressor<a class=\"sk-estimator-doc-link fitted\" rel=\"noreferrer\" target=\"_blank\" href=\"https://xgboost.readthedocs.io/en/release_3.0.0/python/python_api.html#xgboost.XGBRegressor\">?<span>Documentation for XGBRegressor</span></a><span class=\"sk-estimator-doc-link fitted\">i<span>Fitted</span></span></label><div class=\"sk-toggleable__content fitted\"><pre>XGBRegressor(base_score=None, booster=None, callbacks=None,\n",
       "             colsample_bylevel=None, colsample_bynode=None,\n",
       "             colsample_bytree=0.811183901326922, device=None,\n",
       "             early_stopping_rounds=None, enable_categorical=False,\n",
       "             eval_metric=None, feature_types=None, feature_weights=None,\n",
       "             gamma=3.523524573900778, grow_policy=None, importance_type=None,\n",
       "             interaction_constraints=None, learning_rate=0.022631048270536653,\n",
       "             max_bin=None, max_cat_threshold=None, max_cat_to_onehot=None,\n",
       "             max_delta_step=None, max_depth=4, max_leaves=None,\n",
       "             min_child_weight=None, missing=nan, monotone_constraints=None,\n",
       "             multi_strategy=None, n_estimators=202, n_jobs=None,\n",
       "             num_parallel_tree=None, ...)</pre></div> </div></div></div></div>"
      ],
      "text/plain": [
       "XGBRegressor(base_score=None, booster=None, callbacks=None,\n",
       "             colsample_bylevel=None, colsample_bynode=None,\n",
       "             colsample_bytree=0.811183901326922, device=None,\n",
       "             early_stopping_rounds=None, enable_categorical=False,\n",
       "             eval_metric=None, feature_types=None, feature_weights=None,\n",
       "             gamma=3.523524573900778, grow_policy=None, importance_type=None,\n",
       "             interaction_constraints=None, learning_rate=0.022631048270536653,\n",
       "             max_bin=None, max_cat_threshold=None, max_cat_to_onehot=None,\n",
       "             max_delta_step=None, max_depth=4, max_leaves=None,\n",
       "             min_child_weight=None, missing=nan, monotone_constraints=None,\n",
       "             multi_strategy=None, n_estimators=202, n_jobs=None,\n",
       "             num_parallel_tree=None, ...)"
      ]
     },
     "execution_count": 253,
     "metadata": {},
     "output_type": "execute_result"
    }
   ],
   "source": [
    "best_model_xgb = XGBRegressor(**xgb_best_params)\n",
    "best_model_xgb.fit(X, y)"
   ]
  },
  {
   "cell_type": "markdown",
   "id": "4dab53e3-33d6-4f23-8d98-70bfef949a24",
   "metadata": {},
   "source": [
    "## 6. Scoring"
   ]
  },
  {
   "cell_type": "code",
   "execution_count": 939,
   "id": "4dc21d6a-9e10-46a7-a089-e1809e58433a",
   "metadata": {},
   "outputs": [
    {
     "data": {
      "text/html": [
       "<style>#sk-container-id-3 {\n",
       "  /* Definition of color scheme common for light and dark mode */\n",
       "  --sklearn-color-text: black;\n",
       "  --sklearn-color-line: gray;\n",
       "  /* Definition of color scheme for unfitted estimators */\n",
       "  --sklearn-color-unfitted-level-0: #fff5e6;\n",
       "  --sklearn-color-unfitted-level-1: #f6e4d2;\n",
       "  --sklearn-color-unfitted-level-2: #ffe0b3;\n",
       "  --sklearn-color-unfitted-level-3: chocolate;\n",
       "  /* Definition of color scheme for fitted estimators */\n",
       "  --sklearn-color-fitted-level-0: #f0f8ff;\n",
       "  --sklearn-color-fitted-level-1: #d4ebff;\n",
       "  --sklearn-color-fitted-level-2: #b3dbfd;\n",
       "  --sklearn-color-fitted-level-3: cornflowerblue;\n",
       "\n",
       "  /* Specific color for light theme */\n",
       "  --sklearn-color-text-on-default-background: var(--sg-text-color, var(--theme-code-foreground, var(--jp-content-font-color1, black)));\n",
       "  --sklearn-color-background: var(--sg-background-color, var(--theme-background, var(--jp-layout-color0, white)));\n",
       "  --sklearn-color-border-box: var(--sg-text-color, var(--theme-code-foreground, var(--jp-content-font-color1, black)));\n",
       "  --sklearn-color-icon: #696969;\n",
       "\n",
       "  @media (prefers-color-scheme: dark) {\n",
       "    /* Redefinition of color scheme for dark theme */\n",
       "    --sklearn-color-text-on-default-background: var(--sg-text-color, var(--theme-code-foreground, var(--jp-content-font-color1, white)));\n",
       "    --sklearn-color-background: var(--sg-background-color, var(--theme-background, var(--jp-layout-color0, #111)));\n",
       "    --sklearn-color-border-box: var(--sg-text-color, var(--theme-code-foreground, var(--jp-content-font-color1, white)));\n",
       "    --sklearn-color-icon: #878787;\n",
       "  }\n",
       "}\n",
       "\n",
       "#sk-container-id-3 {\n",
       "  color: var(--sklearn-color-text);\n",
       "}\n",
       "\n",
       "#sk-container-id-3 pre {\n",
       "  padding: 0;\n",
       "}\n",
       "\n",
       "#sk-container-id-3 input.sk-hidden--visually {\n",
       "  border: 0;\n",
       "  clip: rect(1px 1px 1px 1px);\n",
       "  clip: rect(1px, 1px, 1px, 1px);\n",
       "  height: 1px;\n",
       "  margin: -1px;\n",
       "  overflow: hidden;\n",
       "  padding: 0;\n",
       "  position: absolute;\n",
       "  width: 1px;\n",
       "}\n",
       "\n",
       "#sk-container-id-3 div.sk-dashed-wrapped {\n",
       "  border: 1px dashed var(--sklearn-color-line);\n",
       "  margin: 0 0.4em 0.5em 0.4em;\n",
       "  box-sizing: border-box;\n",
       "  padding-bottom: 0.4em;\n",
       "  background-color: var(--sklearn-color-background);\n",
       "}\n",
       "\n",
       "#sk-container-id-3 div.sk-container {\n",
       "  /* jupyter's `normalize.less` sets `[hidden] { display: none; }`\n",
       "     but bootstrap.min.css set `[hidden] { display: none !important; }`\n",
       "     so we also need the `!important` here to be able to override the\n",
       "     default hidden behavior on the sphinx rendered scikit-learn.org.\n",
       "     See: https://github.com/scikit-learn/scikit-learn/issues/21755 */\n",
       "  display: inline-block !important;\n",
       "  position: relative;\n",
       "}\n",
       "\n",
       "#sk-container-id-3 div.sk-text-repr-fallback {\n",
       "  display: none;\n",
       "}\n",
       "\n",
       "div.sk-parallel-item,\n",
       "div.sk-serial,\n",
       "div.sk-item {\n",
       "  /* draw centered vertical line to link estimators */\n",
       "  background-image: linear-gradient(var(--sklearn-color-text-on-default-background), var(--sklearn-color-text-on-default-background));\n",
       "  background-size: 2px 100%;\n",
       "  background-repeat: no-repeat;\n",
       "  background-position: center center;\n",
       "}\n",
       "\n",
       "/* Parallel-specific style estimator block */\n",
       "\n",
       "#sk-container-id-3 div.sk-parallel-item::after {\n",
       "  content: \"\";\n",
       "  width: 100%;\n",
       "  border-bottom: 2px solid var(--sklearn-color-text-on-default-background);\n",
       "  flex-grow: 1;\n",
       "}\n",
       "\n",
       "#sk-container-id-3 div.sk-parallel {\n",
       "  display: flex;\n",
       "  align-items: stretch;\n",
       "  justify-content: center;\n",
       "  background-color: var(--sklearn-color-background);\n",
       "  position: relative;\n",
       "}\n",
       "\n",
       "#sk-container-id-3 div.sk-parallel-item {\n",
       "  display: flex;\n",
       "  flex-direction: column;\n",
       "}\n",
       "\n",
       "#sk-container-id-3 div.sk-parallel-item:first-child::after {\n",
       "  align-self: flex-end;\n",
       "  width: 50%;\n",
       "}\n",
       "\n",
       "#sk-container-id-3 div.sk-parallel-item:last-child::after {\n",
       "  align-self: flex-start;\n",
       "  width: 50%;\n",
       "}\n",
       "\n",
       "#sk-container-id-3 div.sk-parallel-item:only-child::after {\n",
       "  width: 0;\n",
       "}\n",
       "\n",
       "/* Serial-specific style estimator block */\n",
       "\n",
       "#sk-container-id-3 div.sk-serial {\n",
       "  display: flex;\n",
       "  flex-direction: column;\n",
       "  align-items: center;\n",
       "  background-color: var(--sklearn-color-background);\n",
       "  padding-right: 1em;\n",
       "  padding-left: 1em;\n",
       "}\n",
       "\n",
       "\n",
       "/* Toggleable style: style used for estimator/Pipeline/ColumnTransformer box that is\n",
       "clickable and can be expanded/collapsed.\n",
       "- Pipeline and ColumnTransformer use this feature and define the default style\n",
       "- Estimators will overwrite some part of the style using the `sk-estimator` class\n",
       "*/\n",
       "\n",
       "/* Pipeline and ColumnTransformer style (default) */\n",
       "\n",
       "#sk-container-id-3 div.sk-toggleable {\n",
       "  /* Default theme specific background. It is overwritten whether we have a\n",
       "  specific estimator or a Pipeline/ColumnTransformer */\n",
       "  background-color: var(--sklearn-color-background);\n",
       "}\n",
       "\n",
       "/* Toggleable label */\n",
       "#sk-container-id-3 label.sk-toggleable__label {\n",
       "  cursor: pointer;\n",
       "  display: block;\n",
       "  width: 100%;\n",
       "  margin-bottom: 0;\n",
       "  padding: 0.5em;\n",
       "  box-sizing: border-box;\n",
       "  text-align: center;\n",
       "}\n",
       "\n",
       "#sk-container-id-3 label.sk-toggleable__label-arrow:before {\n",
       "  /* Arrow on the left of the label */\n",
       "  content: \"▸\";\n",
       "  float: left;\n",
       "  margin-right: 0.25em;\n",
       "  color: var(--sklearn-color-icon);\n",
       "}\n",
       "\n",
       "#sk-container-id-3 label.sk-toggleable__label-arrow:hover:before {\n",
       "  color: var(--sklearn-color-text);\n",
       "}\n",
       "\n",
       "/* Toggleable content - dropdown */\n",
       "\n",
       "#sk-container-id-3 div.sk-toggleable__content {\n",
       "  max-height: 0;\n",
       "  max-width: 0;\n",
       "  overflow: hidden;\n",
       "  text-align: left;\n",
       "  /* unfitted */\n",
       "  background-color: var(--sklearn-color-unfitted-level-0);\n",
       "}\n",
       "\n",
       "#sk-container-id-3 div.sk-toggleable__content.fitted {\n",
       "  /* fitted */\n",
       "  background-color: var(--sklearn-color-fitted-level-0);\n",
       "}\n",
       "\n",
       "#sk-container-id-3 div.sk-toggleable__content pre {\n",
       "  margin: 0.2em;\n",
       "  border-radius: 0.25em;\n",
       "  color: var(--sklearn-color-text);\n",
       "  /* unfitted */\n",
       "  background-color: var(--sklearn-color-unfitted-level-0);\n",
       "}\n",
       "\n",
       "#sk-container-id-3 div.sk-toggleable__content.fitted pre {\n",
       "  /* unfitted */\n",
       "  background-color: var(--sklearn-color-fitted-level-0);\n",
       "}\n",
       "\n",
       "#sk-container-id-3 input.sk-toggleable__control:checked~div.sk-toggleable__content {\n",
       "  /* Expand drop-down */\n",
       "  max-height: 200px;\n",
       "  max-width: 100%;\n",
       "  overflow: auto;\n",
       "}\n",
       "\n",
       "#sk-container-id-3 input.sk-toggleable__control:checked~label.sk-toggleable__label-arrow:before {\n",
       "  content: \"▾\";\n",
       "}\n",
       "\n",
       "/* Pipeline/ColumnTransformer-specific style */\n",
       "\n",
       "#sk-container-id-3 div.sk-label input.sk-toggleable__control:checked~label.sk-toggleable__label {\n",
       "  color: var(--sklearn-color-text);\n",
       "  background-color: var(--sklearn-color-unfitted-level-2);\n",
       "}\n",
       "\n",
       "#sk-container-id-3 div.sk-label.fitted input.sk-toggleable__control:checked~label.sk-toggleable__label {\n",
       "  background-color: var(--sklearn-color-fitted-level-2);\n",
       "}\n",
       "\n",
       "/* Estimator-specific style */\n",
       "\n",
       "/* Colorize estimator box */\n",
       "#sk-container-id-3 div.sk-estimator input.sk-toggleable__control:checked~label.sk-toggleable__label {\n",
       "  /* unfitted */\n",
       "  background-color: var(--sklearn-color-unfitted-level-2);\n",
       "}\n",
       "\n",
       "#sk-container-id-3 div.sk-estimator.fitted input.sk-toggleable__control:checked~label.sk-toggleable__label {\n",
       "  /* fitted */\n",
       "  background-color: var(--sklearn-color-fitted-level-2);\n",
       "}\n",
       "\n",
       "#sk-container-id-3 div.sk-label label.sk-toggleable__label,\n",
       "#sk-container-id-3 div.sk-label label {\n",
       "  /* The background is the default theme color */\n",
       "  color: var(--sklearn-color-text-on-default-background);\n",
       "}\n",
       "\n",
       "/* On hover, darken the color of the background */\n",
       "#sk-container-id-3 div.sk-label:hover label.sk-toggleable__label {\n",
       "  color: var(--sklearn-color-text);\n",
       "  background-color: var(--sklearn-color-unfitted-level-2);\n",
       "}\n",
       "\n",
       "/* Label box, darken color on hover, fitted */\n",
       "#sk-container-id-3 div.sk-label.fitted:hover label.sk-toggleable__label.fitted {\n",
       "  color: var(--sklearn-color-text);\n",
       "  background-color: var(--sklearn-color-fitted-level-2);\n",
       "}\n",
       "\n",
       "/* Estimator label */\n",
       "\n",
       "#sk-container-id-3 div.sk-label label {\n",
       "  font-family: monospace;\n",
       "  font-weight: bold;\n",
       "  display: inline-block;\n",
       "  line-height: 1.2em;\n",
       "}\n",
       "\n",
       "#sk-container-id-3 div.sk-label-container {\n",
       "  text-align: center;\n",
       "}\n",
       "\n",
       "/* Estimator-specific */\n",
       "#sk-container-id-3 div.sk-estimator {\n",
       "  font-family: monospace;\n",
       "  border: 1px dotted var(--sklearn-color-border-box);\n",
       "  border-radius: 0.25em;\n",
       "  box-sizing: border-box;\n",
       "  margin-bottom: 0.5em;\n",
       "  /* unfitted */\n",
       "  background-color: var(--sklearn-color-unfitted-level-0);\n",
       "}\n",
       "\n",
       "#sk-container-id-3 div.sk-estimator.fitted {\n",
       "  /* fitted */\n",
       "  background-color: var(--sklearn-color-fitted-level-0);\n",
       "}\n",
       "\n",
       "/* on hover */\n",
       "#sk-container-id-3 div.sk-estimator:hover {\n",
       "  /* unfitted */\n",
       "  background-color: var(--sklearn-color-unfitted-level-2);\n",
       "}\n",
       "\n",
       "#sk-container-id-3 div.sk-estimator.fitted:hover {\n",
       "  /* fitted */\n",
       "  background-color: var(--sklearn-color-fitted-level-2);\n",
       "}\n",
       "\n",
       "/* Specification for estimator info (e.g. \"i\" and \"?\") */\n",
       "\n",
       "/* Common style for \"i\" and \"?\" */\n",
       "\n",
       ".sk-estimator-doc-link,\n",
       "a:link.sk-estimator-doc-link,\n",
       "a:visited.sk-estimator-doc-link {\n",
       "  float: right;\n",
       "  font-size: smaller;\n",
       "  line-height: 1em;\n",
       "  font-family: monospace;\n",
       "  background-color: var(--sklearn-color-background);\n",
       "  border-radius: 1em;\n",
       "  height: 1em;\n",
       "  width: 1em;\n",
       "  text-decoration: none !important;\n",
       "  margin-left: 1ex;\n",
       "  /* unfitted */\n",
       "  border: var(--sklearn-color-unfitted-level-1) 1pt solid;\n",
       "  color: var(--sklearn-color-unfitted-level-1);\n",
       "}\n",
       "\n",
       ".sk-estimator-doc-link.fitted,\n",
       "a:link.sk-estimator-doc-link.fitted,\n",
       "a:visited.sk-estimator-doc-link.fitted {\n",
       "  /* fitted */\n",
       "  border: var(--sklearn-color-fitted-level-1) 1pt solid;\n",
       "  color: var(--sklearn-color-fitted-level-1);\n",
       "}\n",
       "\n",
       "/* On hover */\n",
       "div.sk-estimator:hover .sk-estimator-doc-link:hover,\n",
       ".sk-estimator-doc-link:hover,\n",
       "div.sk-label-container:hover .sk-estimator-doc-link:hover,\n",
       ".sk-estimator-doc-link:hover {\n",
       "  /* unfitted */\n",
       "  background-color: var(--sklearn-color-unfitted-level-3);\n",
       "  color: var(--sklearn-color-background);\n",
       "  text-decoration: none;\n",
       "}\n",
       "\n",
       "div.sk-estimator.fitted:hover .sk-estimator-doc-link.fitted:hover,\n",
       ".sk-estimator-doc-link.fitted:hover,\n",
       "div.sk-label-container:hover .sk-estimator-doc-link.fitted:hover,\n",
       ".sk-estimator-doc-link.fitted:hover {\n",
       "  /* fitted */\n",
       "  background-color: var(--sklearn-color-fitted-level-3);\n",
       "  color: var(--sklearn-color-background);\n",
       "  text-decoration: none;\n",
       "}\n",
       "\n",
       "/* Span, style for the box shown on hovering the info icon */\n",
       ".sk-estimator-doc-link span {\n",
       "  display: none;\n",
       "  z-index: 9999;\n",
       "  position: relative;\n",
       "  font-weight: normal;\n",
       "  right: .2ex;\n",
       "  padding: .5ex;\n",
       "  margin: .5ex;\n",
       "  width: min-content;\n",
       "  min-width: 20ex;\n",
       "  max-width: 50ex;\n",
       "  color: var(--sklearn-color-text);\n",
       "  box-shadow: 2pt 2pt 4pt #999;\n",
       "  /* unfitted */\n",
       "  background: var(--sklearn-color-unfitted-level-0);\n",
       "  border: .5pt solid var(--sklearn-color-unfitted-level-3);\n",
       "}\n",
       "\n",
       ".sk-estimator-doc-link.fitted span {\n",
       "  /* fitted */\n",
       "  background: var(--sklearn-color-fitted-level-0);\n",
       "  border: var(--sklearn-color-fitted-level-3);\n",
       "}\n",
       "\n",
       ".sk-estimator-doc-link:hover span {\n",
       "  display: block;\n",
       "}\n",
       "\n",
       "/* \"?\"-specific style due to the `<a>` HTML tag */\n",
       "\n",
       "#sk-container-id-3 a.estimator_doc_link {\n",
       "  float: right;\n",
       "  font-size: 1rem;\n",
       "  line-height: 1em;\n",
       "  font-family: monospace;\n",
       "  background-color: var(--sklearn-color-background);\n",
       "  border-radius: 1rem;\n",
       "  height: 1rem;\n",
       "  width: 1rem;\n",
       "  text-decoration: none;\n",
       "  /* unfitted */\n",
       "  color: var(--sklearn-color-unfitted-level-1);\n",
       "  border: var(--sklearn-color-unfitted-level-1) 1pt solid;\n",
       "}\n",
       "\n",
       "#sk-container-id-3 a.estimator_doc_link.fitted {\n",
       "  /* fitted */\n",
       "  border: var(--sklearn-color-fitted-level-1) 1pt solid;\n",
       "  color: var(--sklearn-color-fitted-level-1);\n",
       "}\n",
       "\n",
       "/* On hover */\n",
       "#sk-container-id-3 a.estimator_doc_link:hover {\n",
       "  /* unfitted */\n",
       "  background-color: var(--sklearn-color-unfitted-level-3);\n",
       "  color: var(--sklearn-color-background);\n",
       "  text-decoration: none;\n",
       "}\n",
       "\n",
       "#sk-container-id-3 a.estimator_doc_link.fitted:hover {\n",
       "  /* fitted */\n",
       "  background-color: var(--sklearn-color-fitted-level-3);\n",
       "}\n",
       "</style><div id=\"sk-container-id-3\" class=\"sk-top-container\"><div class=\"sk-text-repr-fallback\"><pre>RandomForestRegressor(max_depth=7, min_samples_leaf=2, min_samples_split=4,\n",
       "                      n_estimators=880)</pre><b>In a Jupyter environment, please rerun this cell to show the HTML representation or trust the notebook. <br />On GitHub, the HTML representation is unable to render, please try loading this page with nbviewer.org.</b></div><div class=\"sk-container\" hidden><div class=\"sk-item\"><div class=\"sk-estimator fitted sk-toggleable\"><input class=\"sk-toggleable__control sk-hidden--visually\" id=\"sk-estimator-id-3\" type=\"checkbox\" checked><label for=\"sk-estimator-id-3\" class=\"sk-toggleable__label fitted sk-toggleable__label-arrow fitted\">&nbsp;&nbsp;RandomForestRegressor<a class=\"sk-estimator-doc-link fitted\" rel=\"noreferrer\" target=\"_blank\" href=\"https://scikit-learn.org/1.5/modules/generated/sklearn.ensemble.RandomForestRegressor.html\">?<span>Documentation for RandomForestRegressor</span></a><span class=\"sk-estimator-doc-link fitted\">i<span>Fitted</span></span></label><div class=\"sk-toggleable__content fitted\"><pre>RandomForestRegressor(max_depth=7, min_samples_leaf=2, min_samples_split=4,\n",
       "                      n_estimators=880)</pre></div> </div></div></div></div>"
      ],
      "text/plain": [
       "RandomForestRegressor(max_depth=7, min_samples_leaf=2, min_samples_split=4,\n",
       "                      n_estimators=880)"
      ]
     },
     "execution_count": 939,
     "metadata": {},
     "output_type": "execute_result"
    }
   ],
   "source": [
    "best_model_rf_ov = RandomForestRegressor(**rf_best_params)\n",
    "best_model_rf_ov.fit(X, y)"
   ]
  },
  {
   "cell_type": "code",
   "execution_count": 964,
   "id": "5459845d-bfec-448a-83bf-0c3d5f0a5632",
   "metadata": {},
   "outputs": [
    {
     "name": "stdout",
     "output_type": "stream",
     "text": [
      "Validation - Random Forest RMSE: 1034.0627060615232\n"
     ]
    }
   ],
   "source": [
    "pred = best_model_rf_ov.predict(X)\n",
    "print(\"Validation - Random Forest RMSE:\", np.sqrt(mean_squared_error(y, pred)))"
   ]
  },
  {
   "cell_type": "code",
   "execution_count": 255,
   "id": "d812e516-6c84-45af-8a2d-739a5b9b8fa2",
   "metadata": {},
   "outputs": [
    {
     "data": {
      "text/plain": [
       "['Item_Weight',\n",
       " 'Item_Visibility',\n",
       " 'Item_MRP',\n",
       " 'Item_Visibility_MeanRatio',\n",
       " 'Outlet_Lifetime',\n",
       " 'Item_Fat_Content_Regular',\n",
       " 'Item_Fat_Content_bad',\n",
       " 'Item_Type_Extracted_FD',\n",
       " 'Item_Type_Extracted_NC',\n",
       " 'Outlet_Size_Medium',\n",
       " 'Outlet_Size_Small',\n",
       " 'Outlet_Location_Type_Tier 2',\n",
       " 'Outlet_Location_Type_Tier 3',\n",
       " 'Outlet_Type_Supermarket Type1',\n",
       " 'Outlet_Type_Supermarket Type2',\n",
       " 'Outlet_Type_Supermarket Type3',\n",
       " 'Outlet_Identifier_OUT013',\n",
       " 'Outlet_Identifier_OUT017',\n",
       " 'Outlet_Identifier_OUT018',\n",
       " 'Outlet_Identifier_OUT019',\n",
       " 'Outlet_Identifier_OUT027',\n",
       " 'Outlet_Identifier_OUT035',\n",
       " 'Outlet_Identifier_OUT045',\n",
       " 'Outlet_Identifier_OUT046',\n",
       " 'Outlet_Identifier_OUT049']"
      ]
     },
     "execution_count": 255,
     "metadata": {},
     "output_type": "execute_result"
    }
   ],
   "source": [
    "trainable_cols"
   ]
  },
  {
   "cell_type": "code",
   "execution_count": 257,
   "id": "e6df98d4-8f34-4f21-81f7-6bf140c3792c",
   "metadata": {},
   "outputs": [],
   "source": [
    "X_test = test[trainable_cols]"
   ]
  },
  {
   "cell_type": "code",
   "execution_count": 947,
   "id": "254309fa-aa76-4e8d-8638-71b7d9eaf658",
   "metadata": {},
   "outputs": [],
   "source": [
    "test_preds_rf = best_model_rf_ov.predict(X_test)"
   ]
  },
  {
   "cell_type": "code",
   "execution_count": 261,
   "id": "774565aa-8b4f-4273-916e-ecfed03070bb",
   "metadata": {},
   "outputs": [],
   "source": [
    "test_preds_xgb = best_model_xgb.predict(X_test)"
   ]
  },
  {
   "cell_type": "code",
   "execution_count": 265,
   "id": "199543d0-cde5-4802-a726-13bafc99c5ea",
   "metadata": {},
   "outputs": [],
   "source": [
    "# Prepare Submission\n",
    "submission = test_ids.copy()\n",
    "submission['Item_Outlet_Sales'] = test_preds_xgb"
   ]
  },
  {
   "cell_type": "code",
   "execution_count": 267,
   "id": "240b5b06-58c7-4b41-b25e-a365379dbd5e",
   "metadata": {},
   "outputs": [],
   "source": [
    "submission.to_csv('submission_xgb.csv', index=False)"
   ]
  },
  {
   "cell_type": "code",
   "execution_count": 270,
   "id": "2467a328-aac4-4347-9b1e-7ed19549e9a2",
   "metadata": {},
   "outputs": [
    {
     "data": {
      "text/plain": [
       "count    5681.000000\n",
       "mean     2185.289795\n",
       "std      1286.455933\n",
       "min      -165.047684\n",
       "25%      1136.986572\n",
       "50%      2075.168457\n",
       "75%      3070.417969\n",
       "max      6644.360840\n",
       "Name: Item_Outlet_Sales, dtype: float64"
      ]
     },
     "execution_count": 270,
     "metadata": {},
     "output_type": "execute_result"
    }
   ],
   "source": [
    "submission.Item_Outlet_Sales.describe()"
   ]
  },
  {
   "cell_type": "code",
   "execution_count": 273,
   "id": "761a34a9-6f9c-43f3-bb85-58f5ee48fa9f",
   "metadata": {},
   "outputs": [
    {
     "data": {
      "text/plain": [
       "(4, 3)"
      ]
     },
     "execution_count": 273,
     "metadata": {},
     "output_type": "execute_result"
    }
   ],
   "source": [
    "submission[submission['Item_Outlet_Sales']<0].shape"
   ]
  },
  {
   "cell_type": "markdown",
   "id": "f6120da8-84e5-4785-96c4-873b64e38936",
   "metadata": {},
   "source": [
    "Some has negative `Item_Outlet_Sales` value lets fix it."
   ]
  },
  {
   "cell_type": "code",
   "execution_count": 276,
   "id": "38568ec4-459d-4117-9a6e-f854bfef445b",
   "metadata": {},
   "outputs": [],
   "source": [
    "submission['Item_Outlet_Sales'] = submission['Item_Outlet_Sales'].apply(lambda x: max(0,x))"
   ]
  },
  {
   "cell_type": "code",
   "execution_count": 278,
   "id": "7e06ed70-f597-4639-8f9a-39d7b304e5de",
   "metadata": {},
   "outputs": [],
   "source": [
    "submission.to_csv('submission_xgb_1.csv', index=False)"
   ]
  },
  {
   "cell_type": "code",
   "execution_count": null,
   "id": "f5f1038d-bb69-4c66-b967-30e8fe06d0a3",
   "metadata": {},
   "outputs": [],
   "source": []
  }
 ],
 "metadata": {
  "kernelspec": {
   "display_name": "Python [conda env:base] *",
   "language": "python",
   "name": "conda-base-py"
  },
  "language_info": {
   "codemirror_mode": {
    "name": "ipython",
    "version": 3
   },
   "file_extension": ".py",
   "mimetype": "text/x-python",
   "name": "python",
   "nbconvert_exporter": "python",
   "pygments_lexer": "ipython3",
   "version": "3.12.7"
  }
 },
 "nbformat": 4,
 "nbformat_minor": 5
}
